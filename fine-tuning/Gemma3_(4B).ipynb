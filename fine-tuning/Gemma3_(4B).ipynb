{
  "cells": [
    {
      "cell_type": "markdown",
      "metadata": {
        "id": "qcTEloPoprdC"
      },
      "source": [
        "To run this, press \"*Runtime*\" and press \"*Run all*\" on a **free** Tesla T4 Google Colab instance!\n",
        "<div class=\"align-center\">\n",
        "<a href=\"https://unsloth.ai/\"><img src=\"https://github.com/unslothai/unsloth/raw/main/images/unsloth%20new%20logo.png\" width=\"115\"></a>\n",
        "<a href=\"https://discord.gg/unsloth\"><img src=\"https://github.com/unslothai/unsloth/raw/main/images/Discord button.png\" width=\"145\"></a>\n",
        "<a href=\"https://docs.unsloth.ai/\"><img src=\"https://github.com/unslothai/unsloth/blob/main/images/documentation%20green%20button.png?raw=true\" width=\"125\"></a></a> Join Discord if you need help + ⭐ <i>Star us on <a href=\"https://github.com/unslothai/unsloth\">Github</a> </i> ⭐\n",
        "</div>\n",
        "\n",
        "To install Unsloth on your own computer, follow the installation instructions on our Github page [here](https://docs.unsloth.ai/get-started/installing-+-updating).\n",
        "\n",
        "You will learn how to do [data prep](#Data), how to [train](#Train), how to [run the model](#Inference), & [how to save it](#Save)\n"
      ]
    },
    {
      "cell_type": "markdown",
      "metadata": {
        "id": "lFMol9eGprdD"
      },
      "source": [
        "### News"
      ]
    },
    {
      "cell_type": "markdown",
      "metadata": {
        "id": "PxFYJPo8prdE"
      },
      "source": [
        "Unsloth now supports Text-to-Speech (TTS) models. Read our [guide here](https://docs.unsloth.ai/basics/text-to-speech-tts-fine-tuning).\n",
        "\n",
        "Read our **[Qwen3 Guide](https://docs.unsloth.ai/basics/qwen3-how-to-run-and-fine-tune)** and check out our new **[Dynamic 2.0](https://docs.unsloth.ai/basics/unsloth-dynamic-2.0-ggufs)** quants which outperforms other quantization methods!\n",
        "\n",
        "Visit our docs for all our [model uploads](https://docs.unsloth.ai/get-started/all-our-models) and [notebooks](https://docs.unsloth.ai/get-started/unsloth-notebooks).\n"
      ]
    },
    {
      "cell_type": "markdown",
      "metadata": {
        "id": "HwTJxSTwprdE"
      },
      "source": [
        "### Installation"
      ]
    },
    {
      "cell_type": "code",
      "execution_count": 17,
      "metadata": {
        "id": "ddnlQCviprdE"
      },
      "outputs": [],
      "source": [
        "%%capture\n",
        "import os\n",
        "if \"COLAB_\" not in \"\".join(os.environ.keys()):\n",
        "    !pip install unsloth\n",
        "else:\n",
        "    # Do this only in Colab notebooks! Otherwise use pip install unsloth\n",
        "    !pip install --no-deps bitsandbytes accelerate xformers==0.0.29.post3 peft trl==0.15.2 triton cut_cross_entropy unsloth_zoo\n",
        "    !pip install sentencepiece protobuf \"datasets>=3.4.1\" huggingface_hub hf_transfer\n",
        "    !pip install transformers==4.51.3\n",
        "    !pip install --no-deps unsloth"
      ]
    },
    {
      "cell_type": "markdown",
      "metadata": {
        "id": "TGMWlrRdzwgf"
      },
      "source": [
        "### Unsloth\n",
        "\n",
        "`FastModel` supports loading nearly any model now! This includes Vision and Text models!"
      ]
    },
    {
      "cell_type": "code",
      "execution_count": 18,
      "metadata": {
        "colab": {
          "base_uri": "https://localhost:8080/"
        },
        "id": "-Xbb0cuLzwgf",
        "outputId": "adc05395-7bc7-4982-fd2e-b26dd0ba2d97"
      },
      "outputs": [
        {
          "name": "stdout",
          "output_type": "stream",
          "text": [
            "==((====))==  Unsloth 2025.5.9: Fast Gemma3 patching. Transformers: 4.51.3.\n",
            "   \\\\   /|    Tesla T4. Num GPUs = 1. Max memory: 14.741 GB. Platform: Linux.\n",
            "O^O/ \\_/ \\    Torch: 2.6.0+cu124. CUDA: 7.5. CUDA Toolkit: 12.4. Triton: 3.2.0\n",
            "\\        /    Bfloat16 = FALSE. FA [Xformers = 0.0.29.post3. FA2 = False]\n",
            " \"-____-\"     Free license: http://github.com/unslothai/unsloth\n",
            "Unsloth: Fast downloading is enabled - ignore downloading bars which are red colored!\n",
            "Unsloth: Using float16 precision for gemma3 won't work! Using float32.\n"
          ]
        }
      ],
      "source": [
        "from unsloth import FastModel\n",
        "import torch\n",
        "\n",
        "fourbit_models = [\n",
        "    # 4bit dynamic quants for superior accuracy and low memory use\n",
        "    \"unsloth/gemma-3-1b-it-unsloth-bnb-4bit\",\n",
        "    \"unsloth/gemma-3-4b-it-unsloth-bnb-4bit\",\n",
        "    \"unsloth/gemma-3-12b-it-unsloth-bnb-4bit\",\n",
        "    \"unsloth/gemma-3-27b-it-unsloth-bnb-4bit\",\n",
        "\n",
        "    # Other popular models!\n",
        "    \"unsloth/Llama-3.1-8B\",\n",
        "    \"unsloth/Llama-3.2-3B\",\n",
        "    \"unsloth/Llama-3.3-70B\",\n",
        "    \"unsloth/mistral-7b-instruct-v0.3\",\n",
        "    \"unsloth/Phi-4\",\n",
        "] # More models at https://huggingface.co/unsloth\n",
        "\n",
        "model, tokenizer = FastModel.from_pretrained(\n",
        "    model_name = \"unsloth/gemma-3-4b-it\",\n",
        "    max_seq_length = 2048, # Choose any for long context!\n",
        "    load_in_4bit = True,  # 4 bit quantization to reduce memory\n",
        "    load_in_8bit = False, # [NEW!] A bit more accurate, uses 2x memory\n",
        "    full_finetuning = False, # [NEW!] We have full finetuning now!\n",
        "    # token = \"hf_...\", # use one if using gated models\n",
        ")"
      ]
    },
    {
      "cell_type": "markdown",
      "metadata": {
        "id": "SXd9bTZd1aaL"
      },
      "source": [
        "We now add LoRA adapters so we only need to update a small amount of parameters!"
      ]
    },
    {
      "cell_type": "code",
      "execution_count": 19,
      "metadata": {
        "colab": {
          "base_uri": "https://localhost:8080/"
        },
        "id": "6bZsfBuZDeCL",
        "outputId": "08cb0f1d-1c59-4042-aea1-87a182846ed3"
      },
      "outputs": [
        {
          "name": "stdout",
          "output_type": "stream",
          "text": [
            "Unsloth: Making `model.base_model.model.language_model.model` require gradients\n"
          ]
        }
      ],
      "source": [
        "model = FastModel.get_peft_model(\n",
        "    model,\n",
        "    finetune_vision_layers     = False, # Turn off for just text!\n",
        "    finetune_language_layers   = True,  # Should leave on!\n",
        "    finetune_attention_modules = True,  # Attention good for GRPO\n",
        "    finetune_mlp_modules       = True,  # SHould leave on always!\n",
        "\n",
        "    r = 8,           # Larger = higher accuracy, but might overfit\n",
        "    lora_alpha = 8,  # Recommended alpha == r at least\n",
        "    lora_dropout = 0,\n",
        "    bias = \"none\",\n",
        "    random_state = 3407,\n",
        ")"
      ]
    },
    {
      "cell_type": "markdown",
      "metadata": {
        "id": "vITh0KVJ10qX"
      },
      "source": [
        "<a name=\"Data\"></a>\n",
        "### Data Prep\n",
        "We now use the `Gemma-3` format for conversation style finetunes. We use [Maxime Labonne's FineTome-100k](https://huggingface.co/datasets/mlabonne/FineTome-100k) dataset in ShareGPT style. Gemma-3 renders multi turn conversations like below:\n",
        "\n",
        "```\n",
        "<bos><start_of_turn>user\n",
        "Hello!<end_of_turn>\n",
        "<start_of_turn>model\n",
        "Hey there!<end_of_turn>\n",
        "```\n",
        "\n",
        "We use our `get_chat_template` function to get the correct chat template. We support `zephyr, chatml, mistral, llama, alpaca, vicuna, vicuna_old, phi3, llama3, phi4, qwen2.5, gemma3` and more."
      ]
    },
    {
      "cell_type": "code",
      "execution_count": 20,
      "metadata": {
        "id": "LjY75GoYUCB8"
      },
      "outputs": [],
      "source": [
        "from unsloth.chat_templates import get_chat_template\n",
        "tokenizer = get_chat_template(\n",
        "    tokenizer,\n",
        "    chat_template = \"gemma-3\",\n",
        ")"
      ]
    },
    {
      "cell_type": "code",
      "execution_count": null,
      "metadata": {
        "id": "Mkq4RvEq7FQr"
      },
      "outputs": [],
      "source": [
        "from datasets import load_dataset\n",
        "dataset = load_dataset(\"mlabonne/FineTome-100k\", split = \"train\")"
      ]
    },
    {
      "cell_type": "markdown",
      "metadata": {
        "id": "K9CBpiISFa6C"
      },
      "source": [
        "We now use `standardize_data_formats` to try converting datasets to the correct format for finetuning purposes!"
      ]
    },
    {
      "cell_type": "code",
      "execution_count": 21,
      "metadata": {
        "colab": {
          "base_uri": "https://localhost:8080/",
          "height": 74
        },
        "id": "_qXoHGqCqs6U",
        "outputId": "298e4e19-b515-4d7a-b24e-351f193fa514"
      },
      "outputs": [
        {
          "data": {
            "text/html": [
              "\n",
              "     <input type=\"file\" id=\"files-1212058e-1c78-45f9-8359-7140172943b1\" name=\"files[]\" multiple disabled\n",
              "        style=\"border:none\" />\n",
              "     <output id=\"result-1212058e-1c78-45f9-8359-7140172943b1\">\n",
              "      Upload widget is only available when the cell has been executed in the\n",
              "      current browser session. Please rerun this cell to enable.\n",
              "      </output>\n",
              "      <script>// Copyright 2017 Google LLC\n",
              "//\n",
              "// Licensed under the Apache License, Version 2.0 (the \"License\");\n",
              "// you may not use this file except in compliance with the License.\n",
              "// You may obtain a copy of the License at\n",
              "//\n",
              "//      http://www.apache.org/licenses/LICENSE-2.0\n",
              "//\n",
              "// Unless required by applicable law or agreed to in writing, software\n",
              "// distributed under the License is distributed on an \"AS IS\" BASIS,\n",
              "// WITHOUT WARRANTIES OR CONDITIONS OF ANY KIND, either express or implied.\n",
              "// See the License for the specific language governing permissions and\n",
              "// limitations under the License.\n",
              "\n",
              "/**\n",
              " * @fileoverview Helpers for google.colab Python module.\n",
              " */\n",
              "(function(scope) {\n",
              "function span(text, styleAttributes = {}) {\n",
              "  const element = document.createElement('span');\n",
              "  element.textContent = text;\n",
              "  for (const key of Object.keys(styleAttributes)) {\n",
              "    element.style[key] = styleAttributes[key];\n",
              "  }\n",
              "  return element;\n",
              "}\n",
              "\n",
              "// Max number of bytes which will be uploaded at a time.\n",
              "const MAX_PAYLOAD_SIZE = 100 * 1024;\n",
              "\n",
              "function _uploadFiles(inputId, outputId) {\n",
              "  const steps = uploadFilesStep(inputId, outputId);\n",
              "  const outputElement = document.getElementById(outputId);\n",
              "  // Cache steps on the outputElement to make it available for the next call\n",
              "  // to uploadFilesContinue from Python.\n",
              "  outputElement.steps = steps;\n",
              "\n",
              "  return _uploadFilesContinue(outputId);\n",
              "}\n",
              "\n",
              "// This is roughly an async generator (not supported in the browser yet),\n",
              "// where there are multiple asynchronous steps and the Python side is going\n",
              "// to poll for completion of each step.\n",
              "// This uses a Promise to block the python side on completion of each step,\n",
              "// then passes the result of the previous step as the input to the next step.\n",
              "function _uploadFilesContinue(outputId) {\n",
              "  const outputElement = document.getElementById(outputId);\n",
              "  const steps = outputElement.steps;\n",
              "\n",
              "  const next = steps.next(outputElement.lastPromiseValue);\n",
              "  return Promise.resolve(next.value.promise).then((value) => {\n",
              "    // Cache the last promise value to make it available to the next\n",
              "    // step of the generator.\n",
              "    outputElement.lastPromiseValue = value;\n",
              "    return next.value.response;\n",
              "  });\n",
              "}\n",
              "\n",
              "/**\n",
              " * Generator function which is called between each async step of the upload\n",
              " * process.\n",
              " * @param {string} inputId Element ID of the input file picker element.\n",
              " * @param {string} outputId Element ID of the output display.\n",
              " * @return {!Iterable<!Object>} Iterable of next steps.\n",
              " */\n",
              "function* uploadFilesStep(inputId, outputId) {\n",
              "  const inputElement = document.getElementById(inputId);\n",
              "  inputElement.disabled = false;\n",
              "\n",
              "  const outputElement = document.getElementById(outputId);\n",
              "  outputElement.innerHTML = '';\n",
              "\n",
              "  const pickedPromise = new Promise((resolve) => {\n",
              "    inputElement.addEventListener('change', (e) => {\n",
              "      resolve(e.target.files);\n",
              "    });\n",
              "  });\n",
              "\n",
              "  const cancel = document.createElement('button');\n",
              "  inputElement.parentElement.appendChild(cancel);\n",
              "  cancel.textContent = 'Cancel upload';\n",
              "  const cancelPromise = new Promise((resolve) => {\n",
              "    cancel.onclick = () => {\n",
              "      resolve(null);\n",
              "    };\n",
              "  });\n",
              "\n",
              "  // Wait for the user to pick the files.\n",
              "  const files = yield {\n",
              "    promise: Promise.race([pickedPromise, cancelPromise]),\n",
              "    response: {\n",
              "      action: 'starting',\n",
              "    }\n",
              "  };\n",
              "\n",
              "  cancel.remove();\n",
              "\n",
              "  // Disable the input element since further picks are not allowed.\n",
              "  inputElement.disabled = true;\n",
              "\n",
              "  if (!files) {\n",
              "    return {\n",
              "      response: {\n",
              "        action: 'complete',\n",
              "      }\n",
              "    };\n",
              "  }\n",
              "\n",
              "  for (const file of files) {\n",
              "    const li = document.createElement('li');\n",
              "    li.append(span(file.name, {fontWeight: 'bold'}));\n",
              "    li.append(span(\n",
              "        `(${file.type || 'n/a'}) - ${file.size} bytes, ` +\n",
              "        `last modified: ${\n",
              "            file.lastModifiedDate ? file.lastModifiedDate.toLocaleDateString() :\n",
              "                                    'n/a'} - `));\n",
              "    const percent = span('0% done');\n",
              "    li.appendChild(percent);\n",
              "\n",
              "    outputElement.appendChild(li);\n",
              "\n",
              "    const fileDataPromise = new Promise((resolve) => {\n",
              "      const reader = new FileReader();\n",
              "      reader.onload = (e) => {\n",
              "        resolve(e.target.result);\n",
              "      };\n",
              "      reader.readAsArrayBuffer(file);\n",
              "    });\n",
              "    // Wait for the data to be ready.\n",
              "    let fileData = yield {\n",
              "      promise: fileDataPromise,\n",
              "      response: {\n",
              "        action: 'continue',\n",
              "      }\n",
              "    };\n",
              "\n",
              "    // Use a chunked sending to avoid message size limits. See b/62115660.\n",
              "    let position = 0;\n",
              "    do {\n",
              "      const length = Math.min(fileData.byteLength - position, MAX_PAYLOAD_SIZE);\n",
              "      const chunk = new Uint8Array(fileData, position, length);\n",
              "      position += length;\n",
              "\n",
              "      const base64 = btoa(String.fromCharCode.apply(null, chunk));\n",
              "      yield {\n",
              "        response: {\n",
              "          action: 'append',\n",
              "          file: file.name,\n",
              "          data: base64,\n",
              "        },\n",
              "      };\n",
              "\n",
              "      let percentDone = fileData.byteLength === 0 ?\n",
              "          100 :\n",
              "          Math.round((position / fileData.byteLength) * 100);\n",
              "      percent.textContent = `${percentDone}% done`;\n",
              "\n",
              "    } while (position < fileData.byteLength);\n",
              "  }\n",
              "\n",
              "  // All done.\n",
              "  yield {\n",
              "    response: {\n",
              "      action: 'complete',\n",
              "    }\n",
              "  };\n",
              "}\n",
              "\n",
              "scope.google = scope.google || {};\n",
              "scope.google.colab = scope.google.colab || {};\n",
              "scope.google.colab._files = {\n",
              "  _uploadFiles,\n",
              "  _uploadFilesContinue,\n",
              "};\n",
              "})(self);\n",
              "</script> "
            ],
            "text/plain": [
              "<IPython.core.display.HTML object>"
            ]
          },
          "metadata": {},
          "output_type": "display_data"
        },
        {
          "name": "stdout",
          "output_type": "stream",
          "text": [
            "Saving dataset-2024-v2.json to dataset-2024-v2.json\n"
          ]
        }
      ],
      "source": [
        "from google.colab import files\n",
        "import json\n",
        "\n",
        "uploaded = files.upload()"
      ]
    },
    {
      "cell_type": "code",
      "execution_count": 22,
      "metadata": {
        "colab": {
          "base_uri": "https://localhost:8080/"
        },
        "id": "8XCOmlrUrAnC",
        "outputId": "35e16d1e-0388-46d1-8eec-c32c82dd2ae4"
      },
      "outputs": [
        {
          "name": "stdout",
          "output_type": "stream",
          "text": [
            "File 'dataset-2024-v2.json' loaded successfully!\n"
          ]
        }
      ],
      "source": [
        "6# Find the name of your uploaded file (useful if you only uploaded one)\n",
        "file_name = next(iter(uploaded)) # Gets the first (and likely only) key\n",
        "\n",
        "# Decode the bytes content to a UTF-8 string, then load the JSON\n",
        "dataset_full = json.loads(uploaded[file_name].decode('utf-8'))\n",
        "\n",
        "print(f\"File '{file_name}' loaded successfully!\")"
      ]
    },
    {
      "cell_type": "code",
      "execution_count": 24,
      "metadata": {
        "id": "WXBve_6hsOyy"
      },
      "outputs": [],
      "source": [
        "from datasets import Dataset\n",
        "def convert_dataset(input_dataset):\n",
        "    converted_records = []\n",
        "\n",
        "    # Process each record in the dataset\n",
        "    for record in input_dataset:\n",
        "        # Extract input and output from the original record\n",
        "        user_content = record['input']\n",
        "        assistant_content = record['output']\n",
        "\n",
        "        # Create the new format\n",
        "        converted_record = {\n",
        "            'conversations': [\n",
        "                {\n",
        "                    'content': user_content,\n",
        "                    'role': 'user'\n",
        "                },\n",
        "                {\n",
        "                    'content': assistant_content,\n",
        "                    'role': 'assistant'\n",
        "                }\n",
        "            ]\n",
        "        }\n",
        "\n",
        "        converted_records.append(converted_record)\n",
        "\n",
        "    # Create a new HuggingFace dataset from the converted records\n",
        "    converted_dataset = Dataset.from_list(converted_records)\n",
        "\n",
        "    return converted_dataset\n",
        "\n",
        "# Example usage\n",
        "\n",
        "\n",
        "# Convert the dataset\n",
        "converted_dataset = convert_dataset(dataset_full['train'])\n"
      ]
    },
    {
      "cell_type": "code",
      "execution_count": 25,
      "metadata": {
        "colab": {
          "base_uri": "https://localhost:8080/",
          "height": 49,
          "referenced_widgets": [
            "69544c8a58de4e9982c59bdfb280d6e9",
            "7f272177e2674f78b18754903431de56",
            "ffea977d06cb43fa873f6625c860828b",
            "1965ea9f8ea64107878f74ed0aa38608",
            "02d34225977f42eaa921e31b87fa0958",
            "f908c0f37f504bd1b7014e6bc3183f51",
            "f604d002b247414fa0c87c292ca0d58a",
            "9c7cff8ae9df4e979781a985009f1d61",
            "db32169018154efea59fb030dbbb15f8",
            "c6caf7ef80014fa1a7bc2363b1f8ca8e",
            "c9a913d06b494f898a06804d176c5197"
          ]
        },
        "id": "reoBXmAn7HlN",
        "outputId": "9a0245e8-de2d-4580-8523-540da65471ec"
      },
      "outputs": [
        {
          "data": {
            "application/vnd.jupyter.widget-view+json": {
              "model_id": "69544c8a58de4e9982c59bdfb280d6e9",
              "version_major": 2,
              "version_minor": 0
            },
            "text/plain": [
              "Unsloth: Standardizing formats (num_proc=8):   0%|          | 0/6128 [00:00<?, ? examples/s]"
            ]
          },
          "metadata": {},
          "output_type": "display_data"
        }
      ],
      "source": [
        "from unsloth.chat_templates import standardize_data_formats\n",
        "dataset = standardize_data_formats(converted_dataset)"
      ]
    },
    {
      "cell_type": "markdown",
      "metadata": {
        "id": "6i5Sx9In7vHi"
      },
      "source": [
        "Let's see how row 100 looks like!"
      ]
    },
    {
      "cell_type": "code",
      "execution_count": 11,
      "metadata": {
        "colab": {
          "base_uri": "https://localhost:8080/"
        },
        "id": "dzE1OEXi7s3P",
        "outputId": "3ed4ae75-9d6a-47c9-e496-83408f3478c5"
      },
      "outputs": [
        {
          "data": {
            "text/plain": [
              "{'conversations': [{'content': '**Vloga:** Ti si obveščevalec za promet na radiu.\\n**Cilj:** Preoblikovati vnosne prometne podatke v format primeren za radijsko oddajanje, strogo upoštevajoč spodnja pravila in strukturo Prebranih novic ne prepiši temveč na novo napiši po spodnjih navodilih.\\n\\n**Ključno:** Tvoj odgovor mora biti SAMO IN IZKLJUČNO besedilo med oznakama <START_TRAFFIC_REPORT> in <END_TRAFFIC_REPORT>. Vse ostalo besedilo je prepovedano.\\n\\n**Pravila za poimenovanje cest in smeri:**\\n* Ljubljana-Koper – Primorska avtocesta / proti Kopru/proti Ljubljani\\n* Ljubljana-Obrežje – Dolenjska avtocesta / proti Obrežju/ proti Ljubljani\\n* Ljubljana-Karavanke – Gorenjska avtocesta / proti Karavankam ali Avstriji/ proti Ljubljani\\n* Ljubljana-Maribor – Štajerska avtocesta / proti Mariboru/Ljubljani\\n* Maribor-Lendava – Pomurska avtocesta / proti Mariboru/ proti Lendavi/Madžarski\\n* Maribor-Gruškovje – Podravska avtocesta / proti Mariboru/ proti Gruškovju ali Hrvaški – nikoli proti Ptuju!\\n* Avtocestni odsek Razcep Gabrk – Fernetiči – proti Italiji/ ali proti primorski avtocesti, Kopru, Ljubljani (PAZI: to ni primorska avtocesta)\\n* Avtocestni odsek Maribor-Šentilj: od Maribora proti Šentilju ali od Šentilja proti Mariboru (ni štajerska avtocesta).\\n* Mariborska vzhodna obvoznica: med razcepom Slivnica in razcepom Dragučova – proti Avstriji/Lendavi ali proti Ljubljani (nikoli proti Mariboru).\\n* Nekdanja hitra cesta skozi Maribor: regionalna cesta Betnava-Pesnica (ne hitra cesta).\\n* Ljubljanska obvoznica (vzhodna, zahodna, severna, južna): Uporabi navedene relacije in smeri.\\n* Vipavska hitra cesta (razcep Nanos-Vrtojba): proti Italiji ali Vrtojbi/ proti Nanosu/ primorski avtocesti /proti Razdrtemu/v smeri Razdrtega (nikoli primorska hitra cesta).\\n* Obalna hitra cesta (razcep Srmin-Izola): proti Kopru/Portorožu (nikoli primorska hitra cesta).\\n* Hitra cesta Koper-Škofije: Na hitri cesti od Kopra proti Škofijam ali obratno.\\n* Hitra cesta mejni prehod Dolga vas-Dolga vas: Na hitri cesti od mejnega prehoda Dolga vas proti pomurski avtocesti ali obratno.\\n* Regionalna cesta ŠKOFJA LOKA – GORENJA VAS (škofjeloška obvoznica): proti Ljubljani/proti Gorenji vasi.\\n* Glavna cesta Ljubljana-Črnuče – Trzin: glavna cesta od Ljubljane proti Trzinu/ od Trzina proti Ljubljani.\\n* Končne destinacije na avtocestah: proti Avstriji/Karavankam, proti Hrvaški/Obrežju/Gruškovju, proti Madžarski (za ustrezne avtoceste).\\n\\n**Struktura prometne informacije:** (Ista pravila kot prej)\\n* Cesta in smer + razlog + posledica in odsek\\n* Razlog + cesta in smer + posledica in odsek\\n* Uporabi polna imena cest.\\n* Natančne formulacije za burjo in prepovedi prometa.\\n* Za dogodke na razcepih, v predorih ali pri počivališčih navedi širši odsek.\\n* Zastoje objavi pri vsaj 1 km.\\n\\n**IZPISNI FORMAT (med oznakama):**\\n<START_TRAFFIC_REPORT>\\n[Prometna informacija 1, oblikovana po pravilih]\\n\\n[Prometna informacija 2, oblikovana po pravilih]\\n\\n[Prometna informacija 3, oblikovana po pravilih]\\n<END_TRAFFIC_REPORT>\\n\\n**VHODNI PODATKI:**\\n<p><strong>Nesreče</strong></p><p>Na cesti Izola - Lucija, v Strunjanskem drevoredu oviran promet.</p><p><strong>Ovire</strong></p><p>Na vipavski hitri cesti v predoru Podnanos proti razcepu Nanos zaradi okvare vozila zaprt vozni pas.</p><p><strong>Zastoji</strong></p><p><strong>Na primorski avtocesti:</strong><br>- med Senožečami in Ljubljano, zamuda približno 1 ura;<br>- med Ljubljano in Brezovico.<br>Na regionalni cesti Razdrto - Postojna.</p><p><strong>Gorenjska:</strong><br>- Pred predorom Karavanke proti Avstriji 10 km. Na izvozu Lipce je promet dovoljen samo za lokalni promet proti Jesenicam in Kranjski Gori.<br>- Na cesti Lesce - Bled.</p><p>Na štajerski avtocesti pred prehodom Šentilj proti Avstriji, 1 km.</p><p><strong>Delo na cesti</strong></p><p><strong>Popolne zapore:</strong><br>- Cesta Ruše - Puščava pri Fali do 17. ure zaradi obnove mostu. <br>- Cesta Begunje - Bistrica med Slatno in Begunjami do 22. avgusta.<br><strong>- Cesta Litija - Zagorje, pri Šklendrovcu je ponovno odprta.</strong></p><p><strong>Napoved popolnih zapor zaradi del:</strong><br>- Cesta Kamnik - Stahovica bo med Kamnikom in Spodnjimi Stranjami zaprta od 12. avgusta od 7. ure do 21. avgusta do 17. ure. Obvoz je po lokalnih cestah Godič - Zduša - Mekinje. <br>- Na regionalni cesti Vrhnika - Brezovica - Ljubljana bodo pri avtocestnem priključku Brezovica ta vikend potekala dela. Občasno bo zaprt uvoz na avtocesto iz smeri Brezovice proti Ljubljani. Obvoz bo preko priključka Ljubljana Vič. </p><p><a href=\"https://www.promet.si/sl/aktualna-napoved\" target=\"_blank\">Več o delovnih zaporah v prometni napovedi</a>.</p><p><strong>Prireditve</strong></p><p>Kolesarska prireditev Ilirska Bistrica:<br>- V soboto, 10. avgusta, bodo med 11. in 23. uro zaprte posamezne ceste v Ilirski Bistrici in regionalna cesta proti Knežaku. <br>- V nedeljo, 11. avgusta, bo med 8. in 15. uro zaprta cesta Ilirska Bistrica - Snežnik. </p><p>Cesta Most na Soči - Kobarid bo v Mostu na soči zaprta v soboto, 10. avgusta, med 16. in 21. uro. Obvoz bo urejen. </p>\\n <p><strong>Nesreče</strong></p><p>Na cesti Izola - Lucija, v Strunjanskem drevoredu oviran promet.</p><p><strong>Ovire</strong></p><p>Na vipavski hitri cesti v predoru Podnanos proti razcepu Nanos zaradi okvare vozila zaprt vozni pas.</p><p><strong>Zastoji</strong></p><p><strong>Na primorski avtocesti:</strong><br>- med Senožečami in Ljubljano, zamuda približno 1 ura;<br>- med Ljubljano in Brezovico.<br>Na regionalni cesti Razdrto - Postojna.</p><p><strong>Na ljubljanski južni obvoznici </strong>med priključkoma Rudnik in Center v obe smeri.</p><p><strong>Gorenjska:</strong><br>- Pred predorom Karavanke proti Avstriji 10 km. Na izvozu Lipce je promet dovoljen samo za lokalni promet proti Jesenicam in Kranjski Gori.<br>- Na cesti Lesce - Bled.</p><p>Na štajerski avtocesti pred prehodom Šentilj proti Avstriji, 1 km.</p><p><strong>Delo na cesti</strong></p><p><strong>Popolne zapore:</strong><br>- Cesta Ruše - Puščava pri Fali do 17. ure zaradi obnove mostu. <br>- Cesta Begunje - Bistrica med Slatno in Begunjami do 22. avgusta.<br><strong>- Cesta Litija - Zagorje, pri Šklendrovcu je ponovno odprta.</strong></p><p><strong>Napoved popolnih zapor zaradi del:</strong><br>- Cesta Kamnik - Stahovica bo med Kamnikom in Spodnjimi Stranjami zaprta od 12. avgusta od 7. ure do 21. avgusta do 17. ure. Obvoz je po lokalnih cestah Godič - Zduša - Mekinje. <br>- Na regionalni cesti Vrhnika - Brezovica - Ljubljana bodo pri avtocestnem priključku Brezovica ta vikend potekala dela. Občasno bo zaprt uvoz na avtocesto iz smeri Brezovice proti Ljubljani. Obvoz bo preko priključka Ljubljana Vič. </p><p><a href=\"https://www.promet.si/sl/aktualna-napoved\" target=\"_blank\">Več o delovnih zaporah v prometni napovedi</a>.</p><p><strong>Prireditve</strong></p><p>Kolesarska prireditev Ilirska Bistrica:<br>- V soboto, 10. avgusta, bodo med 11. in 23. uro zaprte posamezne ceste v Ilirski Bistrici in regionalna cesta proti Knežaku. <br>- V nedeljo, 11. avgusta, bo med 8. in 15. uro zaprta cesta Ilirska Bistrica - Snežnik. </p><p>Cesta Most na Soči - Kobarid bo v Mostu na soči zaprta v soboto, 10. avgusta, med 16. in 21. uro. Obvoz bo urejen. </p>\\n <p><strong>Nesreče</strong></p><p>Na cesti Izola - Lucija, v Strunjanskem drevoredu oviran promet.</p><p>Na cesti Brezovica - Vrhnika, na Brezovici pri bencinskem servisu.</p><p><strong>Ovire</strong></p><p>Na vipavski hitri cesti v predoru Podnanos proti razcepu Nanos zaradi okvare vozila zaprt vozni pas.</p><p><strong>Zastoji</strong></p><p><strong>Na primorski avtocesti:</strong><br>- med Senožečami in Ljubljano, zamuda približno 1 ura;<br>- med Ljubljano in Brezovico.<br>Na regionalni cesti Razdrto - Postojna.</p><p><strong>Na ljubljanski južni obvoznici </strong>med priključkoma Rudnik in Center v obe smeri.</p><p><strong>Gorenjska:</strong><br>- Pred predorom Karavanke proti Avstriji 10 km. Na izvozu Lipce je promet dovoljen samo za lokalni promet proti Jesenicam in Kranjski Gori.<br>- Na cesti Lesce - Bled.</p><p>Na štajerski avtocesti pred prehodom Šentilj proti Avstriji, 1 km.</p><p><strong>Delo na cesti</strong></p><p><strong>Popolne zapore:</strong><br>- Cesta Ruše - Puščava pri Fali do 17. ure zaradi obnove mostu. <br>- Cesta Begunje - Bistrica med Slatno in Begunjami do 22. avgusta.<br><strong>- Cesta Litija - Zagorje, pri Šklendrovcu je ponovno odprta.</strong></p><p><strong>Napoved popolnih zapor zaradi del:</strong><br>- Cesta Kamnik - Stahovica bo med Kamnikom in Spodnjimi Stranjami zaprta od 12. avgusta od 7. ure do 21. avgusta do 17. ure. Obvoz je po lokalnih cestah Godič - Zduša - Mekinje. <br>- Na regionalni cesti Vrhnika - Brezovica - Ljubljana bodo pri avtocestnem priključku Brezovica ta vikend potekala dela. Občasno bo zaprt uvoz na avtocesto iz smeri Brezovice proti Ljubljani. Obvoz bo preko priključka Ljubljana Vič. </p><p><a href=\"https://www.promet.si/sl/aktualna-napoved\" target=\"_blank\">Več o delovnih zaporah v prometni napovedi</a>.</p><p><strong>Prireditve</strong></p><p>Kolesarska prireditev Ilirska Bistrica:<br>- V soboto, 10. avgusta, bodo med 11. in 23. uro zaprte posamezne ceste v Ilirski Bistrici in regionalna cesta proti Knežaku. <br>- V nedeljo, 11. avgusta, bo med 8. in 15. uro zaprta cesta Ilirska Bistrica - Snežnik. </p><p>Cesta Most na Soči - Kobarid bo v Mostu na soči zaprta v soboto, 10. avgusta, med 16. in 21. uro. Obvoz bo urejen. </p>\\n <p><strong>Nesreče</strong></p><p>Na cesti Brezovica - Vrhnika, na Brezovici pri bencinskem servisu.</p><p><strong>Ovire</strong></p><p>Na vipavski hitri cesti v predoru Podnanos proti razcepu Nanos zaradi okvare vozila zaprt vozni pas.</p><p><strong>Zastoji</strong></p><p><strong>Na primorski avtocesti:</strong><br>- med Senožečami in Ljubljano, zamuda približno 1 ura;<br>- med Ljubljano in Brezovico.<br>Na regionalni cesti Razdrto - Postojna.</p><p><strong>Na ljubljanski južni obvoznici </strong>med priključkoma Rudnik in Center v obe smeri.</p><p><strong>Gorenjska:</strong><br>- Pred predorom Karavanke proti Avstriji 10 km. Na izvozu Lipce je promet dovoljen samo za lokalni promet proti Jesenicam in Kranjski Gori.<br>- Na cesti Lesce - Bled.</p><p>Na štajerski avtocesti pred prehodom Šentilj proti Avstriji, 1 km.</p><p><strong>Delo na cesti</strong></p><p><strong>Popolne zapore:</strong><br>- Cesta Ruše - Puščava pri Fali do 17. ure zaradi obnove mostu. <br>- Cesta Begunje - Bistrica med Slatno in Begunjami do 22. avgusta.<br><strong>- Cesta Litija - Zagorje, pri Šklendrovcu je ponovno odprta.</strong></p><p><strong>Napoved popolnih zapor zaradi del:</strong><br>- Cesta Kamnik - Stahovica bo med Kamnikom in Spodnjimi Stranjami zaprta od 12. avgusta od 7. ure do 21. avgusta do 17. ure. Obvoz je po lokalnih cestah Godič - Zduša - Mekinje. <br>- Na regionalni cesti Vrhnika - Brezovica - Ljubljana bodo pri avtocestnem priključku Brezovica ta vikend potekala dela. Občasno bo zaprt uvoz na avtocesto iz smeri Brezovice proti Ljubljani. Obvoz bo preko priključka Ljubljana Vič. </p><p><a href=\"https://www.promet.si/sl/aktualna-napoved\" target=\"_blank\">Več o delovnih zaporah v prometni napovedi</a>.</p><p><strong>Prireditve</strong></p><p>Kolesarska prireditev Ilirska Bistrica:<br>- V soboto, 10. avgusta, bodo med 11. in 23. uro zaprte posamezne ceste v Ilirski Bistrici in regionalna cesta proti Knežaku. <br>- V nedeljo, 11. avgusta, bo med 8. in 15. uro zaprta cesta Ilirska Bistrica - Snežnik. </p><p>Cesta Most na Soči - Kobarid bo v Mostu na soči zaprta v soboto, 10. avgusta, med 16. in 21. uro. Obvoz bo urejen. </p>\\n <p><strong>Nesreče</strong></p><p>Na cesti Brezovica - Vrhnika, na Brezovici pri bencinskem servisu.</p><p><strong>Ovire</strong></p><p>Na vipavski hitri cesti v predoru Podnanos proti razcepu Nanos zaradi okvare vozila zaprt vozni pas.</p><p><strong>Zastoji</strong></p><p><strong>Na primorski avtocesti:</strong><br>- med Razdrtim in Ljubljano, zamuda približno 1 ura;<br>- med Ljubljano in Brezovico.<br>Na regionalni cesti Razdrto - Postojna.</p><p><strong>Na ljubljanski južni obvoznici </strong>med priključkoma Rudnik in Center v obe smeri.</p><p><strong>Gorenjska:</strong><br>- Pred predorom Karavanke proti Avstriji 10 km. Na izvozu Lipce je promet dovoljen samo za lokalni promet proti Jesenicam in Kranjski Gori.<br>- Na cesti Lesce - Bled.</p><p>Na štajerski avtocesti pred prehodom Šentilj proti Avstriji, 1 km.</p><p><strong>Delo na cesti</strong></p><p><strong>Popolne zapore:</strong><br>- Cesta Ruše - Puščava pri Fali do 17. ure zaradi obnove mostu. <br>- Cesta Begunje - Bistrica med Slatno in Begunjami do 22. avgusta.<br><strong>- Cesta Litija - Zagorje, pri Šklendrovcu je ponovno odprta.</strong></p><p><strong>Napoved popolnih zapor zaradi del:</strong><br>- Cesta Kamnik - Stahovica bo med Kamnikom in Spodnjimi Stranjami zaprta od 12. avgusta od 7. ure do 21. avgusta do 17. ure. Obvoz je po lokalnih cestah Godič - Zduša - Mekinje. <br>- Na regionalni cesti Vrhnika - Brezovica - Ljubljana bodo pri avtocestnem priključku Brezovica ta vikend potekala dela. Občasno bo zaprt uvoz na avtocesto iz smeri Brezovice proti Ljubljani. Obvoz bo preko priključka Ljubljana Vič. </p><p><a href=\"https://www.promet.si/sl/aktualna-napoved\" target=\"_blank\">Več o delovnih zaporah v prometni napovedi</a>.</p><p><strong>Prireditve</strong></p><p>Kolesarska prireditev Ilirska Bistrica:<br>- V soboto, 10. avgusta, bodo med 11. in 23. uro zaprte posamezne ceste v Ilirski Bistrici in regionalna cesta proti Knežaku. <br>- V nedeljo, 11. avgusta, bo med 8. in 15. uro zaprta cesta Ilirska Bistrica - Snežnik. </p><p>Cesta Most na Soči - Kobarid bo v Mostu na soči zaprta v soboto, 10. avgusta, med 16. in 21. uro. Obvoz bo urejen. </p>\\n <p><strong>Nesreče</strong></p><p>Na cesti Brezovica - Vrhnika, na Brezovici pri bencinskem servisu.</p><p><strong>Zastoji</strong></p><p><strong>Na primorski avtocesti:</strong><br>- med Razdrtim in Ljubljano, zamuda približno 1 ura;<br>- med Ljubljano in Brezovico.<br>Na regionalni cesti Razdrto - Postojna.</p><p><strong>Na ljubljanski južni obvoznici </strong>med priključkoma Rudnik in Center v obe smeri.</p><p><strong>Gorenjska:</strong><br>- Pred predorom Karavanke proti Avstriji 10 km. Na izvozu Lipce je promet dovoljen samo za lokalni promet proti Jesenicam in Kranjski Gori.<br>- Na cesti Lesce - Bled.</p><p>Na štajerski avtocesti pred prehodom Šentilj proti Avstriji, 1 km.</p><p><strong>Delo na cesti</strong></p><p><strong>Popolne zapore:</strong><br>- Cesta Ruše - Puščava pri Fali do 17. ure zaradi obnove mostu. <br>- Cesta Begunje - Bistrica med Slatno in Begunjami do 22. avgusta.<br><strong>- Cesta Litija - Zagorje, pri Šklendrovcu je ponovno odprta.</strong></p><p><strong>Napoved popolnih zapor zaradi del:</strong><br>- Cesta Kamnik - Stahovica bo med Kamnikom in Spodnjimi Stranjami zaprta od 12. avgusta od 7. ure do 21. avgusta do 17. ure. Obvoz je po lokalnih cestah Godič - Zduša - Mekinje. <br>- Na regionalni cesti Vrhnika - Brezovica - Ljubljana bodo pri avtocestnem priključku Brezovica ta vikend potekala dela. Občasno bo zaprt uvoz na avtocesto iz smeri Brezovice proti Ljubljani. Obvoz bo preko priključka Ljubljana Vič. </p><p><a href=\"https://www.promet.si/sl/aktualna-napoved\" target=\"_blank\">Več o delovnih zaporah v prometni napovedi</a>.</p><p><strong>Prireditve</strong></p><p>Kolesarska prireditev Ilirska Bistrica:<br>- V soboto, 10. avgusta, bodo med 11. in 23. uro zaprte posamezne ceste v Ilirski Bistrici in regionalna cesta proti Knežaku. <br>- V nedeljo, 11. avgusta, bo med 8. in 15. uro zaprta cesta Ilirska Bistrica - Snežnik. </p><p>Cesta Most na Soči - Kobarid bo v Mostu na soči zaprta v soboto, 10. avgusta, med 16. in 21. uro. Obvoz bo urejen. </p>\\n <p><strong>Nesreče</strong></p><p>Na cesti Brezovica - Vrhnika, na Brezovici pri bencinskem servisu oviran promet.</p><p><strong>Zastoji</strong></p><p><strong>Na primorski avtocesti:</strong><br>- med Razdrtim in Ljubljano, zamuda približno 1 ura;<br>- med Ljubljano in Brezovico.<br>Na regionalni cesti Razdrto - Postojna.</p><p><strong>Na ljubljanski južni obvoznici </strong>med priključkoma Rudnik in Center v obe smeri.</p><p><strong>Gorenjska:</strong><br>- Pred predorom Karavanke proti Avstriji 10 km. Na izvozu Lipce je promet dovoljen samo za lokalni promet proti Jesenicam in Kranjski Gori.<br>- Na cesti Lesce - Bled.</p><p>Na štajerski avtocesti pred prehodom Šentilj proti Avstriji, 1 km.</p><p><strong>Delo na cesti</strong></p><p><strong>Popolne zapore:</strong><br>- Cesta Ruše - Puščava pri Fali do 17. ure zaradi obnove mostu. <br>- Cesta Begunje - Bistrica med Slatno in Begunjami do 22. avgusta.<br><strong>- Cesta Litija - Zagorje, pri Šklendrovcu je ponovno odprta.</strong></p><p><strong>Napoved popolnih zapor zaradi del:</strong><br>- Cesta Kamnik - Stahovica bo med Kamnikom in Spodnjimi Stranjami zaprta od 12. avgusta od 7. ure do 21. avgusta do 17. ure. Obvoz je po lokalnih cestah Godič - Zduša - Mekinje. <br>- Na regionalni cesti Vrhnika - Brezovica - Ljubljana bodo pri avtocestnem priključku Brezovica ta vikend potekala dela. Občasno bo zaprt uvoz na avtocesto iz smeri Brezovice proti Ljubljani. Obvoz bo preko priključka Ljubljana Vič. </p><p><a href=\"https://www.promet.si/sl/aktualna-napoved\" target=\"_blank\">Več o delovnih zaporah v prometni napovedi</a>.</p><p><strong>Prireditve</strong></p><p>Kolesarska prireditev Ilirska Bistrica:<br>- V soboto, 10. avgusta, bodo med 11. in 23. uro zaprte posamezne ceste v Ilirski Bistrici in regionalna cesta proti Knežaku. <br>- V nedeljo, 11. avgusta, bo med 8. in 15. uro zaprta cesta Ilirska Bistrica - Snežnik. </p><p>Cesta Most na Soči - Kobarid bo v Mostu na soči zaprta v soboto, 10. avgusta, med 16. in 21. uro. Obvoz bo urejen. </p>',\n",
              "   'role': 'user'},\n",
              "  {'content': '<START_TRAFFIC_REPORT>\\nNUJNA PROMETNA INFORMACIJA \\n\\nZaradi prometne nesreče je promet oviran na primorski avtocesti med Postojno in počivališčem Lom proti Ljubljani. Čas vožnje se na odseku Razdrto-Ljubljana podaljša za eno uro.\\n\\nZastoji nastajajo na gorenjski avtocesti pred predorom Karavanke, kolona vozil je dolga 10 kilometrov.\\n\\x00\\n<END_TRAFFIC_REPORT>',\n",
              "   'role': 'assistant'}]}"
            ]
          },
          "execution_count": 11,
          "metadata": {},
          "output_type": "execute_result"
        }
      ],
      "source": [
        "dataset[100]"
      ]
    },
    {
      "cell_type": "markdown",
      "metadata": {
        "id": "8Xs0LXio7rfd"
      },
      "source": [
        "We now have to apply the chat template for `Gemma-3` onto the conversations, and save it to `text`. We remove the `<bos>` token using removeprefix(`'<bos>'`) since we're finetuning. The Processor will add this token before training and the model expects only one."
      ]
    },
    {
      "cell_type": "code",
      "execution_count": 26,
      "metadata": {
        "colab": {
          "base_uri": "https://localhost:8080/",
          "height": 49,
          "referenced_widgets": [
            "df6919b59d86431a89446b820afd93c4",
            "1d8db4dcbceb47f9a8989500035d0a49",
            "15f7e729d89e46c984f276fc7e72d3f4",
            "33c6823010e24424ab4dbdf4ada908ae",
            "a1ded9fd25474aaab61970ba143abd2c",
            "e95c6e5540fa46c7a55d94f4495b4433",
            "52ade070694d4c589922721c4e0c28e2",
            "4788e0faaaed41beb4031055a30624eb",
            "2d83c0ba538e4795aaad79be0a9d49bb",
            "9cf0d2f958cd4cebbbd91270d56e06df",
            "cde1da2c2e5a4304a904477e068d0f57"
          ]
        },
        "id": "1ahE8Ys37JDJ",
        "outputId": "ec5cf2ce-b924-4601-a180-cd544e2a7227"
      },
      "outputs": [
        {
          "data": {
            "application/vnd.jupyter.widget-view+json": {
              "model_id": "df6919b59d86431a89446b820afd93c4",
              "version_major": 2,
              "version_minor": 0
            },
            "text/plain": [
              "Map:   0%|          | 0/6128 [00:00<?, ? examples/s]"
            ]
          },
          "metadata": {},
          "output_type": "display_data"
        }
      ],
      "source": [
        "def formatting_prompts_func(examples):\n",
        "   convos = examples[\"conversations\"]\n",
        "   texts = [tokenizer.apply_chat_template(convo, tokenize = False, add_generation_prompt = False).removeprefix('<bos>') for convo in convos]\n",
        "   return { \"text\" : texts, }\n",
        "\n",
        "dataset = dataset.map(formatting_prompts_func, batched = True)"
      ]
    },
    {
      "cell_type": "markdown",
      "metadata": {
        "id": "ndDUB23CGAC5"
      },
      "source": [
        "Let's see how the chat template did! Notice there is no `<bos>` token as the processor tokenizer will be adding one."
      ]
    },
    {
      "cell_type": "code",
      "execution_count": 13,
      "metadata": {
        "colab": {
          "base_uri": "https://localhost:8080/",
          "height": 1000
        },
        "id": "gGFzmplrEy9I",
        "outputId": "7dfa3db6-36ff-4690-d66f-99fa1b25829b"
      },
      "outputs": [
        {
          "data": {
            "application/vnd.google.colaboratory.intrinsic+json": {
              "type": "string"
            },
            "text/plain": [
              "'<start_of_turn>user\\n**Vloga:** Ti si obveščevalec za promet na radiu.\\n**Cilj:** Preoblikovati vnosne prometne podatke v format primeren za radijsko oddajanje, strogo upoštevajoč spodnja pravila in strukturo Prebranih novic ne prepiši temveč na novo napiši po spodnjih navodilih.\\n\\n**Ključno:** Tvoj odgovor mora biti SAMO IN IZKLJUČNO besedilo med oznakama <START_TRAFFIC_REPORT> in <END_TRAFFIC_REPORT>. Vse ostalo besedilo je prepovedano.\\n\\n**Pravila za poimenovanje cest in smeri:**\\n* Ljubljana-Koper – Primorska avtocesta / proti Kopru/proti Ljubljani\\n* Ljubljana-Obrežje – Dolenjska avtocesta / proti Obrežju/ proti Ljubljani\\n* Ljubljana-Karavanke – Gorenjska avtocesta / proti Karavankam ali Avstriji/ proti Ljubljani\\n* Ljubljana-Maribor – Štajerska avtocesta / proti Mariboru/Ljubljani\\n* Maribor-Lendava – Pomurska avtocesta / proti Mariboru/ proti Lendavi/Madžarski\\n* Maribor-Gruškovje – Podravska avtocesta / proti Mariboru/ proti Gruškovju ali Hrvaški – nikoli proti Ptuju!\\n* Avtocestni odsek Razcep Gabrk – Fernetiči – proti Italiji/ ali proti primorski avtocesti, Kopru, Ljubljani (PAZI: to ni primorska avtocesta)\\n* Avtocestni odsek Maribor-Šentilj: od Maribora proti Šentilju ali od Šentilja proti Mariboru (ni štajerska avtocesta).\\n* Mariborska vzhodna obvoznica: med razcepom Slivnica in razcepom Dragučova – proti Avstriji/Lendavi ali proti Ljubljani (nikoli proti Mariboru).\\n* Nekdanja hitra cesta skozi Maribor: regionalna cesta Betnava-Pesnica (ne hitra cesta).\\n* Ljubljanska obvoznica (vzhodna, zahodna, severna, južna): Uporabi navedene relacije in smeri.\\n* Vipavska hitra cesta (razcep Nanos-Vrtojba): proti Italiji ali Vrtojbi/ proti Nanosu/ primorski avtocesti /proti Razdrtemu/v smeri Razdrtega (nikoli primorska hitra cesta).\\n* Obalna hitra cesta (razcep Srmin-Izola): proti Kopru/Portorožu (nikoli primorska hitra cesta).\\n* Hitra cesta Koper-Škofije: Na hitri cesti od Kopra proti Škofijam ali obratno.\\n* Hitra cesta mejni prehod Dolga vas-Dolga vas: Na hitri cesti od mejnega prehoda Dolga vas proti pomurski avtocesti ali obratno.\\n* Regionalna cesta ŠKOFJA LOKA – GORENJA VAS (škofjeloška obvoznica): proti Ljubljani/proti Gorenji vasi.\\n* Glavna cesta Ljubljana-Črnuče – Trzin: glavna cesta od Ljubljane proti Trzinu/ od Trzina proti Ljubljani.\\n* Končne destinacije na avtocestah: proti Avstriji/Karavankam, proti Hrvaški/Obrežju/Gruškovju, proti Madžarski (za ustrezne avtoceste).\\n\\n**Struktura prometne informacije:** (Ista pravila kot prej)\\n* Cesta in smer + razlog + posledica in odsek\\n* Razlog + cesta in smer + posledica in odsek\\n* Uporabi polna imena cest.\\n* Natančne formulacije za burjo in prepovedi prometa.\\n* Za dogodke na razcepih, v predorih ali pri počivališčih navedi širši odsek.\\n* Zastoje objavi pri vsaj 1 km.\\n\\n**IZPISNI FORMAT (med oznakama):**\\n<START_TRAFFIC_REPORT>\\n[Prometna informacija 1, oblikovana po pravilih]\\n\\n[Prometna informacija 2, oblikovana po pravilih]\\n\\n[Prometna informacija 3, oblikovana po pravilih]\\n<END_TRAFFIC_REPORT>\\n\\n**VHODNI PODATKI:**\\n<p><strong>Nesreče</strong></p><p>Na cesti Izola - Lucija, v Strunjanskem drevoredu oviran promet.</p><p><strong>Ovire</strong></p><p>Na vipavski hitri cesti v predoru Podnanos proti razcepu Nanos zaradi okvare vozila zaprt vozni pas.</p><p><strong>Zastoji</strong></p><p><strong>Na primorski avtocesti:</strong><br>- med Senožečami in Ljubljano, zamuda približno 1 ura;<br>- med Ljubljano in Brezovico.<br>Na regionalni cesti Razdrto - Postojna.</p><p><strong>Gorenjska:</strong><br>- Pred predorom Karavanke proti Avstriji 10 km. Na izvozu Lipce je promet dovoljen samo za lokalni promet proti Jesenicam in Kranjski Gori.<br>- Na cesti Lesce - Bled.</p><p>Na štajerski avtocesti pred prehodom Šentilj proti Avstriji, 1 km.</p><p><strong>Delo na cesti</strong></p><p><strong>Popolne zapore:</strong><br>- Cesta Ruše - Puščava pri Fali do 17. ure zaradi obnove mostu. <br>- Cesta Begunje - Bistrica med Slatno in Begunjami do 22. avgusta.<br><strong>- Cesta Litija - Zagorje, pri Šklendrovcu je ponovno odprta.</strong></p><p><strong>Napoved popolnih zapor zaradi del:</strong><br>- Cesta Kamnik - Stahovica bo med Kamnikom in Spodnjimi Stranjami zaprta od 12. avgusta od 7. ure do 21. avgusta do 17. ure. Obvoz je po lokalnih cestah Godič - Zduša - Mekinje. <br>- Na regionalni cesti Vrhnika - Brezovica - Ljubljana bodo pri avtocestnem priključku Brezovica ta vikend potekala dela. Občasno bo zaprt uvoz na avtocesto iz smeri Brezovice proti Ljubljani. Obvoz bo preko priključka Ljubljana Vič. </p><p><a href=\"https://www.promet.si/sl/aktualna-napoved\" target=\"_blank\">Več o delovnih zaporah v prometni napovedi</a>.</p><p><strong>Prireditve</strong></p><p>Kolesarska prireditev Ilirska Bistrica:<br>- V soboto, 10. avgusta, bodo med 11. in 23. uro zaprte posamezne ceste v Ilirski Bistrici in regionalna cesta proti Knežaku. <br>- V nedeljo, 11. avgusta, bo med 8. in 15. uro zaprta cesta Ilirska Bistrica - Snežnik. </p><p>Cesta Most na Soči - Kobarid bo v Mostu na soči zaprta v soboto, 10. avgusta, med 16. in 21. uro. Obvoz bo urejen. </p>\\n <p><strong>Nesreče</strong></p><p>Na cesti Izola - Lucija, v Strunjanskem drevoredu oviran promet.</p><p><strong>Ovire</strong></p><p>Na vipavski hitri cesti v predoru Podnanos proti razcepu Nanos zaradi okvare vozila zaprt vozni pas.</p><p><strong>Zastoji</strong></p><p><strong>Na primorski avtocesti:</strong><br>- med Senožečami in Ljubljano, zamuda približno 1 ura;<br>- med Ljubljano in Brezovico.<br>Na regionalni cesti Razdrto - Postojna.</p><p><strong>Na ljubljanski južni obvoznici </strong>med priključkoma Rudnik in Center v obe smeri.</p><p><strong>Gorenjska:</strong><br>- Pred predorom Karavanke proti Avstriji 10 km. Na izvozu Lipce je promet dovoljen samo za lokalni promet proti Jesenicam in Kranjski Gori.<br>- Na cesti Lesce - Bled.</p><p>Na štajerski avtocesti pred prehodom Šentilj proti Avstriji, 1 km.</p><p><strong>Delo na cesti</strong></p><p><strong>Popolne zapore:</strong><br>- Cesta Ruše - Puščava pri Fali do 17. ure zaradi obnove mostu. <br>- Cesta Begunje - Bistrica med Slatno in Begunjami do 22. avgusta.<br><strong>- Cesta Litija - Zagorje, pri Šklendrovcu je ponovno odprta.</strong></p><p><strong>Napoved popolnih zapor zaradi del:</strong><br>- Cesta Kamnik - Stahovica bo med Kamnikom in Spodnjimi Stranjami zaprta od 12. avgusta od 7. ure do 21. avgusta do 17. ure. Obvoz je po lokalnih cestah Godič - Zduša - Mekinje. <br>- Na regionalni cesti Vrhnika - Brezovica - Ljubljana bodo pri avtocestnem priključku Brezovica ta vikend potekala dela. Občasno bo zaprt uvoz na avtocesto iz smeri Brezovice proti Ljubljani. Obvoz bo preko priključka Ljubljana Vič. </p><p><a href=\"https://www.promet.si/sl/aktualna-napoved\" target=\"_blank\">Več o delovnih zaporah v prometni napovedi</a>.</p><p><strong>Prireditve</strong></p><p>Kolesarska prireditev Ilirska Bistrica:<br>- V soboto, 10. avgusta, bodo med 11. in 23. uro zaprte posamezne ceste v Ilirski Bistrici in regionalna cesta proti Knežaku. <br>- V nedeljo, 11. avgusta, bo med 8. in 15. uro zaprta cesta Ilirska Bistrica - Snežnik. </p><p>Cesta Most na Soči - Kobarid bo v Mostu na soči zaprta v soboto, 10. avgusta, med 16. in 21. uro. Obvoz bo urejen. </p>\\n <p><strong>Nesreče</strong></p><p>Na cesti Izola - Lucija, v Strunjanskem drevoredu oviran promet.</p><p>Na cesti Brezovica - Vrhnika, na Brezovici pri bencinskem servisu.</p><p><strong>Ovire</strong></p><p>Na vipavski hitri cesti v predoru Podnanos proti razcepu Nanos zaradi okvare vozila zaprt vozni pas.</p><p><strong>Zastoji</strong></p><p><strong>Na primorski avtocesti:</strong><br>- med Senožečami in Ljubljano, zamuda približno 1 ura;<br>- med Ljubljano in Brezovico.<br>Na regionalni cesti Razdrto - Postojna.</p><p><strong>Na ljubljanski južni obvoznici </strong>med priključkoma Rudnik in Center v obe smeri.</p><p><strong>Gorenjska:</strong><br>- Pred predorom Karavanke proti Avstriji 10 km. Na izvozu Lipce je promet dovoljen samo za lokalni promet proti Jesenicam in Kranjski Gori.<br>- Na cesti Lesce - Bled.</p><p>Na štajerski avtocesti pred prehodom Šentilj proti Avstriji, 1 km.</p><p><strong>Delo na cesti</strong></p><p><strong>Popolne zapore:</strong><br>- Cesta Ruše - Puščava pri Fali do 17. ure zaradi obnove mostu. <br>- Cesta Begunje - Bistrica med Slatno in Begunjami do 22. avgusta.<br><strong>- Cesta Litija - Zagorje, pri Šklendrovcu je ponovno odprta.</strong></p><p><strong>Napoved popolnih zapor zaradi del:</strong><br>- Cesta Kamnik - Stahovica bo med Kamnikom in Spodnjimi Stranjami zaprta od 12. avgusta od 7. ure do 21. avgusta do 17. ure. Obvoz je po lokalnih cestah Godič - Zduša - Mekinje. <br>- Na regionalni cesti Vrhnika - Brezovica - Ljubljana bodo pri avtocestnem priključku Brezovica ta vikend potekala dela. Občasno bo zaprt uvoz na avtocesto iz smeri Brezovice proti Ljubljani. Obvoz bo preko priključka Ljubljana Vič. </p><p><a href=\"https://www.promet.si/sl/aktualna-napoved\" target=\"_blank\">Več o delovnih zaporah v prometni napovedi</a>.</p><p><strong>Prireditve</strong></p><p>Kolesarska prireditev Ilirska Bistrica:<br>- V soboto, 10. avgusta, bodo med 11. in 23. uro zaprte posamezne ceste v Ilirski Bistrici in regionalna cesta proti Knežaku. <br>- V nedeljo, 11. avgusta, bo med 8. in 15. uro zaprta cesta Ilirska Bistrica - Snežnik. </p><p>Cesta Most na Soči - Kobarid bo v Mostu na soči zaprta v soboto, 10. avgusta, med 16. in 21. uro. Obvoz bo urejen. </p>\\n <p><strong>Nesreče</strong></p><p>Na cesti Brezovica - Vrhnika, na Brezovici pri bencinskem servisu.</p><p><strong>Ovire</strong></p><p>Na vipavski hitri cesti v predoru Podnanos proti razcepu Nanos zaradi okvare vozila zaprt vozni pas.</p><p><strong>Zastoji</strong></p><p><strong>Na primorski avtocesti:</strong><br>- med Senožečami in Ljubljano, zamuda približno 1 ura;<br>- med Ljubljano in Brezovico.<br>Na regionalni cesti Razdrto - Postojna.</p><p><strong>Na ljubljanski južni obvoznici </strong>med priključkoma Rudnik in Center v obe smeri.</p><p><strong>Gorenjska:</strong><br>- Pred predorom Karavanke proti Avstriji 10 km. Na izvozu Lipce je promet dovoljen samo za lokalni promet proti Jesenicam in Kranjski Gori.<br>- Na cesti Lesce - Bled.</p><p>Na štajerski avtocesti pred prehodom Šentilj proti Avstriji, 1 km.</p><p><strong>Delo na cesti</strong></p><p><strong>Popolne zapore:</strong><br>- Cesta Ruše - Puščava pri Fali do 17. ure zaradi obnove mostu. <br>- Cesta Begunje - Bistrica med Slatno in Begunjami do 22. avgusta.<br><strong>- Cesta Litija - Zagorje, pri Šklendrovcu je ponovno odprta.</strong></p><p><strong>Napoved popolnih zapor zaradi del:</strong><br>- Cesta Kamnik - Stahovica bo med Kamnikom in Spodnjimi Stranjami zaprta od 12. avgusta od 7. ure do 21. avgusta do 17. ure. Obvoz je po lokalnih cestah Godič - Zduša - Mekinje. <br>- Na regionalni cesti Vrhnika - Brezovica - Ljubljana bodo pri avtocestnem priključku Brezovica ta vikend potekala dela. Občasno bo zaprt uvoz na avtocesto iz smeri Brezovice proti Ljubljani. Obvoz bo preko priključka Ljubljana Vič. </p><p><a href=\"https://www.promet.si/sl/aktualna-napoved\" target=\"_blank\">Več o delovnih zaporah v prometni napovedi</a>.</p><p><strong>Prireditve</strong></p><p>Kolesarska prireditev Ilirska Bistrica:<br>- V soboto, 10. avgusta, bodo med 11. in 23. uro zaprte posamezne ceste v Ilirski Bistrici in regionalna cesta proti Knežaku. <br>- V nedeljo, 11. avgusta, bo med 8. in 15. uro zaprta cesta Ilirska Bistrica - Snežnik. </p><p>Cesta Most na Soči - Kobarid bo v Mostu na soči zaprta v soboto, 10. avgusta, med 16. in 21. uro. Obvoz bo urejen. </p>\\n <p><strong>Nesreče</strong></p><p>Na cesti Brezovica - Vrhnika, na Brezovici pri bencinskem servisu.</p><p><strong>Ovire</strong></p><p>Na vipavski hitri cesti v predoru Podnanos proti razcepu Nanos zaradi okvare vozila zaprt vozni pas.</p><p><strong>Zastoji</strong></p><p><strong>Na primorski avtocesti:</strong><br>- med Razdrtim in Ljubljano, zamuda približno 1 ura;<br>- med Ljubljano in Brezovico.<br>Na regionalni cesti Razdrto - Postojna.</p><p><strong>Na ljubljanski južni obvoznici </strong>med priključkoma Rudnik in Center v obe smeri.</p><p><strong>Gorenjska:</strong><br>- Pred predorom Karavanke proti Avstriji 10 km. Na izvozu Lipce je promet dovoljen samo za lokalni promet proti Jesenicam in Kranjski Gori.<br>- Na cesti Lesce - Bled.</p><p>Na štajerski avtocesti pred prehodom Šentilj proti Avstriji, 1 km.</p><p><strong>Delo na cesti</strong></p><p><strong>Popolne zapore:</strong><br>- Cesta Ruše - Puščava pri Fali do 17. ure zaradi obnove mostu. <br>- Cesta Begunje - Bistrica med Slatno in Begunjami do 22. avgusta.<br><strong>- Cesta Litija - Zagorje, pri Šklendrovcu je ponovno odprta.</strong></p><p><strong>Napoved popolnih zapor zaradi del:</strong><br>- Cesta Kamnik - Stahovica bo med Kamnikom in Spodnjimi Stranjami zaprta od 12. avgusta od 7. ure do 21. avgusta do 17. ure. Obvoz je po lokalnih cestah Godič - Zduša - Mekinje. <br>- Na regionalni cesti Vrhnika - Brezovica - Ljubljana bodo pri avtocestnem priključku Brezovica ta vikend potekala dela. Občasno bo zaprt uvoz na avtocesto iz smeri Brezovice proti Ljubljani. Obvoz bo preko priključka Ljubljana Vič. </p><p><a href=\"https://www.promet.si/sl/aktualna-napoved\" target=\"_blank\">Več o delovnih zaporah v prometni napovedi</a>.</p><p><strong>Prireditve</strong></p><p>Kolesarska prireditev Ilirska Bistrica:<br>- V soboto, 10. avgusta, bodo med 11. in 23. uro zaprte posamezne ceste v Ilirski Bistrici in regionalna cesta proti Knežaku. <br>- V nedeljo, 11. avgusta, bo med 8. in 15. uro zaprta cesta Ilirska Bistrica - Snežnik. </p><p>Cesta Most na Soči - Kobarid bo v Mostu na soči zaprta v soboto, 10. avgusta, med 16. in 21. uro. Obvoz bo urejen. </p>\\n <p><strong>Nesreče</strong></p><p>Na cesti Brezovica - Vrhnika, na Brezovici pri bencinskem servisu.</p><p><strong>Zastoji</strong></p><p><strong>Na primorski avtocesti:</strong><br>- med Razdrtim in Ljubljano, zamuda približno 1 ura;<br>- med Ljubljano in Brezovico.<br>Na regionalni cesti Razdrto - Postojna.</p><p><strong>Na ljubljanski južni obvoznici </strong>med priključkoma Rudnik in Center v obe smeri.</p><p><strong>Gorenjska:</strong><br>- Pred predorom Karavanke proti Avstriji 10 km. Na izvozu Lipce je promet dovoljen samo za lokalni promet proti Jesenicam in Kranjski Gori.<br>- Na cesti Lesce - Bled.</p><p>Na štajerski avtocesti pred prehodom Šentilj proti Avstriji, 1 km.</p><p><strong>Delo na cesti</strong></p><p><strong>Popolne zapore:</strong><br>- Cesta Ruše - Puščava pri Fali do 17. ure zaradi obnove mostu. <br>- Cesta Begunje - Bistrica med Slatno in Begunjami do 22. avgusta.<br><strong>- Cesta Litija - Zagorje, pri Šklendrovcu je ponovno odprta.</strong></p><p><strong>Napoved popolnih zapor zaradi del:</strong><br>- Cesta Kamnik - Stahovica bo med Kamnikom in Spodnjimi Stranjami zaprta od 12. avgusta od 7. ure do 21. avgusta do 17. ure. Obvoz je po lokalnih cestah Godič - Zduša - Mekinje. <br>- Na regionalni cesti Vrhnika - Brezovica - Ljubljana bodo pri avtocestnem priključku Brezovica ta vikend potekala dela. Občasno bo zaprt uvoz na avtocesto iz smeri Brezovice proti Ljubljani. Obvoz bo preko priključka Ljubljana Vič. </p><p><a href=\"https://www.promet.si/sl/aktualna-napoved\" target=\"_blank\">Več o delovnih zaporah v prometni napovedi</a>.</p><p><strong>Prireditve</strong></p><p>Kolesarska prireditev Ilirska Bistrica:<br>- V soboto, 10. avgusta, bodo med 11. in 23. uro zaprte posamezne ceste v Ilirski Bistrici in regionalna cesta proti Knežaku. <br>- V nedeljo, 11. avgusta, bo med 8. in 15. uro zaprta cesta Ilirska Bistrica - Snežnik. </p><p>Cesta Most na Soči - Kobarid bo v Mostu na soči zaprta v soboto, 10. avgusta, med 16. in 21. uro. Obvoz bo urejen. </p>\\n <p><strong>Nesreče</strong></p><p>Na cesti Brezovica - Vrhnika, na Brezovici pri bencinskem servisu oviran promet.</p><p><strong>Zastoji</strong></p><p><strong>Na primorski avtocesti:</strong><br>- med Razdrtim in Ljubljano, zamuda približno 1 ura;<br>- med Ljubljano in Brezovico.<br>Na regionalni cesti Razdrto - Postojna.</p><p><strong>Na ljubljanski južni obvoznici </strong>med priključkoma Rudnik in Center v obe smeri.</p><p><strong>Gorenjska:</strong><br>- Pred predorom Karavanke proti Avstriji 10 km. Na izvozu Lipce je promet dovoljen samo za lokalni promet proti Jesenicam in Kranjski Gori.<br>- Na cesti Lesce - Bled.</p><p>Na štajerski avtocesti pred prehodom Šentilj proti Avstriji, 1 km.</p><p><strong>Delo na cesti</strong></p><p><strong>Popolne zapore:</strong><br>- Cesta Ruše - Puščava pri Fali do 17. ure zaradi obnove mostu. <br>- Cesta Begunje - Bistrica med Slatno in Begunjami do 22. avgusta.<br><strong>- Cesta Litija - Zagorje, pri Šklendrovcu je ponovno odprta.</strong></p><p><strong>Napoved popolnih zapor zaradi del:</strong><br>- Cesta Kamnik - Stahovica bo med Kamnikom in Spodnjimi Stranjami zaprta od 12. avgusta od 7. ure do 21. avgusta do 17. ure. Obvoz je po lokalnih cestah Godič - Zduša - Mekinje. <br>- Na regionalni cesti Vrhnika - Brezovica - Ljubljana bodo pri avtocestnem priključku Brezovica ta vikend potekala dela. Občasno bo zaprt uvoz na avtocesto iz smeri Brezovice proti Ljubljani. Obvoz bo preko priključka Ljubljana Vič. </p><p><a href=\"https://www.promet.si/sl/aktualna-napoved\" target=\"_blank\">Več o delovnih zaporah v prometni napovedi</a>.</p><p><strong>Prireditve</strong></p><p>Kolesarska prireditev Ilirska Bistrica:<br>- V soboto, 10. avgusta, bodo med 11. in 23. uro zaprte posamezne ceste v Ilirski Bistrici in regionalna cesta proti Knežaku. <br>- V nedeljo, 11. avgusta, bo med 8. in 15. uro zaprta cesta Ilirska Bistrica - Snežnik. </p><p>Cesta Most na Soči - Kobarid bo v Mostu na soči zaprta v soboto, 10. avgusta, med 16. in 21. uro. Obvoz bo urejen. </p><end_of_turn>\\n<start_of_turn>model\\n<START_TRAFFIC_REPORT>\\nNUJNA PROMETNA INFORMACIJA \\n\\nZaradi prometne nesreče je promet oviran na primorski avtocesti med Postojno in počivališčem Lom proti Ljubljani. Čas vožnje se na odseku Razdrto-Ljubljana podaljša za eno uro.\\n\\nZastoji nastajajo na gorenjski avtocesti pred predorom Karavanke, kolona vozil je dolga 10 kilometrov.\\n\\x00\\n<END_TRAFFIC_REPORT><end_of_turn>\\n'"
            ]
          },
          "execution_count": 13,
          "metadata": {},
          "output_type": "execute_result"
        }
      ],
      "source": [
        "dataset[100][\"text\"]"
      ]
    },
    {
      "cell_type": "markdown",
      "metadata": {
        "id": "idAEIeSQ3xdS"
      },
      "source": [
        "<a name=\"Train\"></a>\n",
        "### Train the model\n",
        "Now let's use Huggingface TRL's `SFTTrainer`! More docs here: [TRL SFT docs](https://huggingface.co/docs/trl/sft_trainer). We do 60 steps to speed things up, but you can set `num_train_epochs=1` for a full run, and turn off `max_steps=None`."
      ]
    },
    {
      "cell_type": "code",
      "execution_count": 27,
      "metadata": {
        "colab": {
          "base_uri": "https://localhost:8080/",
          "height": 67,
          "referenced_widgets": [
            "c5cc47857336464494ced3c544217aa7",
            "7cfed63004c84702b2f289c9254cdd76",
            "c42a2b1cc4534fa39ab51a96b263b2eb",
            "e0a8628735da4a49aebefdd4f27f3d6a",
            "e80cb7313bf74e2a900a04284f0f1388",
            "c48b6634ff024306aabfaa4ed4ca974f",
            "b79fe5bf0eab4fdf80ddcce01ecd4c35",
            "3b7dad6480c6470994ebced97a738cf0",
            "869bc317caaf4261b9b3793e9981e75c",
            "8d869cbe0a2947f2b336d51b26d3ce30",
            "90249691143b4d4099171d1d06ffb910"
          ]
        },
        "id": "95_Nn-89DhsL",
        "outputId": "8a15a9f7-e1b4-4a80-a580-0e81d278975d"
      },
      "outputs": [
        {
          "name": "stdout",
          "output_type": "stream",
          "text": [
            "Unsloth: Switching to float32 training since model cannot work with float16\n"
          ]
        },
        {
          "data": {
            "application/vnd.jupyter.widget-view+json": {
              "model_id": "c5cc47857336464494ced3c544217aa7",
              "version_major": 2,
              "version_minor": 0
            },
            "text/plain": [
              "Unsloth: Tokenizing [\"text\"] (num_proc=2):   0%|          | 0/6128 [00:00<?, ? examples/s]"
            ]
          },
          "metadata": {},
          "output_type": "display_data"
        }
      ],
      "source": [
        "from trl import SFTTrainer, SFTConfig\n",
        "trainer = SFTTrainer(\n",
        "    model = model,\n",
        "    tokenizer = tokenizer,\n",
        "    train_dataset = dataset,\n",
        "    eval_dataset = None, # Can set up evaluation!\n",
        "    args = SFTConfig(\n",
        "        dataset_text_field = \"text\",\n",
        "        per_device_train_batch_size = 2,\n",
        "        gradient_accumulation_steps = 4, # Use GA to mimic batch size!\n",
        "        warmup_steps = 5,\n",
        "        # num_train_epochs = 1, # Set this for 1 full training run.\n",
        "        max_steps = 30,\n",
        "        learning_rate = 2e-4, # Reduce to 2e-5 for long training runs\n",
        "        logging_steps = 1,\n",
        "        optim = \"adamw_8bit\",\n",
        "        weight_decay = 0.01,\n",
        "        lr_scheduler_type = \"linear\",\n",
        "        seed = 3407,\n",
        "        report_to = \"none\", # Use this for WandB etc\n",
        "        dataset_num_proc=2,\n",
        "    ),\n",
        ")"
      ]
    },
    {
      "cell_type": "markdown",
      "metadata": {
        "id": "C_sGp5XlG6dq"
      },
      "source": [
        "We also use Unsloth's `train_on_completions` method to only train on the assistant outputs and ignore the loss on the user's inputs. This helps increase accuracy of finetunes!"
      ]
    },
    {
      "cell_type": "code",
      "execution_count": 28,
      "metadata": {
        "colab": {
          "base_uri": "https://localhost:8080/",
          "height": 49,
          "referenced_widgets": [
            "76f6738278634da88ed81910a7c77d13",
            "843b75623a6c47a39c18029662b967e6",
            "d4963f5a001b4793b29c662682d1ff45",
            "a04bba69204d411786c4a68f38ade26a",
            "b490a6da46be47de9c3280b1e6e1046d",
            "42eba5efd9e94a4ea7e8da9437a69ed1",
            "81a3708c918c435f9ac7d34186d4c917",
            "a0b578a400594cb099042cdfdd18c2af",
            "153284fa75434ab8ba7f90cd81f3cf6b",
            "957d60e076a54ce8b98894a6d1e86f14",
            "63302e33d9294701ab7d5ac73579ee91"
          ]
        },
        "id": "juQiExuBG5Bt",
        "outputId": "8a5c815e-6b79-4b0a-d1dc-78d73d293d36"
      },
      "outputs": [
        {
          "data": {
            "application/vnd.jupyter.widget-view+json": {
              "model_id": "76f6738278634da88ed81910a7c77d13",
              "version_major": 2,
              "version_minor": 0
            },
            "text/plain": [
              "Map (num_proc=8):   0%|          | 0/6128 [00:00<?, ? examples/s]"
            ]
          },
          "metadata": {},
          "output_type": "display_data"
        }
      ],
      "source": [
        "from unsloth.chat_templates import train_on_responses_only\n",
        "trainer = train_on_responses_only(\n",
        "    trainer,\n",
        "    instruction_part = \"<start_of_turn>user\\n\",\n",
        "    response_part = \"<start_of_turn>model\\n\",\n",
        ")"
      ]
    },
    {
      "cell_type": "markdown",
      "metadata": {
        "id": "Dv1NBUozV78l"
      },
      "source": [
        "Let's verify masking the instruction part is done! Let's print the 100th row again.  Notice how the sample only has a single `<bos>` as expected!"
      ]
    },
    {
      "cell_type": "code",
      "execution_count": 29,
      "metadata": {
        "colab": {
          "base_uri": "https://localhost:8080/",
          "height": 107
        },
        "id": "LtsMVtlkUhja",
        "outputId": "b3a316c5-8cab-4364-9e38-440f12d60237"
      },
      "outputs": [
        {
          "data": {
            "application/vnd.google.colaboratory.intrinsic+json": {
              "type": "string"
            },
            "text/plain": [
              "'<bos><start_of_turn>user\\n**Vloga:** Ti si obveščevalec za promet na radiu.\\n**Cilj:** Preoblikovati vnosne prometne podatke v format primeren za radijsko oddajanje, strogo upoštevajoč spodnja pravila in strukturo Prebranih novic ne prepiši temveč na novo napiši po spodnjih navodilih.\\n\\n**Ključno:** Tvoj odgovor mora biti SAMO IN IZKLJUČNO besedilo med oznakama <START_TRAFFIC_REPORT> in <END_TRAFFIC_REPORT>. Vse ostalo besedilo je prepovedano.\\n\\n**Pravila za poimenovanje cest in smeri:**\\n* Ljubljana-Koper – Primorska avtocesta / proti Kopru/proti Ljubljani\\n* Ljubljana-Obrežje – Dolenjska avtocesta / proti Obrežju/ proti Ljubljani\\n* Ljubljana-Karavanke – Gorenjska avtocesta / proti Karavankam ali Avstriji/ proti Ljubljani\\n* Ljubljana-Maribor – Štajerska avtocesta / proti Mariboru/Ljubljani\\n* Maribor-Lendava – Pomurska avtocesta / proti Mariboru/ proti Lendavi/Madžarski\\n* Maribor-Gruškovje – Podravska avtocesta / proti Mariboru/ proti Gruškovju ali Hrvaški – nikoli proti Ptuju!\\n* Avtocestni odsek Razcep Gabrk – Fernetiči – proti Italiji/ ali proti primorski avtocesti, Kopru, Ljubljani (PAZI: to ni primorska avtocesta)\\n* Avtocestni odsek Maribor-Šentilj: od Maribora proti Šentilju ali od Šentilja proti Mariboru (ni štajerska avtocesta).\\n* Mariborska vzhodna obvoznica: med razcepom Slivnica in razcepom Dragučova – proti Avstriji/Lendavi ali proti Ljubljani (nikoli proti Mariboru).\\n* Nekdanja hitra cesta skozi Maribor: regionalna cesta Betnava-Pesnica (ne hitra cesta).\\n* Ljubljanska obvoznica (vzhodna, zahodna, severna, južna): Uporabi navedene relacije in smeri.\\n* Vipavska hitra cesta (razcep Nanos-Vrtojba): proti Italiji ali Vrtojbi/ proti Nanosu/ primorski avtocesti /proti Razdrtemu/v smeri Razdrtega (nikoli primorska hitra cesta).\\n* Obalna hitra cesta (razcep Srmin-Izola): proti Kopru/Portorožu (nikoli primorska hitra cesta).\\n* Hitra cesta Koper-Škofije: Na hitri cesti od Kopra proti Škofijam ali obratno.\\n* Hitra cesta mejni prehod Dolga vas-Dolga vas: Na hitri cesti od mejnega prehoda Dolga vas proti pomurski avtocesti ali obratno.\\n* Regionalna cesta ŠKOFJA LOKA – GORENJA VAS (škofjeloška obvoznica): proti Ljubljani/proti Gorenji vasi.\\n* Glavna cesta Ljubljana-Črnuče – Trzin: glavna cesta od Ljubljane proti Trzinu/ od Trzina proti Ljubljani.\\n* Končne destinacije na avtocestah: proti Avstriji/Karavankam, proti Hrvaški/Obrežju/Gruškovju, proti Madžarski (za ustrezne avtoceste).\\n\\n**Struktura prometne informacije:** (Ista pravila kot prej)\\n* Cesta in smer + razlog + posledica in odsek\\n* Razlog + cesta in smer + posledica in odsek\\n* Uporabi polna imena cest.\\n* Natančne formulacije za burjo in prepovedi prometa.\\n* Za dogodke na razcepih, v predorih ali pri počivališčih navedi širši odsek.\\n* Zastoje objavi pri vsaj 1 km.\\n\\n**IZPISNI FORMAT (med oznakama):**\\n<START_TRAFFIC_REPORT>\\n[Prometna informacija 1, oblikovana po pravilih]\\n\\n[Prometna informacija 2, oblikovana po pravilih]\\n\\n[Prometna informacija 3, oblikovana po pravilih]\\n<END_TRAFFIC_REPORT>\\n\\n**VHODNI PODATKI:**\\n<p><strong>Nesreče</strong></p><p>Na cesti Izola - Lucija, v Strunjanskem drevoredu oviran promet.</p><p><strong>Ovire</strong></p><p>Na vipavski hitri cesti v predoru Podnanos proti razcepu Nanos zaradi okvare vozila zaprt vozni pas.</p><p><strong>Zastoji</strong></p><p><strong>Na primorski avtocesti:</strong><br>- med Senožečami in Ljubljano, zamuda približno 1 ura;<br>- med Ljubljano in Brezovico.<br>Na regionalni cesti Razdrto - Postojna.</p><p><strong>Gorenjska:</strong><br>- Pred predorom Karavanke proti Avstriji 10 km. Na izvozu Lipce je promet dovoljen samo za lokalni promet proti Jesenicam in Kranjski Gori.<br>- Na cesti Lesce - Bled.</p><p>Na štajerski avtocesti pred prehodom Šentilj proti Avstriji, 1 km.</p><p><strong>Delo na cesti</strong></p><p><strong>Popolne zapore:</strong><br>- Cesta Ruše - Puščava pri Fali do 17. ure zaradi obnove mostu. <br>- Cesta Begunje - Bistrica med Slatno in Begunjami do 22. avgusta.<br><strong>- Cesta Litija - Zagorje, pri Šklendrovcu je ponovno odprta.</strong></p><p><strong>Napoved popolnih zapor zaradi del:</strong><br>- Cesta Kamnik - Stahovica bo med Kamnikom in Spodnjimi Stranjami zaprta od 12. avgusta od 7. ure do 21. avgusta do 17. ure. Obvoz je po lokalnih cestah Godič - Zduša - Mekinje. <br>- Na regionalni cesti Vrhnika - Brezovica - Ljubljana bodo pri avtocestnem priključku Brezovica ta vikend potekala dela. Občasno bo zaprt uvoz na avtocesto iz smeri Brezovice proti Ljubljani. Obvoz bo preko priključka Ljubljana Vič. </p><p><a href=\"https://www.promet.si/sl/aktualna-napoved\" target=\"_blank\">Več o delovnih zaporah v prometni napovedi</a>.</p><p><strong>Prireditve</strong></p><p>Kolesarska prireditev Ilirska Bistrica:<br>- V soboto, 10. avgusta, bodo med 11. in 23. uro zaprte posamezne ceste v Ilirski Bistrici in regionalna cesta proti Knežaku. <br>- V nedeljo, 11. avgusta, bo med 8. in 15. uro zaprta cesta Ilirska Bistrica - Snežnik. </p><p>Cesta Most na Soči - Kobarid bo v Mostu na soči zaprta v soboto, 10. avgusta, med 16. in 21. uro. Obvoz bo urejen. </p>\\n <p><strong>Nesreče</strong></p><p>Na cesti Izola - Lucija, v Strunjanskem drevoredu oviran promet.</p><p><strong>Ovire</strong></p><p>Na vipavski hitri cesti v predoru Podnanos proti razcepu Nanos zaradi okvare vozila zaprt vozni pas.</p><p><strong>Zastoji</strong></p><p><strong>Na primorski avtocesti:</strong><br>- med Senožečami in Ljubljano, zamuda približno 1 ura;<br>- med Ljubljano in Brezovico.<br>Na regionalni cesti Razdrto - Postojna.</p><p><strong>Na ljubljanski južni obvoznici </strong>med priključkoma Rudnik in Center v obe smeri.</p><p><strong>Gorenjska:</strong><br>- Pred predorom Karavanke proti Avstriji 10 km. Na izvozu Lipce je promet dovoljen samo za lokalni promet proti Jesenicam in Kranjski Gori.<br>- Na cesti Lesce - Bled.</p><p>Na štajerski avtocesti pred prehodom Šentilj proti Avstriji, 1 km.</p><p><strong>Delo na cesti</strong></p><p><strong>Popolne zapore:</strong><br>- Cesta Ruše - Puščava pri Fali do 17.'"
            ]
          },
          "execution_count": 29,
          "metadata": {},
          "output_type": "execute_result"
        }
      ],
      "source": [
        "tokenizer.decode(trainer.train_dataset[100][\"input_ids\"])"
      ]
    },
    {
      "cell_type": "markdown",
      "metadata": {
        "id": "4Kyjy__m9KY3"
      },
      "source": [
        "Now let's print the masked out example - you should see only the answer is present:"
      ]
    },
    {
      "cell_type": "code",
      "execution_count": 30,
      "metadata": {
        "colab": {
          "base_uri": "https://localhost:8080/",
          "height": 53
        },
        "id": "_rD6fl8EUxnG",
        "outputId": "2402ba74-08ee-47cb-b2a9-840dd11cafd2"
      },
      "outputs": [
        {
          "data": {
            "application/vnd.google.colaboratory.intrinsic+json": {
              "type": "string"
            },
            "text/plain": [
              "'                                                                                                                                                                                                                                                                                                                                                                                                                                                                                                                                                                                                                                                                                                                                                                                                                                                                                                                                                                                                                                                                                                                                                                                                                                                                                                                                                                                                                                                                                                                                                                                                                                                                                                                                                                                                                                                                                                                                                                                                                                                                                                                                '"
            ]
          },
          "execution_count": 30,
          "metadata": {},
          "output_type": "execute_result"
        }
      ],
      "source": [
        "tokenizer.decode([tokenizer.pad_token_id if x == -100 else x for x in trainer.train_dataset[100][\"labels\"]]).replace(tokenizer.pad_token, \" \")"
      ]
    },
    {
      "cell_type": "code",
      "execution_count": 31,
      "metadata": {
        "colab": {
          "base_uri": "https://localhost:8080/"
        },
        "id": "2ejIt2xSNKKp",
        "outputId": "925ce0b1-d18b-4db8-d0c9-7976911cdd46"
      },
      "outputs": [
        {
          "name": "stdout",
          "output_type": "stream",
          "text": [
            "GPU = Tesla T4. Max memory = 14.741 GB.\n",
            "10.008 GB of memory reserved.\n"
          ]
        }
      ],
      "source": [
        "# @title Show current memory stats\n",
        "gpu_stats = torch.cuda.get_device_properties(0)\n",
        "start_gpu_memory = round(torch.cuda.max_memory_reserved() / 1024 / 1024 / 1024, 3)\n",
        "max_memory = round(gpu_stats.total_memory / 1024 / 1024 / 1024, 3)\n",
        "print(f\"GPU = {gpu_stats.name}. Max memory = {max_memory} GB.\")\n",
        "print(f\"{start_gpu_memory} GB of memory reserved.\")"
      ]
    },
    {
      "cell_type": "markdown",
      "metadata": {
        "id": "CNP1Uidk9mrz"
      },
      "source": [
        "Let's train the model! To resume a training run, set `trainer.train(resume_from_checkpoint = True)`"
      ]
    },
    {
      "cell_type": "code",
      "execution_count": 32,
      "metadata": {
        "colab": {
          "base_uri": "https://localhost:8080/",
          "height": 1000
        },
        "id": "yqxqAZ7KJ4oL",
        "outputId": "ae04e0ec-dca0-4e9d-e22f-09d4d9b300e1"
      },
      "outputs": [
        {
          "name": "stderr",
          "output_type": "stream",
          "text": [
            "==((====))==  Unsloth - 2x faster free finetuning | Num GPUs used = 1\n",
            "   \\\\   /|    Num examples = 6,128 | Num Epochs = 1 | Total steps = 30\n",
            "O^O/ \\_/ \\    Batch size per device = 2 | Gradient accumulation steps = 4\n",
            "\\        /    Data Parallel GPUs = 1 | Total batch size (2 x 4 x 1) = 8\n",
            " \"-____-\"     Trainable parameters = 14,901,248/4,000,000,000 (0.37% trained)\n"
          ]
        },
        {
          "data": {
            "text/html": [
              "\n",
              "    <div>\n",
              "      \n",
              "      <progress value='30' max='30' style='width:300px; height:20px; vertical-align: middle;'></progress>\n",
              "      [30/30 16:47, Epoch 0/1]\n",
              "    </div>\n",
              "    <table border=\"1\" class=\"dataframe\">\n",
              "  <thead>\n",
              " <tr style=\"text-align: left;\">\n",
              "      <th>Step</th>\n",
              "      <th>Training Loss</th>\n",
              "    </tr>\n",
              "  </thead>\n",
              "  <tbody>\n",
              "    <tr>\n",
              "      <td>1</td>\n",
              "      <td>3.838700</td>\n",
              "    </tr>\n",
              "    <tr>\n",
              "      <td>2</td>\n",
              "      <td>3.694100</td>\n",
              "    </tr>\n",
              "    <tr>\n",
              "      <td>3</td>\n",
              "      <td>3.220600</td>\n",
              "    </tr>\n",
              "    <tr>\n",
              "      <td>4</td>\n",
              "      <td>3.510400</td>\n",
              "    </tr>\n",
              "    <tr>\n",
              "      <td>5</td>\n",
              "      <td>3.298900</td>\n",
              "    </tr>\n",
              "    <tr>\n",
              "      <td>6</td>\n",
              "      <td>2.944700</td>\n",
              "    </tr>\n",
              "    <tr>\n",
              "      <td>7</td>\n",
              "      <td>2.169100</td>\n",
              "    </tr>\n",
              "    <tr>\n",
              "      <td>8</td>\n",
              "      <td>2.101400</td>\n",
              "    </tr>\n",
              "    <tr>\n",
              "      <td>9</td>\n",
              "      <td>2.433100</td>\n",
              "    </tr>\n",
              "    <tr>\n",
              "      <td>10</td>\n",
              "      <td>1.860100</td>\n",
              "    </tr>\n",
              "    <tr>\n",
              "      <td>11</td>\n",
              "      <td>1.439200</td>\n",
              "    </tr>\n",
              "    <tr>\n",
              "      <td>12</td>\n",
              "      <td>1.872500</td>\n",
              "    </tr>\n",
              "    <tr>\n",
              "      <td>13</td>\n",
              "      <td>1.616900</td>\n",
              "    </tr>\n",
              "    <tr>\n",
              "      <td>14</td>\n",
              "      <td>1.748600</td>\n",
              "    </tr>\n",
              "    <tr>\n",
              "      <td>15</td>\n",
              "      <td>1.745800</td>\n",
              "    </tr>\n",
              "    <tr>\n",
              "      <td>16</td>\n",
              "      <td>1.693300</td>\n",
              "    </tr>\n",
              "    <tr>\n",
              "      <td>17</td>\n",
              "      <td>1.520000</td>\n",
              "    </tr>\n",
              "    <tr>\n",
              "      <td>18</td>\n",
              "      <td>1.767500</td>\n",
              "    </tr>\n",
              "    <tr>\n",
              "      <td>19</td>\n",
              "      <td>1.788700</td>\n",
              "    </tr>\n",
              "    <tr>\n",
              "      <td>20</td>\n",
              "      <td>1.397200</td>\n",
              "    </tr>\n",
              "    <tr>\n",
              "      <td>21</td>\n",
              "      <td>1.410200</td>\n",
              "    </tr>\n",
              "    <tr>\n",
              "      <td>22</td>\n",
              "      <td>1.743200</td>\n",
              "    </tr>\n",
              "    <tr>\n",
              "      <td>23</td>\n",
              "      <td>0.903800</td>\n",
              "    </tr>\n",
              "    <tr>\n",
              "      <td>24</td>\n",
              "      <td>0.913100</td>\n",
              "    </tr>\n",
              "    <tr>\n",
              "      <td>25</td>\n",
              "      <td>1.554700</td>\n",
              "    </tr>\n",
              "    <tr>\n",
              "      <td>26</td>\n",
              "      <td>1.571600</td>\n",
              "    </tr>\n",
              "    <tr>\n",
              "      <td>27</td>\n",
              "      <td>1.563800</td>\n",
              "    </tr>\n",
              "    <tr>\n",
              "      <td>28</td>\n",
              "      <td>1.579000</td>\n",
              "    </tr>\n",
              "    <tr>\n",
              "      <td>29</td>\n",
              "      <td>1.528700</td>\n",
              "    </tr>\n",
              "    <tr>\n",
              "      <td>30</td>\n",
              "      <td>1.499000</td>\n",
              "    </tr>\n",
              "  </tbody>\n",
              "</table><p>"
            ],
            "text/plain": [
              "<IPython.core.display.HTML object>"
            ]
          },
          "metadata": {},
          "output_type": "display_data"
        }
      ],
      "source": [
        "trainer_stats = trainer.train()"
      ]
    },
    {
      "cell_type": "code",
      "execution_count": null,
      "metadata": {
        "cellView": "form",
        "colab": {
          "base_uri": "https://localhost:8080/"
        },
        "id": "pCqnaKmlO1U9",
        "outputId": "5d5d33ee-7a84-4418-b038-bd15fb4614e4"
      },
      "outputs": [
        {
          "name": "stdout",
          "output_type": "stream",
          "text": [
            "1068.4322 seconds used for training.\n",
            "17.81 minutes used for training.\n",
            "Peak reserved memory = 13.561 GB.\n",
            "Peak reserved memory for training = 9.278 GB.\n",
            "Peak reserved memory % of max memory = 91.995 %.\n",
            "Peak reserved memory for training % of max memory = 62.94 %.\n"
          ]
        }
      ],
      "source": [
        "# @title Show final memory and time stats\n",
        "used_memory = round(torch.cuda.max_memory_reserved() / 1024 / 1024 / 1024, 3)\n",
        "used_memory_for_lora = round(used_memory - start_gpu_memory, 3)\n",
        "used_percentage = round(used_memory / max_memory * 100, 3)\n",
        "lora_percentage = round(used_memory_for_lora / max_memory * 100, 3)\n",
        "print(f\"{trainer_stats.metrics['train_runtime']} seconds used for training.\")\n",
        "print(\n",
        "    f\"{round(trainer_stats.metrics['train_runtime']/60, 2)} minutes used for training.\"\n",
        ")\n",
        "print(f\"Peak reserved memory = {used_memory} GB.\")\n",
        "print(f\"Peak reserved memory for training = {used_memory_for_lora} GB.\")\n",
        "print(f\"Peak reserved memory % of max memory = {used_percentage} %.\")\n",
        "print(f\"Peak reserved memory for training % of max memory = {lora_percentage} %.\")"
      ]
    },
    {
      "cell_type": "markdown",
      "metadata": {
        "id": "ekOmTR1hSNcr"
      },
      "source": [
        "<a name=\"Inference\"></a>\n",
        "### Inference\n",
        "Let's run the model via Unsloth native inference! According to the `Gemma-3` team, the recommended settings for inference are `temperature = 1.0, top_p = 0.95, top_k = 64`"
      ]
    },
    {
      "cell_type": "code",
      "execution_count": 21,
      "metadata": {
        "colab": {
          "base_uri": "https://localhost:8080/"
        },
        "id": "kR3gIAX-SM2q",
        "outputId": "c5748bcb-b7ea-4191-b2cc-440b6832060a"
      },
      "outputs": [
        {
          "data": {
            "text/plain": [
              "['<bos><start_of_turn>user\\n**Role:** You are a Slovenian radio reporter.\\n**Goal:** Reshape input information into a concise text fit for radio transmission. Prioritize important informations. Some events may be listed multiple times. Make sure to only include them once.\\n\\n**Output format (note you do not haveto select exactly 3 informations):**\\n<START_TRAFFIC_REPORT>\\n[Traffic info #1]\\n\\n[Traffic info #2]\\n\\n[Traffic info #3]\\n<END_TRAFFIC_REPORT>\\n\\n**Example report (do not use this data while constructing your answer):**\\n<example-report>\\nZaradi prometne nesreče je zaprta regionalna cesta Ajševica - Rožna Dolina pri Ajševici.\\nPrav tako je zaradi nesreče zaprta regionalna cesta Pesek - Oplotnica v Oplotnici.\\n\\nNa nekdanji hitri cesti skozi Maribor proti Slivnici predmet na cestišču ovira promet pred izvozom Maribor - center.\\n\\nPovečan promet osebnih vozil je na mejnem prehodu Obrežje pri vstopu v državo in izstopu iz nje ter v Gruškovju, samo pri izstopu iz države.\\n</example-report>\\n\\n**Data to use in your report:**\\n<p><strong>Ovire</strong></p><p>Na vipavski hitri cesti je zaradi okvare tovornega vozila zaprt vozni pas med pokritim vkopom Rebrnice 1 in razcepom Nanos v smeri Razdrtega.</p><p><strong>Zastoji</strong></p><p>Zaradi jutranje prometne konice je promet povečan na mestnih obvoznicah in cestah, ki vodijo proti mestnim središčem.</p><p>Zastoji proti Ljubljani so na štajerski avtocesti iz smeri Lukovice, na gorenjski avtocesti iz smeri Brnika in na cesti Trzin - Črnuče.</p><p>Na štajerski avtocesti med Krtino in Lukovico proti Mariboru, zaradi del.</p><p><strong>Delo na cesti</strong></p><p>Danes ponoči, med 20. in 5. uro, bo na gorenjski avtocesti zaprt predor Šentvid v obe smeri.</p><p>Na cesti Soteska - Črmošnjice - Črnomelj bo zaradi vzdrževalnih del danes do 18. ure zaprta Črnomeljska obvoznica. Obvoz je urejen. </p><p>Cesta čez Pavličevo sedlo bo zaradi sekanja lesa zaprta do 24. maja.</p><p>Cesta Lesce - Kamna Gorica - Lipnica bo v Kamni Gorici zaprta od sobote, 25. 5., od 6. ure, do nedelje, 26. 5., do 19. ure.</p><p>Cesta Brezovica - Podpeč bo zaradi asfaltiranja na Brezovici zaprta od sobote, 25. 5., od 4. ure, do nedelje, 26. 5., do 19. ure.</p><p><a href=\"https://www.promet.si/sl/aktualna-napoved\" target=\"_blank\">Več o delovnih zaporah v prometni napovedi</a>.</p>\\n <p><strong>Zastoji</strong></p><p>Zaradi jutranje prometne konice je promet povečan na mestnih obvoznicah in cestah, ki vodijo proti mestnim središčem.</p><p>Zastoji proti Ljubljani so na štajerski avtocesti iz smeri Lukovice, na gorenjski avtocesti iz smeri Brnika in na cesti Trzin - Črnuče.</p><p>Na štajerski avtocesti med Krtino in Lukovico proti Mariboru, zaradi del.</p><p><strong>Delo na cesti</strong></p><p>Danes ponoči, med 20. in 5. uro, bo na gorenjski avtocesti zaprt predor Šentvid v obe smeri.</p><p>Na cesti Soteska - Črmošnjice - Črnomelj bo zaradi vzdrževalnih del danes do 18. ure zaprta Črnomeljska obvoznica. Obvoz je urejen. </p><p>Cesta čez Pavličevo sedlo bo zaradi sekanja lesa zaprta do 24. maja.</p><p>Cesta Lesce - Kamna Gorica - Lipnica bo v Kamni Gorici zaprta od sobote, 25. 5., od 6. ure, do nedelje, 26. 5., do 19. ure.</p><p>Cesta Brezovica - Podpeč bo zaradi asfaltiranja na Brezovici zaprta od sobote, 25. 5., od 4. ure, do nedelje, 26. 5., do 19. ure.</p><p><a href=\"https://www.promet.si/sl/aktualna-napoved\" target=\"_blank\">Več o delovnih zaporah v prometni napovedi</a>.</p>\\n <p><strong>Nesreče</strong></p><p>Na štajerski avtocesti je oviran promet med Sneberjami in Zadobrovo proti Ljubljani.</p><p><strong>Zastoji</strong></p><p>Zaradi jutranje prometne konice je promet povečan na mestnih obvoznicah in cestah, ki vodijo proti mestnim središčem.</p><p>Zastoji proti Ljubljani so na štajerski avtocesti iz smeri Lukovice, na gorenjski avtocesti iz smeri Brnika in na cesti Trzin - Črnuče.</p><p>Na štajerski avtocesti med Krtino in Lukovico proti Mariboru, zaradi del.</p><p><strong>Delo na cesti</strong></p><p>Danes ponoči, med 20. in 5. uro, bo na gorenjski avtocesti zaprt predor Šentvid v obe smeri.</p><p>Na cesti Soteska - Črmošnjice - Črnomelj bo zaradi vzdrževalnih del danes do 18. ure zaprta Črnomeljska obvoznica. Obvoz je urejen. </p><p>Cesta čez Pavličevo sedlo bo zaradi sekanja lesa zaprta do 24. maja.</p><p>Cesta Lesce - Kamna Gorica - Lipnica bo v Kamni Gorici zaprta od sobote, 25. 5., od 6. ure, do nedelje, 26. 5., do 19. ure.</p><p>Cesta Brezovica - Podpeč bo zaradi asfaltiranja na Brezovici zaprta od sobote, 25. 5., od 4. ure, do nedelje, 26. 5., do 19. ure.</p><p><a href=\"https://www.promet.si/sl/aktualna-napoved\" target=\"_blank\">Več o delovnih zaporah v prometni napovedi</a>.</p><end_of_turn>\\n<start_of_turn>model\\n<START_TRAFFIC_REPORT>\\nZaradi prometne nesreče je zaprt štajerski avtocestni priključek Brezovica-Podpeč.\\n\\nNa štajerski avtocesti je oviran promet med Sneberjami in Zadobrovo proti Ljubljani.\\n\\nNa nekdanji hitri cesti skozi Maribor proti Slivnici pred Izvorom je zaradi del zastoj na progi.\\n\\x00\\n<END_TRAFFIC_REPORT><end_of_turn>']"
            ]
          },
          "execution_count": 21,
          "metadata": {},
          "output_type": "execute_result"
        }
      ],
      "source": [
        "from unsloth.chat_templates import get_chat_template\n",
        "tokenizer = get_chat_template(\n",
        "    tokenizer,\n",
        "    chat_template = \"gemma-3\",\n",
        ")\n",
        "messages = [{\n",
        "    \"role\": \"user\",\n",
        "    \"content\": [{\n",
        "        \"type\" : \"text\",\n",
        "        \"text\" : \"**Role:** You are a Slovenian radio reporter.\\n**Goal:** Reshape input information into a concise text fit for radio transmission. Prioritize important informations. Some events may be listed multiple times. Make sure to only include them once.\\n\\n**Output format (note you do not haveto select exactly 3 informations):**\\n<START_TRAFFIC_REPORT>\\n[Traffic info #1]\\n\\n[Traffic info #2]\\n\\n[Traffic info #3]\\n<END_TRAFFIC_REPORT>\\n\\n**Example report (do not use this data while constructing your answer):**\\n<example-report>\\nZaradi prometne nesreče je zaprta regionalna cesta Ajševica - Rožna Dolina pri Ajševici.\\nPrav tako je zaradi nesreče zaprta regionalna cesta Pesek - Oplotnica v Oplotnici.\\n\\nNa nekdanji hitri cesti skozi Maribor proti Slivnici predmet na cestišču ovira promet pred izvozom Maribor - center.\\n\\nPovečan promet osebnih vozil je na mejnem prehodu Obrežje pri vstopu v državo in izstopu iz nje ter v Gruškovju, samo pri izstopu iz države.\\n</example-report>\\n\\n**Data to use in your report:**\\n<p><strong>Ovire</strong></p><p>Na vipavski hitri cesti je zaradi okvare tovornega vozila zaprt vozni pas med pokritim vkopom Rebrnice 1 in razcepom Nanos v smeri Razdrtega.</p><p><strong>Zastoji</strong></p><p>Zaradi jutranje prometne konice je promet povečan na mestnih obvoznicah in cestah, ki vodijo proti mestnim središčem.</p><p>Zastoji proti Ljubljani so na štajerski avtocesti iz smeri Lukovice, na gorenjski avtocesti iz smeri Brnika in na cesti Trzin - Črnuče.</p><p>Na štajerski avtocesti med Krtino in Lukovico proti Mariboru, zaradi del.</p><p><strong>Delo na cesti</strong></p><p>Danes ponoči, med 20. in 5. uro, bo na gorenjski avtocesti zaprt predor Šentvid v obe smeri.</p><p>Na cesti Soteska - Črmošnjice - Črnomelj bo zaradi vzdrževalnih del danes do 18. ure zaprta Črnomeljska obvoznica. Obvoz je urejen. </p><p>Cesta čez Pavličevo sedlo bo zaradi sekanja lesa zaprta do 24. maja.</p><p>Cesta Lesce - Kamna Gorica - Lipnica bo v Kamni Gorici zaprta od sobote, 25. 5., od 6. ure, do nedelje, 26. 5., do 19. ure.</p><p>Cesta Brezovica - Podpeč bo zaradi asfaltiranja na Brezovici zaprta od sobote, 25. 5., od 4. ure, do nedelje, 26. 5., do 19. ure.</p><p><a href=\\\"https://www.promet.si/sl/aktualna-napoved\\\" target=\\\"_blank\\\">Več o delovnih zaporah v prometni napovedi</a>.</p>\\n <p><strong>Zastoji</strong></p><p>Zaradi jutranje prometne konice je promet povečan na mestnih obvoznicah in cestah, ki vodijo proti mestnim središčem.</p><p>Zastoji proti Ljubljani so na štajerski avtocesti iz smeri Lukovice, na gorenjski avtocesti iz smeri Brnika in na cesti Trzin - Črnuče.</p><p>Na štajerski avtocesti med Krtino in Lukovico proti Mariboru, zaradi del.</p><p><strong>Delo na cesti</strong></p><p>Danes ponoči, med 20. in 5. uro, bo na gorenjski avtocesti zaprt predor Šentvid v obe smeri.</p><p>Na cesti Soteska - Črmošnjice - Črnomelj bo zaradi vzdrževalnih del danes do 18. ure zaprta Črnomeljska obvoznica. Obvoz je urejen. </p><p>Cesta čez Pavličevo sedlo bo zaradi sekanja lesa zaprta do 24. maja.</p><p>Cesta Lesce - Kamna Gorica - Lipnica bo v Kamni Gorici zaprta od sobote, 25. 5., od 6. ure, do nedelje, 26. 5., do 19. ure.</p><p>Cesta Brezovica - Podpeč bo zaradi asfaltiranja na Brezovici zaprta od sobote, 25. 5., od 4. ure, do nedelje, 26. 5., do 19. ure.</p><p><a href=\\\"https://www.promet.si/sl/aktualna-napoved\\\" target=\\\"_blank\\\">Več o delovnih zaporah v prometni napovedi</a>.</p>\\n <p><strong>Nesreče</strong></p><p>Na štajerski avtocesti je oviran promet med Sneberjami in Zadobrovo proti Ljubljani.</p><p><strong>Zastoji</strong></p><p>Zaradi jutranje prometne konice je promet povečan na mestnih obvoznicah in cestah, ki vodijo proti mestnim središčem.</p><p>Zastoji proti Ljubljani so na štajerski avtocesti iz smeri Lukovice, na gorenjski avtocesti iz smeri Brnika in na cesti Trzin - Črnuče.</p><p>Na štajerski avtocesti med Krtino in Lukovico proti Mariboru, zaradi del.</p><p><strong>Delo na cesti</strong></p><p>Danes ponoči, med 20. in 5. uro, bo na gorenjski avtocesti zaprt predor Šentvid v obe smeri.</p><p>Na cesti Soteska - Črmošnjice - Črnomelj bo zaradi vzdrževalnih del danes do 18. ure zaprta Črnomeljska obvoznica. Obvoz je urejen. </p><p>Cesta čez Pavličevo sedlo bo zaradi sekanja lesa zaprta do 24. maja.</p><p>Cesta Lesce - Kamna Gorica - Lipnica bo v Kamni Gorici zaprta od sobote, 25. 5., od 6. ure, do nedelje, 26. 5., do 19. ure.</p><p>Cesta Brezovica - Podpeč bo zaradi asfaltiranja na Brezovici zaprta od sobote, 25. 5., od 4. ure, do nedelje, 26. 5., do 19. ure.</p><p><a href=\\\"https://www.promet.si/sl/aktualna-napoved\\\" target=\\\"_blank\\\">Več o delovnih zaporah v prometni napovedi</a>.</p>\",\n",
        "    }]\n",
        "}]\n",
        "text = tokenizer.apply_chat_template(\n",
        "    messages,\n",
        "    add_generation_prompt = True, # Must add for generation\n",
        ")\n",
        "outputs = model.generate(\n",
        "    **tokenizer([text], return_tensors = \"pt\").to(\"cuda\"),\n",
        "    max_new_tokens = 2048, # Increase for longer outputs!\n",
        "    # Recommended Gemma-3 settings!\n",
        "    temperature = 1.0, top_p = 0.95, top_k = 64,\n",
        ")\n",
        "tokenizer.batch_decode(outputs)"
      ]
    },
    {
      "cell_type": "markdown",
      "metadata": {
        "id": "CrSvZObor0lY"
      },
      "source": [
        " You can also use a `TextStreamer` for continuous inference - so you can see the generation token by token, instead of waiting the whole time!"
      ]
    },
    {
      "cell_type": "code",
      "execution_count": null,
      "metadata": {
        "colab": {
          "base_uri": "https://localhost:8080/"
        },
        "id": "e2pEuRb1r2Vg",
        "outputId": "de757d2d-a66b-4be6-c9c9-78cf491dfeba"
      },
      "outputs": [
        {
          "name": "stdout",
          "output_type": "stream",
          "text": [
            "Okay, let's break down why the sky is blue! It's a fascinating phenomenon that boils down to a combination of physics and light. Here's the explanation:\n",
            "\n",
            "**1. Sunlight and its Colors:**\n",
            "\n",
            "* Sunlight, which appears white to us, is actually made up of *all* the\n"
          ]
        }
      ],
      "source": [
        "messages = [{\n",
        "    \"role\": \"user\",\n",
        "    \"content\": [{\"type\" : \"text\", \"text\" : \"Why is the sky blue?\",}]\n",
        "}]\n",
        "text = tokenizer.apply_chat_template(\n",
        "    messages,\n",
        "    add_generation_prompt = True, # Must add for generation\n",
        ")\n",
        "\n",
        "from transformers import TextStreamer\n",
        "_ = model.generate(\n",
        "    **tokenizer([text], return_tensors = \"pt\").to(\"cuda\"),\n",
        "    max_new_tokens = 64, # Increase for longer outputs!\n",
        "    # Recommended Gemma-3 settings!\n",
        "    temperature = 1.0, top_p = 0.95, top_k = 64,\n",
        "    streamer = TextStreamer(tokenizer, skip_prompt = True),\n",
        ")"
      ]
    },
    {
      "cell_type": "markdown",
      "metadata": {
        "id": "uMuVrWbjAzhc"
      },
      "source": [
        "<a name=\"Save\"></a>\n",
        "### Saving, loading finetuned models\n",
        "To save the final model as LoRA adapters, either use Huggingface's `push_to_hub` for an online save or `save_pretrained` for a local save.\n",
        "\n",
        "**[NOTE]** This ONLY saves the LoRA adapters, and not the full model. To save to 16bit or GGUF, scroll down!"
      ]
    },
    {
      "cell_type": "code",
      "execution_count": null,
      "metadata": {
        "colab": {
          "base_uri": "https://localhost:8080/"
        },
        "id": "upcOlWe7A1vc",
        "outputId": "a99a1086-5a2d-4828-d599-7e3634a069cd"
      },
      "outputs": [
        {
          "data": {
            "text/plain": [
              "['gemma-3/processor_config.json']"
            ]
          },
          "execution_count": 19,
          "metadata": {},
          "output_type": "execute_result"
        }
      ],
      "source": [
        "model.save_pretrained(\"gemma-3\")  # Local saving\n",
        "tokenizer.save_pretrained(\"gemma-3\")\n",
        "# model.push_to_hub(\"HF_ACCOUNT/gemma-3\", token = \"...\") # Online saving\n",
        "# tokenizer.push_to_hub(\"HF_ACCOUNT/gemma-3\", token = \"...\") # Online saving"
      ]
    },
    {
      "cell_type": "markdown",
      "metadata": {
        "id": "AEEcJ4qfC7Lp"
      },
      "source": [
        "Now if you want to load the LoRA adapters we just saved for inference, set `False` to `True`:"
      ]
    },
    {
      "cell_type": "code",
      "execution_count": null,
      "metadata": {
        "colab": {
          "base_uri": "https://localhost:8080/"
        },
        "id": "MKX_XKs_BNZR",
        "outputId": "d016d936-4bd5-40f8-dffa-bcfad987f489"
      },
      "outputs": [
        {
          "name": "stdout",
          "output_type": "stream",
          "text": [
            "Okay, let's break down what Gemma-3 is. It's a fascinating development in the world of AI, and here's a comprehensive overview:\n",
            "\n",
            "**1. What it is:**\n",
            "\n",
            "* **A Family of Open-Weight Language Models:** Gemma-3 isn't just *one* model\n"
          ]
        }
      ],
      "source": [
        "if False:\n",
        "    from unsloth import FastModel\n",
        "    model, tokenizer = FastModel.from_pretrained(\n",
        "        model_name = \"lora_model\", # YOUR MODEL YOU USED FOR TRAINING\n",
        "        max_seq_length = 2048,\n",
        "        load_in_4bit = True,\n",
        "    )\n",
        "\n",
        "messages = [{\n",
        "    \"role\": \"user\",\n",
        "    \"content\": [{\"type\" : \"text\", \"text\" : \"What is Gemma-3?\",}]\n",
        "}]\n",
        "text = tokenizer.apply_chat_template(\n",
        "    messages,\n",
        "    add_generation_prompt = True, # Must add for generation\n",
        ")\n",
        "\n",
        "from transformers import TextStreamer\n",
        "_ = model.generate(\n",
        "    **tokenizer([text], return_tensors = \"pt\").to(\"cuda\"),\n",
        "    max_new_tokens = 64, # Increase for longer outputs!\n",
        "    # Recommended Gemma-3 settings!\n",
        "    temperature = 1.0, top_p = 0.95, top_k = 64,\n",
        "    streamer = TextStreamer(tokenizer, skip_prompt = True),\n",
        ")"
      ]
    },
    {
      "cell_type": "markdown",
      "metadata": {
        "id": "f422JgM9sdVT"
      },
      "source": [
        "### Saving to float16 for VLLM\n",
        "\n",
        "We also support saving to `float16` directly for deployment! We save it in the folder `gemma-3-finetune`. Set `if False` to `if True` to let it run!"
      ]
    },
    {
      "cell_type": "code",
      "execution_count": null,
      "metadata": {
        "id": "iHjt_SMYsd3P"
      },
      "outputs": [],
      "source": [
        "if False: # Change to True to save finetune!\n",
        "    model.save_pretrained_merged(\"gemma-3-finetune\", tokenizer)"
      ]
    },
    {
      "cell_type": "markdown",
      "metadata": {
        "id": "z6O48DbNIAr0"
      },
      "source": [
        "If you want to upload / push to your Hugging Face account, set `if False` to `if True` and add your Hugging Face token and upload location!"
      ]
    },
    {
      "cell_type": "code",
      "execution_count": 33,
      "metadata": {
        "colab": {
          "base_uri": "https://localhost:8080/",
          "height": 491,
          "referenced_widgets": [
            "ad441d90b9364d1193791aba64e11c27",
            "1749d2f498354c8080fb2650c974d55b",
            "d5dd89a7fe5d439ea4f189fb824f796a",
            "795f6fc2167f435ea520365ed44f0432",
            "0a00dba8fa424a0d94fd277f40ce4402",
            "62c44608d3c14aa899576e484804e3d8",
            "3841e4be514e447aa029c641fa967cbf",
            "a31e684680564ed1b5efa3228cd6c0cf",
            "f5c5489ede3f41efb6974816bdcdb328",
            "8deaedaffa534491882a37167c92f8a5",
            "8c3425a2c3b64711947d2283b72275bf",
            "e26436af398f4d0f8b5de895ddc48a71",
            "b4a628148a824942b6cad637f1b26d81",
            "4c3f4c9f0d994f1391935e4662c9dec3",
            "bce755e1807a42b28b773e5dbe99dd1d",
            "23330f96a0de4b1bbdc119c4ba73daae",
            "73a17422640842b5a8e0b36d929c8fa5",
            "84bf52e92fbc4cd99236ca16aec37003",
            "d6e081ed3d2f43bea882afa1003ecea1",
            "f971de9be0444abdbad6b7e486ea9205",
            "d612d22e248b4880b79d40474fd82f37",
            "25fbc47268884d71a19af3c2d8416df5",
            "6c5b7214158b4c2e917b902f34089470",
            "cf86c8a532304a008a55778fc285cbd8",
            "5b2468b2b6214d78a62b100b61a9dcd0",
            "4847e8345b624704b207c0b71d5a6bca",
            "c7144ac0cde7401fb77b2c2fd76e8eca",
            "65abd96e73454abdac89c8ba4751ccb4",
            "f0d8b343a42b4025b299a0a2712e77eb",
            "54be28e9de7046cfad679535baa5bc34",
            "8f94164fb69648eb9f69cf36bbadd10a",
            "668fdb4356124e1a82c69856bbc76b9d",
            "cfbba500b4c04a25ba46f60b6dc8497d",
            "a49ad4042b384bd2bcb396097c77cf64",
            "edd967cc753a4024af6722191bcf11fa",
            "56ad2c23e5eb4f53b845096dc64af542",
            "8bd8494c26eb4517a9d44d3c0291b15f",
            "5c17116e443d4d8eaf896968e7addc28",
            "405db0844f2f40e68c759e3d8b624b46",
            "40bb46fe2e824bb798ce13b850810d95",
            "2ac4430ed21e4e16920690bda85daaa1",
            "22621f51d68c4dea8747a2ff4751f32b",
            "2c742319629c45108b006e588c5d6ab1",
            "ab333d0888214c81ae563e3cda471b2e",
            "a9a9681e8e5749fa8b9e32b0a1b12abf",
            "f1cabdebc4c3475f93f734aa51e3cbff",
            "87bbe5043713424ea260fb8cfab9ae92",
            "b21b0517d42747c98cf531397ac353d7",
            "2cb9468b88574bf690e3d6172bb267d9",
            "ffd8835bac6443cdb7d25c01f71b702e",
            "6c357b1d7fcf47bcaad18579186a2e7b",
            "a1223587190a43a9a9ce390f8e161bb6",
            "07788b3589944bf3bef0f8a19aeb2b9e",
            "c70e92996570489b8e7cfc8592f528a7",
            "00ac3ecbb9c6464bb63ac209d67d63b6",
            "ef3d5154c06a443fbbe378f9308cd24f",
            "1f1fc85b9b304b8fa7730a02c5e55c3e",
            "b8118178cd954d109226b906af4ea549",
            "3f7fcf2bc5ac4a8da0cc7b5dbbd578c0",
            "fa90a48e4961450595531073b2b0995f",
            "919d073adfc4425b8dd746b471bd9dac",
            "b463a777f423429d8feffa9fdc6ccd9c",
            "2b046fee4c9744e09209b7dd16a7269a",
            "8d7ecc8ad5124bfd9902a2503858d127",
            "d2a2ec4b090a45aab7b545747365eced",
            "4c09a648fe214af9b34d6be29b58fd72",
            "aec0af0f465347cfa8e7495ab63ef20c",
            "205a1d0fa8284c82a151e06f54c3942d",
            "fd17bd0fe303408e9bc0f1fa418bed6c",
            "3ffaa635457b423883713adc2a2f4753",
            "2ca38e75850a40dbbcb5e8f4bd5467dc",
            "02fa277ed7214c14bf011e82aa61c4bd",
            "f536a1386f794e06811b3c17190525af",
            "8424b4d072424a68b68e80a9348c3583",
            "731516a03c424d749ab68f996d80836f",
            "c2d75d0aafcd4d93b6d4143c65540bc9",
            "6d1e25f25a354d38b72d09ec09154148"
          ]
        },
        "id": "ZV-CiKPrIFG0",
        "outputId": "ca0520fe-2900-4ba1-ae55-23a732b9cff0"
      },
      "outputs": [
        {
          "name": "stderr",
          "output_type": "stream",
          "text": [
            "No files have been modified since last commit. Skipping to prevent empty commit.\n",
            "WARNING:huggingface_hub.hf_api:No files have been modified since last commit. Skipping to prevent empty commit.\n",
            "No files have been modified since last commit. Skipping to prevent empty commit.\n",
            "WARNING:huggingface_hub.hf_api:No files have been modified since last commit. Skipping to prevent empty commit.\n"
          ]
        },
        {
          "name": "stdout",
          "output_type": "stream",
          "text": [
            "Found HuggingFace hub cache directory: /root/.cache/huggingface/hub\n",
            "Checking cache directory for required files...\n",
            "Cache check failed: model-00001-of-00002.safetensors not found in local cache.\n",
            "Not all required files found in cache. Will proceed with downloading.\n",
            "Downloading safetensors index for unsloth/gemma-3-4b-it...\n"
          ]
        },
        {
          "data": {
            "application/vnd.jupyter.widget-view+json": {
              "model_id": "ad441d90b9364d1193791aba64e11c27",
              "version_major": 2,
              "version_minor": 0
            },
            "text/plain": [
              "model.safetensors.index.json:   0%|          | 0.00/90.6k [00:00<?, ?B/s]"
            ]
          },
          "metadata": {},
          "output_type": "display_data"
        },
        {
          "name": "stderr",
          "output_type": "stream",
          "text": [
            "No files have been modified since last commit. Skipping to prevent empty commit.\n",
            "WARNING:huggingface_hub.hf_api:No files have been modified since last commit. Skipping to prevent empty commit.\n",
            "Unsloth: Merging weights into 16bit:   0%|          | 0/2 [00:00<?, ?it/s]"
          ]
        },
        {
          "data": {
            "application/vnd.jupyter.widget-view+json": {
              "model_id": "e26436af398f4d0f8b5de895ddc48a71",
              "version_major": 2,
              "version_minor": 0
            },
            "text/plain": [
              "model-00001-of-00002.safetensors:   0%|          | 0.00/4.96G [00:00<?, ?B/s]"
            ]
          },
          "metadata": {},
          "output_type": "display_data"
        },
        {
          "data": {
            "application/vnd.jupyter.widget-view+json": {
              "model_id": "6c5b7214158b4c2e917b902f34089470",
              "version_major": 2,
              "version_minor": 0
            },
            "text/plain": [
              "  0%|          | 0/1 [00:00<?, ?it/s]"
            ]
          },
          "metadata": {},
          "output_type": "display_data"
        },
        {
          "data": {
            "application/vnd.jupyter.widget-view+json": {
              "model_id": "a49ad4042b384bd2bcb396097c77cf64",
              "version_major": 2,
              "version_minor": 0
            },
            "text/plain": [
              "model-00001-of-00002.safetensors:   0%|          | 0.00/4.96G [00:00<?, ?B/s]"
            ]
          },
          "metadata": {},
          "output_type": "display_data"
        },
        {
          "name": "stderr",
          "output_type": "stream",
          "text": [
            "\rUnsloth: Merging weights into 16bit:  50%|█████     | 1/2 [01:37<01:37, 97.15s/it]"
          ]
        },
        {
          "data": {
            "application/vnd.jupyter.widget-view+json": {
              "model_id": "a9a9681e8e5749fa8b9e32b0a1b12abf",
              "version_major": 2,
              "version_minor": 0
            },
            "text/plain": [
              "model-00002-of-00002.safetensors:   0%|          | 0.00/3.64G [00:00<?, ?B/s]"
            ]
          },
          "metadata": {},
          "output_type": "display_data"
        },
        {
          "data": {
            "application/vnd.jupyter.widget-view+json": {
              "model_id": "ef3d5154c06a443fbbe378f9308cd24f",
              "version_major": 2,
              "version_minor": 0
            },
            "text/plain": [
              "  0%|          | 0/1 [00:00<?, ?it/s]"
            ]
          },
          "metadata": {},
          "output_type": "display_data"
        },
        {
          "data": {
            "application/vnd.jupyter.widget-view+json": {
              "model_id": "aec0af0f465347cfa8e7495ab63ef20c",
              "version_major": 2,
              "version_minor": 0
            },
            "text/plain": [
              "model-00002-of-00002.safetensors:   0%|          | 0.00/3.64G [00:00<?, ?B/s]"
            ]
          },
          "metadata": {},
          "output_type": "display_data"
        },
        {
          "name": "stderr",
          "output_type": "stream",
          "text": [
            "Unsloth: Merging weights into 16bit: 100%|██████████| 2/2 [02:47<00:00, 83.61s/it]\n"
          ]
        }
      ],
      "source": [
        "if True: # Change to True to upload finetune\n",
        "    model.push_to_hub_merged(\n",
        "        \"mmedved/gemma-3-finetune-v2\", tokenizer,\n",
        "        token = \"hf_\"\n",
        "    )"
      ]
    },
    {
      "cell_type": "markdown",
      "metadata": {
        "id": "TCv4vXHd61i7"
      },
      "source": [
        "### GGUF / llama.cpp Conversion\n",
        "To save to `GGUF` / `llama.cpp`, we support it natively now for all models! For now, you can convert easily to `Q8_0, F16 or BF16` precision. `Q4_K_M` for 4bit will come later!"
      ]
    },
    {
      "cell_type": "code",
      "execution_count": null,
      "metadata": {
        "id": "FqfebeAdT073"
      },
      "outputs": [],
      "source": [
        "if False: # Change to True to save to GGUF\n",
        "    model.save_pretrained_gguf(\n",
        "        \"gemma-3-finetune\",\n",
        "        quantization_type = \"Q8_0\", # For now only Q8_0, BF16, F16 supported\n",
        "    )"
      ]
    },
    {
      "cell_type": "markdown",
      "metadata": {
        "id": "Q974YEVPI7JS"
      },
      "source": [
        "Likewise, if you want to instead push to GGUF to your Hugging Face account, set `if False` to `if True` and add your Hugging Face token and upload location!"
      ]
    },
    {
      "cell_type": "code",
      "execution_count": null,
      "metadata": {
        "id": "ZgcJIhJ0I_es"
      },
      "outputs": [],
      "source": [
        "if False: # Change to True to upload GGUF\n",
        "    model.push_to_hub_gguf(\n",
        "        \"gemma-3-finetune\",\n",
        "        quantization_type = \"Q8_0\", # Only Q8_0, BF16, F16 supported\n",
        "        repo_id = \"HF_ACCOUNT/gemma-finetune-gguf\",\n",
        "        token = \"hf_...\",\n",
        "    )"
      ]
    },
    {
      "cell_type": "markdown",
      "metadata": {
        "id": "IBujvXQXprdO"
      },
      "source": [
        "Now, use the `gemma-3-finetune.gguf` file or `gemma-3-finetune-Q4_K_M.gguf` file in llama.cpp or a UI based system like Jan or Open WebUI. You can install Jan [here](https://github.com/janhq/jan) and Open WebUI [here](https://github.com/open-webui/open-webui)\n",
        "\n",
        "And we're done! If you have any questions on Unsloth, we have a [Discord](https://discord.gg/unsloth) channel! If you find any bugs or want to keep updated with the latest LLM stuff, or need help, join projects etc, feel free to join our Discord!\n",
        "\n",
        "Some other links:\n",
        "1. Train your own reasoning model - Llama GRPO notebook [Free Colab](https://colab.research.google.com/github/unslothai/notebooks/blob/main/nb/Llama3.1_(8B)-GRPO.ipynb)\n",
        "2. Saving finetunes to Ollama. [Free notebook](https://colab.research.google.com/github/unslothai/notebooks/blob/main/nb/Llama3_(8B)-Ollama.ipynb)\n",
        "3. Llama 3.2 Vision finetuning - Radiography use case. [Free Colab](https://colab.research.google.com/github/unslothai/notebooks/blob/main/nb/Llama3.2_(11B)-Vision.ipynb)\n",
        "6. See notebooks for DPO, ORPO, Continued pretraining, conversational finetuning and more on our [documentation](https://docs.unsloth.ai/get-started/unsloth-notebooks)!\n",
        "\n",
        "<div class=\"align-center\">\n",
        "  <a href=\"https://unsloth.ai\"><img src=\"https://github.com/unslothai/unsloth/raw/main/images/unsloth%20new%20logo.png\" width=\"115\"></a>\n",
        "  <a href=\"https://discord.gg/unsloth\"><img src=\"https://github.com/unslothai/unsloth/raw/main/images/Discord.png\" width=\"145\"></a>\n",
        "  <a href=\"https://docs.unsloth.ai/\"><img src=\"https://github.com/unslothai/unsloth/blob/main/images/documentation%20green%20button.png?raw=true\" width=\"125\"></a>\n",
        "\n",
        "  Join Discord if you need help + ⭐️ <i>Star us on <a href=\"https://github.com/unslothai/unsloth\">Github</a> </i> ⭐️\n",
        "</div>\n"
      ]
    }
  ],
  "metadata": {
    "accelerator": "GPU",
    "colab": {
      "gpuType": "T4",
      "machine_shape": "hm",
      "provenance": []
    },
    "kernelspec": {
      "display_name": "Python 3",
      "name": "python3"
    },
    "language_info": {
      "codemirror_mode": {
        "name": "ipython",
        "version": 3
      },
      "file_extension": ".py",
      "mimetype": "text/x-python",
      "name": "python",
      "nbconvert_exporter": "python",
      "pygments_lexer": "ipython3",
      "version": "3.11.11"
    },
    "widgets": {
      "application/vnd.jupyter.widget-state+json": {
        "00ac3ecbb9c6464bb63ac209d67d63b6": {
          "model_module": "@jupyter-widgets/controls",
          "model_module_version": "1.5.0",
          "model_name": "DescriptionStyleModel",
          "state": {
            "_model_module": "@jupyter-widgets/controls",
            "_model_module_version": "1.5.0",
            "_model_name": "DescriptionStyleModel",
            "_view_count": null,
            "_view_module": "@jupyter-widgets/base",
            "_view_module_version": "1.2.0",
            "_view_name": "StyleView",
            "description_width": ""
          }
        },
        "02d34225977f42eaa921e31b87fa0958": {
          "model_module": "@jupyter-widgets/base",
          "model_module_version": "1.2.0",
          "model_name": "LayoutModel",
          "state": {
            "_model_module": "@jupyter-widgets/base",
            "_model_module_version": "1.2.0",
            "_model_name": "LayoutModel",
            "_view_count": null,
            "_view_module": "@jupyter-widgets/base",
            "_view_module_version": "1.2.0",
            "_view_name": "LayoutView",
            "align_content": null,
            "align_items": null,
            "align_self": null,
            "border": null,
            "bottom": null,
            "display": null,
            "flex": null,
            "flex_flow": null,
            "grid_area": null,
            "grid_auto_columns": null,
            "grid_auto_flow": null,
            "grid_auto_rows": null,
            "grid_column": null,
            "grid_gap": null,
            "grid_row": null,
            "grid_template_areas": null,
            "grid_template_columns": null,
            "grid_template_rows": null,
            "height": null,
            "justify_content": null,
            "justify_items": null,
            "left": null,
            "margin": null,
            "max_height": null,
            "max_width": null,
            "min_height": null,
            "min_width": null,
            "object_fit": null,
            "object_position": null,
            "order": null,
            "overflow": null,
            "overflow_x": null,
            "overflow_y": null,
            "padding": null,
            "right": null,
            "top": null,
            "visibility": null,
            "width": null
          }
        },
        "02fa277ed7214c14bf011e82aa61c4bd": {
          "model_module": "@jupyter-widgets/base",
          "model_module_version": "1.2.0",
          "model_name": "LayoutModel",
          "state": {
            "_model_module": "@jupyter-widgets/base",
            "_model_module_version": "1.2.0",
            "_model_name": "LayoutModel",
            "_view_count": null,
            "_view_module": "@jupyter-widgets/base",
            "_view_module_version": "1.2.0",
            "_view_name": "LayoutView",
            "align_content": null,
            "align_items": null,
            "align_self": null,
            "border": null,
            "bottom": null,
            "display": null,
            "flex": null,
            "flex_flow": null,
            "grid_area": null,
            "grid_auto_columns": null,
            "grid_auto_flow": null,
            "grid_auto_rows": null,
            "grid_column": null,
            "grid_gap": null,
            "grid_row": null,
            "grid_template_areas": null,
            "grid_template_columns": null,
            "grid_template_rows": null,
            "height": null,
            "justify_content": null,
            "justify_items": null,
            "left": null,
            "margin": null,
            "max_height": null,
            "max_width": null,
            "min_height": null,
            "min_width": null,
            "object_fit": null,
            "object_position": null,
            "order": null,
            "overflow": null,
            "overflow_x": null,
            "overflow_y": null,
            "padding": null,
            "right": null,
            "top": null,
            "visibility": null,
            "width": null
          }
        },
        "07788b3589944bf3bef0f8a19aeb2b9e": {
          "model_module": "@jupyter-widgets/controls",
          "model_module_version": "1.5.0",
          "model_name": "ProgressStyleModel",
          "state": {
            "_model_module": "@jupyter-widgets/controls",
            "_model_module_version": "1.5.0",
            "_model_name": "ProgressStyleModel",
            "_view_count": null,
            "_view_module": "@jupyter-widgets/base",
            "_view_module_version": "1.2.0",
            "_view_name": "StyleView",
            "bar_color": null,
            "description_width": ""
          }
        },
        "0a00dba8fa424a0d94fd277f40ce4402": {
          "model_module": "@jupyter-widgets/base",
          "model_module_version": "1.2.0",
          "model_name": "LayoutModel",
          "state": {
            "_model_module": "@jupyter-widgets/base",
            "_model_module_version": "1.2.0",
            "_model_name": "LayoutModel",
            "_view_count": null,
            "_view_module": "@jupyter-widgets/base",
            "_view_module_version": "1.2.0",
            "_view_name": "LayoutView",
            "align_content": null,
            "align_items": null,
            "align_self": null,
            "border": null,
            "bottom": null,
            "display": null,
            "flex": null,
            "flex_flow": null,
            "grid_area": null,
            "grid_auto_columns": null,
            "grid_auto_flow": null,
            "grid_auto_rows": null,
            "grid_column": null,
            "grid_gap": null,
            "grid_row": null,
            "grid_template_areas": null,
            "grid_template_columns": null,
            "grid_template_rows": null,
            "height": null,
            "justify_content": null,
            "justify_items": null,
            "left": null,
            "margin": null,
            "max_height": null,
            "max_width": null,
            "min_height": null,
            "min_width": null,
            "object_fit": null,
            "object_position": null,
            "order": null,
            "overflow": null,
            "overflow_x": null,
            "overflow_y": null,
            "padding": null,
            "right": null,
            "top": null,
            "visibility": null,
            "width": null
          }
        },
        "153284fa75434ab8ba7f90cd81f3cf6b": {
          "model_module": "@jupyter-widgets/controls",
          "model_module_version": "1.5.0",
          "model_name": "ProgressStyleModel",
          "state": {
            "_model_module": "@jupyter-widgets/controls",
            "_model_module_version": "1.5.0",
            "_model_name": "ProgressStyleModel",
            "_view_count": null,
            "_view_module": "@jupyter-widgets/base",
            "_view_module_version": "1.2.0",
            "_view_name": "StyleView",
            "bar_color": null,
            "description_width": ""
          }
        },
        "15f7e729d89e46c984f276fc7e72d3f4": {
          "model_module": "@jupyter-widgets/controls",
          "model_module_version": "1.5.0",
          "model_name": "FloatProgressModel",
          "state": {
            "_dom_classes": [],
            "_model_module": "@jupyter-widgets/controls",
            "_model_module_version": "1.5.0",
            "_model_name": "FloatProgressModel",
            "_view_count": null,
            "_view_module": "@jupyter-widgets/controls",
            "_view_module_version": "1.5.0",
            "_view_name": "ProgressView",
            "bar_style": "success",
            "description": "",
            "description_tooltip": null,
            "layout": "IPY_MODEL_4788e0faaaed41beb4031055a30624eb",
            "max": 6128,
            "min": 0,
            "orientation": "horizontal",
            "style": "IPY_MODEL_2d83c0ba538e4795aaad79be0a9d49bb",
            "value": 6128
          }
        },
        "1749d2f498354c8080fb2650c974d55b": {
          "model_module": "@jupyter-widgets/controls",
          "model_module_version": "1.5.0",
          "model_name": "HTMLModel",
          "state": {
            "_dom_classes": [],
            "_model_module": "@jupyter-widgets/controls",
            "_model_module_version": "1.5.0",
            "_model_name": "HTMLModel",
            "_view_count": null,
            "_view_module": "@jupyter-widgets/controls",
            "_view_module_version": "1.5.0",
            "_view_name": "HTMLView",
            "description": "",
            "description_tooltip": null,
            "layout": "IPY_MODEL_62c44608d3c14aa899576e484804e3d8",
            "placeholder": "​",
            "style": "IPY_MODEL_3841e4be514e447aa029c641fa967cbf",
            "value": "model.safetensors.index.json: 100%"
          }
        },
        "1965ea9f8ea64107878f74ed0aa38608": {
          "model_module": "@jupyter-widgets/controls",
          "model_module_version": "1.5.0",
          "model_name": "HTMLModel",
          "state": {
            "_dom_classes": [],
            "_model_module": "@jupyter-widgets/controls",
            "_model_module_version": "1.5.0",
            "_model_name": "HTMLModel",
            "_view_count": null,
            "_view_module": "@jupyter-widgets/controls",
            "_view_module_version": "1.5.0",
            "_view_name": "HTMLView",
            "description": "",
            "description_tooltip": null,
            "layout": "IPY_MODEL_c6caf7ef80014fa1a7bc2363b1f8ca8e",
            "placeholder": "​",
            "style": "IPY_MODEL_c9a913d06b494f898a06804d176c5197",
            "value": " 6128/6128 [00:04&lt;00:00, 1537.94 examples/s]"
          }
        },
        "1d8db4dcbceb47f9a8989500035d0a49": {
          "model_module": "@jupyter-widgets/controls",
          "model_module_version": "1.5.0",
          "model_name": "HTMLModel",
          "state": {
            "_dom_classes": [],
            "_model_module": "@jupyter-widgets/controls",
            "_model_module_version": "1.5.0",
            "_model_name": "HTMLModel",
            "_view_count": null,
            "_view_module": "@jupyter-widgets/controls",
            "_view_module_version": "1.5.0",
            "_view_name": "HTMLView",
            "description": "",
            "description_tooltip": null,
            "layout": "IPY_MODEL_e95c6e5540fa46c7a55d94f4495b4433",
            "placeholder": "​",
            "style": "IPY_MODEL_52ade070694d4c589922721c4e0c28e2",
            "value": "Map: 100%"
          }
        },
        "1f1fc85b9b304b8fa7730a02c5e55c3e": {
          "model_module": "@jupyter-widgets/controls",
          "model_module_version": "1.5.0",
          "model_name": "HTMLModel",
          "state": {
            "_dom_classes": [],
            "_model_module": "@jupyter-widgets/controls",
            "_model_module_version": "1.5.0",
            "_model_name": "HTMLModel",
            "_view_count": null,
            "_view_module": "@jupyter-widgets/controls",
            "_view_module_version": "1.5.0",
            "_view_name": "HTMLView",
            "description": "",
            "description_tooltip": null,
            "layout": "IPY_MODEL_919d073adfc4425b8dd746b471bd9dac",
            "placeholder": "​",
            "style": "IPY_MODEL_b463a777f423429d8feffa9fdc6ccd9c",
            "value": "100%"
          }
        },
        "205a1d0fa8284c82a151e06f54c3942d": {
          "model_module": "@jupyter-widgets/controls",
          "model_module_version": "1.5.0",
          "model_name": "HTMLModel",
          "state": {
            "_dom_classes": [],
            "_model_module": "@jupyter-widgets/controls",
            "_model_module_version": "1.5.0",
            "_model_name": "HTMLModel",
            "_view_count": null,
            "_view_module": "@jupyter-widgets/controls",
            "_view_module_version": "1.5.0",
            "_view_name": "HTMLView",
            "description": "",
            "description_tooltip": null,
            "layout": "IPY_MODEL_02fa277ed7214c14bf011e82aa61c4bd",
            "placeholder": "​",
            "style": "IPY_MODEL_f536a1386f794e06811b3c17190525af",
            "value": "model-00002-of-00002.safetensors: "
          }
        },
        "22621f51d68c4dea8747a2ff4751f32b": {
          "model_module": "@jupyter-widgets/controls",
          "model_module_version": "1.5.0",
          "model_name": "ProgressStyleModel",
          "state": {
            "_model_module": "@jupyter-widgets/controls",
            "_model_module_version": "1.5.0",
            "_model_name": "ProgressStyleModel",
            "_view_count": null,
            "_view_module": "@jupyter-widgets/base",
            "_view_module_version": "1.2.0",
            "_view_name": "StyleView",
            "bar_color": null,
            "description_width": ""
          }
        },
        "23330f96a0de4b1bbdc119c4ba73daae": {
          "model_module": "@jupyter-widgets/base",
          "model_module_version": "1.2.0",
          "model_name": "LayoutModel",
          "state": {
            "_model_module": "@jupyter-widgets/base",
            "_model_module_version": "1.2.0",
            "_model_name": "LayoutModel",
            "_view_count": null,
            "_view_module": "@jupyter-widgets/base",
            "_view_module_version": "1.2.0",
            "_view_name": "LayoutView",
            "align_content": null,
            "align_items": null,
            "align_self": null,
            "border": null,
            "bottom": null,
            "display": null,
            "flex": null,
            "flex_flow": null,
            "grid_area": null,
            "grid_auto_columns": null,
            "grid_auto_flow": null,
            "grid_auto_rows": null,
            "grid_column": null,
            "grid_gap": null,
            "grid_row": null,
            "grid_template_areas": null,
            "grid_template_columns": null,
            "grid_template_rows": null,
            "height": null,
            "justify_content": null,
            "justify_items": null,
            "left": null,
            "margin": null,
            "max_height": null,
            "max_width": null,
            "min_height": null,
            "min_width": null,
            "object_fit": null,
            "object_position": null,
            "order": null,
            "overflow": null,
            "overflow_x": null,
            "overflow_y": null,
            "padding": null,
            "right": null,
            "top": null,
            "visibility": null,
            "width": null
          }
        },
        "25fbc47268884d71a19af3c2d8416df5": {
          "model_module": "@jupyter-widgets/controls",
          "model_module_version": "1.5.0",
          "model_name": "DescriptionStyleModel",
          "state": {
            "_model_module": "@jupyter-widgets/controls",
            "_model_module_version": "1.5.0",
            "_model_name": "DescriptionStyleModel",
            "_view_count": null,
            "_view_module": "@jupyter-widgets/base",
            "_view_module_version": "1.2.0",
            "_view_name": "StyleView",
            "description_width": ""
          }
        },
        "2ac4430ed21e4e16920690bda85daaa1": {
          "model_module": "@jupyter-widgets/base",
          "model_module_version": "1.2.0",
          "model_name": "LayoutModel",
          "state": {
            "_model_module": "@jupyter-widgets/base",
            "_model_module_version": "1.2.0",
            "_model_name": "LayoutModel",
            "_view_count": null,
            "_view_module": "@jupyter-widgets/base",
            "_view_module_version": "1.2.0",
            "_view_name": "LayoutView",
            "align_content": null,
            "align_items": null,
            "align_self": null,
            "border": null,
            "bottom": null,
            "display": null,
            "flex": null,
            "flex_flow": null,
            "grid_area": null,
            "grid_auto_columns": null,
            "grid_auto_flow": null,
            "grid_auto_rows": null,
            "grid_column": null,
            "grid_gap": null,
            "grid_row": null,
            "grid_template_areas": null,
            "grid_template_columns": null,
            "grid_template_rows": null,
            "height": null,
            "justify_content": null,
            "justify_items": null,
            "left": null,
            "margin": null,
            "max_height": null,
            "max_width": null,
            "min_height": null,
            "min_width": null,
            "object_fit": null,
            "object_position": null,
            "order": null,
            "overflow": null,
            "overflow_x": null,
            "overflow_y": null,
            "padding": null,
            "right": null,
            "top": null,
            "visibility": null,
            "width": null
          }
        },
        "2b046fee4c9744e09209b7dd16a7269a": {
          "model_module": "@jupyter-widgets/base",
          "model_module_version": "1.2.0",
          "model_name": "LayoutModel",
          "state": {
            "_model_module": "@jupyter-widgets/base",
            "_model_module_version": "1.2.0",
            "_model_name": "LayoutModel",
            "_view_count": null,
            "_view_module": "@jupyter-widgets/base",
            "_view_module_version": "1.2.0",
            "_view_name": "LayoutView",
            "align_content": null,
            "align_items": null,
            "align_self": null,
            "border": null,
            "bottom": null,
            "display": null,
            "flex": null,
            "flex_flow": null,
            "grid_area": null,
            "grid_auto_columns": null,
            "grid_auto_flow": null,
            "grid_auto_rows": null,
            "grid_column": null,
            "grid_gap": null,
            "grid_row": null,
            "grid_template_areas": null,
            "grid_template_columns": null,
            "grid_template_rows": null,
            "height": null,
            "justify_content": null,
            "justify_items": null,
            "left": null,
            "margin": null,
            "max_height": null,
            "max_width": null,
            "min_height": null,
            "min_width": null,
            "object_fit": null,
            "object_position": null,
            "order": null,
            "overflow": null,
            "overflow_x": null,
            "overflow_y": null,
            "padding": null,
            "right": null,
            "top": null,
            "visibility": null,
            "width": null
          }
        },
        "2c742319629c45108b006e588c5d6ab1": {
          "model_module": "@jupyter-widgets/base",
          "model_module_version": "1.2.0",
          "model_name": "LayoutModel",
          "state": {
            "_model_module": "@jupyter-widgets/base",
            "_model_module_version": "1.2.0",
            "_model_name": "LayoutModel",
            "_view_count": null,
            "_view_module": "@jupyter-widgets/base",
            "_view_module_version": "1.2.0",
            "_view_name": "LayoutView",
            "align_content": null,
            "align_items": null,
            "align_self": null,
            "border": null,
            "bottom": null,
            "display": null,
            "flex": null,
            "flex_flow": null,
            "grid_area": null,
            "grid_auto_columns": null,
            "grid_auto_flow": null,
            "grid_auto_rows": null,
            "grid_column": null,
            "grid_gap": null,
            "grid_row": null,
            "grid_template_areas": null,
            "grid_template_columns": null,
            "grid_template_rows": null,
            "height": null,
            "justify_content": null,
            "justify_items": null,
            "left": null,
            "margin": null,
            "max_height": null,
            "max_width": null,
            "min_height": null,
            "min_width": null,
            "object_fit": null,
            "object_position": null,
            "order": null,
            "overflow": null,
            "overflow_x": null,
            "overflow_y": null,
            "padding": null,
            "right": null,
            "top": null,
            "visibility": null,
            "width": null
          }
        },
        "2ca38e75850a40dbbcb5e8f4bd5467dc": {
          "model_module": "@jupyter-widgets/base",
          "model_module_version": "1.2.0",
          "model_name": "LayoutModel",
          "state": {
            "_model_module": "@jupyter-widgets/base",
            "_model_module_version": "1.2.0",
            "_model_name": "LayoutModel",
            "_view_count": null,
            "_view_module": "@jupyter-widgets/base",
            "_view_module_version": "1.2.0",
            "_view_name": "LayoutView",
            "align_content": null,
            "align_items": null,
            "align_self": null,
            "border": null,
            "bottom": null,
            "display": null,
            "flex": null,
            "flex_flow": null,
            "grid_area": null,
            "grid_auto_columns": null,
            "grid_auto_flow": null,
            "grid_auto_rows": null,
            "grid_column": null,
            "grid_gap": null,
            "grid_row": null,
            "grid_template_areas": null,
            "grid_template_columns": null,
            "grid_template_rows": null,
            "height": null,
            "justify_content": null,
            "justify_items": null,
            "left": null,
            "margin": null,
            "max_height": null,
            "max_width": null,
            "min_height": null,
            "min_width": null,
            "object_fit": null,
            "object_position": null,
            "order": null,
            "overflow": null,
            "overflow_x": null,
            "overflow_y": null,
            "padding": null,
            "right": null,
            "top": null,
            "visibility": null,
            "width": null
          }
        },
        "2cb9468b88574bf690e3d6172bb267d9": {
          "model_module": "@jupyter-widgets/base",
          "model_module_version": "1.2.0",
          "model_name": "LayoutModel",
          "state": {
            "_model_module": "@jupyter-widgets/base",
            "_model_module_version": "1.2.0",
            "_model_name": "LayoutModel",
            "_view_count": null,
            "_view_module": "@jupyter-widgets/base",
            "_view_module_version": "1.2.0",
            "_view_name": "LayoutView",
            "align_content": null,
            "align_items": null,
            "align_self": null,
            "border": null,
            "bottom": null,
            "display": null,
            "flex": null,
            "flex_flow": null,
            "grid_area": null,
            "grid_auto_columns": null,
            "grid_auto_flow": null,
            "grid_auto_rows": null,
            "grid_column": null,
            "grid_gap": null,
            "grid_row": null,
            "grid_template_areas": null,
            "grid_template_columns": null,
            "grid_template_rows": null,
            "height": null,
            "justify_content": null,
            "justify_items": null,
            "left": null,
            "margin": null,
            "max_height": null,
            "max_width": null,
            "min_height": null,
            "min_width": null,
            "object_fit": null,
            "object_position": null,
            "order": null,
            "overflow": null,
            "overflow_x": null,
            "overflow_y": null,
            "padding": null,
            "right": null,
            "top": null,
            "visibility": null,
            "width": null
          }
        },
        "2d83c0ba538e4795aaad79be0a9d49bb": {
          "model_module": "@jupyter-widgets/controls",
          "model_module_version": "1.5.0",
          "model_name": "ProgressStyleModel",
          "state": {
            "_model_module": "@jupyter-widgets/controls",
            "_model_module_version": "1.5.0",
            "_model_name": "ProgressStyleModel",
            "_view_count": null,
            "_view_module": "@jupyter-widgets/base",
            "_view_module_version": "1.2.0",
            "_view_name": "StyleView",
            "bar_color": null,
            "description_width": ""
          }
        },
        "33c6823010e24424ab4dbdf4ada908ae": {
          "model_module": "@jupyter-widgets/controls",
          "model_module_version": "1.5.0",
          "model_name": "HTMLModel",
          "state": {
            "_dom_classes": [],
            "_model_module": "@jupyter-widgets/controls",
            "_model_module_version": "1.5.0",
            "_model_name": "HTMLModel",
            "_view_count": null,
            "_view_module": "@jupyter-widgets/controls",
            "_view_module_version": "1.5.0",
            "_view_name": "HTMLView",
            "description": "",
            "description_tooltip": null,
            "layout": "IPY_MODEL_9cf0d2f958cd4cebbbd91270d56e06df",
            "placeholder": "​",
            "style": "IPY_MODEL_cde1da2c2e5a4304a904477e068d0f57",
            "value": " 6128/6128 [00:01&lt;00:00, 5337.99 examples/s]"
          }
        },
        "3841e4be514e447aa029c641fa967cbf": {
          "model_module": "@jupyter-widgets/controls",
          "model_module_version": "1.5.0",
          "model_name": "DescriptionStyleModel",
          "state": {
            "_model_module": "@jupyter-widgets/controls",
            "_model_module_version": "1.5.0",
            "_model_name": "DescriptionStyleModel",
            "_view_count": null,
            "_view_module": "@jupyter-widgets/base",
            "_view_module_version": "1.2.0",
            "_view_name": "StyleView",
            "description_width": ""
          }
        },
        "3b7dad6480c6470994ebced97a738cf0": {
          "model_module": "@jupyter-widgets/base",
          "model_module_version": "1.2.0",
          "model_name": "LayoutModel",
          "state": {
            "_model_module": "@jupyter-widgets/base",
            "_model_module_version": "1.2.0",
            "_model_name": "LayoutModel",
            "_view_count": null,
            "_view_module": "@jupyter-widgets/base",
            "_view_module_version": "1.2.0",
            "_view_name": "LayoutView",
            "align_content": null,
            "align_items": null,
            "align_self": null,
            "border": null,
            "bottom": null,
            "display": null,
            "flex": null,
            "flex_flow": null,
            "grid_area": null,
            "grid_auto_columns": null,
            "grid_auto_flow": null,
            "grid_auto_rows": null,
            "grid_column": null,
            "grid_gap": null,
            "grid_row": null,
            "grid_template_areas": null,
            "grid_template_columns": null,
            "grid_template_rows": null,
            "height": null,
            "justify_content": null,
            "justify_items": null,
            "left": null,
            "margin": null,
            "max_height": null,
            "max_width": null,
            "min_height": null,
            "min_width": null,
            "object_fit": null,
            "object_position": null,
            "order": null,
            "overflow": null,
            "overflow_x": null,
            "overflow_y": null,
            "padding": null,
            "right": null,
            "top": null,
            "visibility": null,
            "width": null
          }
        },
        "3f7fcf2bc5ac4a8da0cc7b5dbbd578c0": {
          "model_module": "@jupyter-widgets/controls",
          "model_module_version": "1.5.0",
          "model_name": "HTMLModel",
          "state": {
            "_dom_classes": [],
            "_model_module": "@jupyter-widgets/controls",
            "_model_module_version": "1.5.0",
            "_model_name": "HTMLModel",
            "_view_count": null,
            "_view_module": "@jupyter-widgets/controls",
            "_view_module_version": "1.5.0",
            "_view_name": "HTMLView",
            "description": "",
            "description_tooltip": null,
            "layout": "IPY_MODEL_d2a2ec4b090a45aab7b545747365eced",
            "placeholder": "​",
            "style": "IPY_MODEL_4c09a648fe214af9b34d6be29b58fd72",
            "value": " 1/1 [00:31&lt;00:00, 31.45s/it]"
          }
        },
        "3ffaa635457b423883713adc2a2f4753": {
          "model_module": "@jupyter-widgets/controls",
          "model_module_version": "1.5.0",
          "model_name": "HTMLModel",
          "state": {
            "_dom_classes": [],
            "_model_module": "@jupyter-widgets/controls",
            "_model_module_version": "1.5.0",
            "_model_name": "HTMLModel",
            "_view_count": null,
            "_view_module": "@jupyter-widgets/controls",
            "_view_module_version": "1.5.0",
            "_view_name": "HTMLView",
            "description": "",
            "description_tooltip": null,
            "layout": "IPY_MODEL_c2d75d0aafcd4d93b6d4143c65540bc9",
            "placeholder": "​",
            "style": "IPY_MODEL_6d1e25f25a354d38b72d09ec09154148",
            "value": " 3.65G/? [00:31&lt;00:00, 638MB/s]"
          }
        },
        "405db0844f2f40e68c759e3d8b624b46": {
          "model_module": "@jupyter-widgets/base",
          "model_module_version": "1.2.0",
          "model_name": "LayoutModel",
          "state": {
            "_model_module": "@jupyter-widgets/base",
            "_model_module_version": "1.2.0",
            "_model_name": "LayoutModel",
            "_view_count": null,
            "_view_module": "@jupyter-widgets/base",
            "_view_module_version": "1.2.0",
            "_view_name": "LayoutView",
            "align_content": null,
            "align_items": null,
            "align_self": null,
            "border": null,
            "bottom": null,
            "display": null,
            "flex": null,
            "flex_flow": null,
            "grid_area": null,
            "grid_auto_columns": null,
            "grid_auto_flow": null,
            "grid_auto_rows": null,
            "grid_column": null,
            "grid_gap": null,
            "grid_row": null,
            "grid_template_areas": null,
            "grid_template_columns": null,
            "grid_template_rows": null,
            "height": null,
            "justify_content": null,
            "justify_items": null,
            "left": null,
            "margin": null,
            "max_height": null,
            "max_width": null,
            "min_height": null,
            "min_width": null,
            "object_fit": null,
            "object_position": null,
            "order": null,
            "overflow": null,
            "overflow_x": null,
            "overflow_y": null,
            "padding": null,
            "right": null,
            "top": null,
            "visibility": null,
            "width": null
          }
        },
        "40bb46fe2e824bb798ce13b850810d95": {
          "model_module": "@jupyter-widgets/controls",
          "model_module_version": "1.5.0",
          "model_name": "DescriptionStyleModel",
          "state": {
            "_model_module": "@jupyter-widgets/controls",
            "_model_module_version": "1.5.0",
            "_model_name": "DescriptionStyleModel",
            "_view_count": null,
            "_view_module": "@jupyter-widgets/base",
            "_view_module_version": "1.2.0",
            "_view_name": "StyleView",
            "description_width": ""
          }
        },
        "42eba5efd9e94a4ea7e8da9437a69ed1": {
          "model_module": "@jupyter-widgets/base",
          "model_module_version": "1.2.0",
          "model_name": "LayoutModel",
          "state": {
            "_model_module": "@jupyter-widgets/base",
            "_model_module_version": "1.2.0",
            "_model_name": "LayoutModel",
            "_view_count": null,
            "_view_module": "@jupyter-widgets/base",
            "_view_module_version": "1.2.0",
            "_view_name": "LayoutView",
            "align_content": null,
            "align_items": null,
            "align_self": null,
            "border": null,
            "bottom": null,
            "display": null,
            "flex": null,
            "flex_flow": null,
            "grid_area": null,
            "grid_auto_columns": null,
            "grid_auto_flow": null,
            "grid_auto_rows": null,
            "grid_column": null,
            "grid_gap": null,
            "grid_row": null,
            "grid_template_areas": null,
            "grid_template_columns": null,
            "grid_template_rows": null,
            "height": null,
            "justify_content": null,
            "justify_items": null,
            "left": null,
            "margin": null,
            "max_height": null,
            "max_width": null,
            "min_height": null,
            "min_width": null,
            "object_fit": null,
            "object_position": null,
            "order": null,
            "overflow": null,
            "overflow_x": null,
            "overflow_y": null,
            "padding": null,
            "right": null,
            "top": null,
            "visibility": null,
            "width": null
          }
        },
        "4788e0faaaed41beb4031055a30624eb": {
          "model_module": "@jupyter-widgets/base",
          "model_module_version": "1.2.0",
          "model_name": "LayoutModel",
          "state": {
            "_model_module": "@jupyter-widgets/base",
            "_model_module_version": "1.2.0",
            "_model_name": "LayoutModel",
            "_view_count": null,
            "_view_module": "@jupyter-widgets/base",
            "_view_module_version": "1.2.0",
            "_view_name": "LayoutView",
            "align_content": null,
            "align_items": null,
            "align_self": null,
            "border": null,
            "bottom": null,
            "display": null,
            "flex": null,
            "flex_flow": null,
            "grid_area": null,
            "grid_auto_columns": null,
            "grid_auto_flow": null,
            "grid_auto_rows": null,
            "grid_column": null,
            "grid_gap": null,
            "grid_row": null,
            "grid_template_areas": null,
            "grid_template_columns": null,
            "grid_template_rows": null,
            "height": null,
            "justify_content": null,
            "justify_items": null,
            "left": null,
            "margin": null,
            "max_height": null,
            "max_width": null,
            "min_height": null,
            "min_width": null,
            "object_fit": null,
            "object_position": null,
            "order": null,
            "overflow": null,
            "overflow_x": null,
            "overflow_y": null,
            "padding": null,
            "right": null,
            "top": null,
            "visibility": null,
            "width": null
          }
        },
        "4847e8345b624704b207c0b71d5a6bca": {
          "model_module": "@jupyter-widgets/controls",
          "model_module_version": "1.5.0",
          "model_name": "HTMLModel",
          "state": {
            "_dom_classes": [],
            "_model_module": "@jupyter-widgets/controls",
            "_model_module_version": "1.5.0",
            "_model_name": "HTMLModel",
            "_view_count": null,
            "_view_module": "@jupyter-widgets/controls",
            "_view_module_version": "1.5.0",
            "_view_name": "HTMLView",
            "description": "",
            "description_tooltip": null,
            "layout": "IPY_MODEL_668fdb4356124e1a82c69856bbc76b9d",
            "placeholder": "​",
            "style": "IPY_MODEL_cfbba500b4c04a25ba46f60b6dc8497d",
            "value": " 1/1 [00:42&lt;00:00, 42.82s/it]"
          }
        },
        "4c09a648fe214af9b34d6be29b58fd72": {
          "model_module": "@jupyter-widgets/controls",
          "model_module_version": "1.5.0",
          "model_name": "DescriptionStyleModel",
          "state": {
            "_model_module": "@jupyter-widgets/controls",
            "_model_module_version": "1.5.0",
            "_model_name": "DescriptionStyleModel",
            "_view_count": null,
            "_view_module": "@jupyter-widgets/base",
            "_view_module_version": "1.2.0",
            "_view_name": "StyleView",
            "description_width": ""
          }
        },
        "4c3f4c9f0d994f1391935e4662c9dec3": {
          "model_module": "@jupyter-widgets/controls",
          "model_module_version": "1.5.0",
          "model_name": "FloatProgressModel",
          "state": {
            "_dom_classes": [],
            "_model_module": "@jupyter-widgets/controls",
            "_model_module_version": "1.5.0",
            "_model_name": "FloatProgressModel",
            "_view_count": null,
            "_view_module": "@jupyter-widgets/controls",
            "_view_module_version": "1.5.0",
            "_view_name": "ProgressView",
            "bar_style": "danger",
            "description": "",
            "description_tooltip": null,
            "layout": "IPY_MODEL_d6e081ed3d2f43bea882afa1003ecea1",
            "max": 4961251752,
            "min": 0,
            "orientation": "horizontal",
            "style": "IPY_MODEL_f971de9be0444abdbad6b7e486ea9205",
            "value": 4961251279
          }
        },
        "52ade070694d4c589922721c4e0c28e2": {
          "model_module": "@jupyter-widgets/controls",
          "model_module_version": "1.5.0",
          "model_name": "DescriptionStyleModel",
          "state": {
            "_model_module": "@jupyter-widgets/controls",
            "_model_module_version": "1.5.0",
            "_model_name": "DescriptionStyleModel",
            "_view_count": null,
            "_view_module": "@jupyter-widgets/base",
            "_view_module_version": "1.2.0",
            "_view_name": "StyleView",
            "description_width": ""
          }
        },
        "54be28e9de7046cfad679535baa5bc34": {
          "model_module": "@jupyter-widgets/base",
          "model_module_version": "1.2.0",
          "model_name": "LayoutModel",
          "state": {
            "_model_module": "@jupyter-widgets/base",
            "_model_module_version": "1.2.0",
            "_model_name": "LayoutModel",
            "_view_count": null,
            "_view_module": "@jupyter-widgets/base",
            "_view_module_version": "1.2.0",
            "_view_name": "LayoutView",
            "align_content": null,
            "align_items": null,
            "align_self": null,
            "border": null,
            "bottom": null,
            "display": null,
            "flex": null,
            "flex_flow": null,
            "grid_area": null,
            "grid_auto_columns": null,
            "grid_auto_flow": null,
            "grid_auto_rows": null,
            "grid_column": null,
            "grid_gap": null,
            "grid_row": null,
            "grid_template_areas": null,
            "grid_template_columns": null,
            "grid_template_rows": null,
            "height": null,
            "justify_content": null,
            "justify_items": null,
            "left": null,
            "margin": null,
            "max_height": null,
            "max_width": null,
            "min_height": null,
            "min_width": null,
            "object_fit": null,
            "object_position": null,
            "order": null,
            "overflow": null,
            "overflow_x": null,
            "overflow_y": null,
            "padding": null,
            "right": null,
            "top": null,
            "visibility": null,
            "width": null
          }
        },
        "56ad2c23e5eb4f53b845096dc64af542": {
          "model_module": "@jupyter-widgets/controls",
          "model_module_version": "1.5.0",
          "model_name": "FloatProgressModel",
          "state": {
            "_dom_classes": [],
            "_model_module": "@jupyter-widgets/controls",
            "_model_module_version": "1.5.0",
            "_model_name": "FloatProgressModel",
            "_view_count": null,
            "_view_module": "@jupyter-widgets/controls",
            "_view_module_version": "1.5.0",
            "_view_name": "ProgressView",
            "bar_style": "success",
            "description": "",
            "description_tooltip": null,
            "layout": "IPY_MODEL_2ac4430ed21e4e16920690bda85daaa1",
            "max": 4961251648,
            "min": 0,
            "orientation": "horizontal",
            "style": "IPY_MODEL_22621f51d68c4dea8747a2ff4751f32b",
            "value": 4961251648
          }
        },
        "5b2468b2b6214d78a62b100b61a9dcd0": {
          "model_module": "@jupyter-widgets/controls",
          "model_module_version": "1.5.0",
          "model_name": "FloatProgressModel",
          "state": {
            "_dom_classes": [],
            "_model_module": "@jupyter-widgets/controls",
            "_model_module_version": "1.5.0",
            "_model_name": "FloatProgressModel",
            "_view_count": null,
            "_view_module": "@jupyter-widgets/controls",
            "_view_module_version": "1.5.0",
            "_view_name": "ProgressView",
            "bar_style": "success",
            "description": "",
            "description_tooltip": null,
            "layout": "IPY_MODEL_54be28e9de7046cfad679535baa5bc34",
            "max": 1,
            "min": 0,
            "orientation": "horizontal",
            "style": "IPY_MODEL_8f94164fb69648eb9f69cf36bbadd10a",
            "value": 1
          }
        },
        "5c17116e443d4d8eaf896968e7addc28": {
          "model_module": "@jupyter-widgets/base",
          "model_module_version": "1.2.0",
          "model_name": "LayoutModel",
          "state": {
            "_model_module": "@jupyter-widgets/base",
            "_model_module_version": "1.2.0",
            "_model_name": "LayoutModel",
            "_view_count": null,
            "_view_module": "@jupyter-widgets/base",
            "_view_module_version": "1.2.0",
            "_view_name": "LayoutView",
            "align_content": null,
            "align_items": null,
            "align_self": null,
            "border": null,
            "bottom": null,
            "display": null,
            "flex": null,
            "flex_flow": null,
            "grid_area": null,
            "grid_auto_columns": null,
            "grid_auto_flow": null,
            "grid_auto_rows": null,
            "grid_column": null,
            "grid_gap": null,
            "grid_row": null,
            "grid_template_areas": null,
            "grid_template_columns": null,
            "grid_template_rows": null,
            "height": null,
            "justify_content": null,
            "justify_items": null,
            "left": null,
            "margin": null,
            "max_height": null,
            "max_width": null,
            "min_height": null,
            "min_width": null,
            "object_fit": null,
            "object_position": null,
            "order": null,
            "overflow": null,
            "overflow_x": null,
            "overflow_y": null,
            "padding": null,
            "right": null,
            "top": null,
            "visibility": null,
            "width": null
          }
        },
        "62c44608d3c14aa899576e484804e3d8": {
          "model_module": "@jupyter-widgets/base",
          "model_module_version": "1.2.0",
          "model_name": "LayoutModel",
          "state": {
            "_model_module": "@jupyter-widgets/base",
            "_model_module_version": "1.2.0",
            "_model_name": "LayoutModel",
            "_view_count": null,
            "_view_module": "@jupyter-widgets/base",
            "_view_module_version": "1.2.0",
            "_view_name": "LayoutView",
            "align_content": null,
            "align_items": null,
            "align_self": null,
            "border": null,
            "bottom": null,
            "display": null,
            "flex": null,
            "flex_flow": null,
            "grid_area": null,
            "grid_auto_columns": null,
            "grid_auto_flow": null,
            "grid_auto_rows": null,
            "grid_column": null,
            "grid_gap": null,
            "grid_row": null,
            "grid_template_areas": null,
            "grid_template_columns": null,
            "grid_template_rows": null,
            "height": null,
            "justify_content": null,
            "justify_items": null,
            "left": null,
            "margin": null,
            "max_height": null,
            "max_width": null,
            "min_height": null,
            "min_width": null,
            "object_fit": null,
            "object_position": null,
            "order": null,
            "overflow": null,
            "overflow_x": null,
            "overflow_y": null,
            "padding": null,
            "right": null,
            "top": null,
            "visibility": null,
            "width": null
          }
        },
        "63302e33d9294701ab7d5ac73579ee91": {
          "model_module": "@jupyter-widgets/controls",
          "model_module_version": "1.5.0",
          "model_name": "DescriptionStyleModel",
          "state": {
            "_model_module": "@jupyter-widgets/controls",
            "_model_module_version": "1.5.0",
            "_model_name": "DescriptionStyleModel",
            "_view_count": null,
            "_view_module": "@jupyter-widgets/base",
            "_view_module_version": "1.2.0",
            "_view_name": "StyleView",
            "description_width": ""
          }
        },
        "65abd96e73454abdac89c8ba4751ccb4": {
          "model_module": "@jupyter-widgets/base",
          "model_module_version": "1.2.0",
          "model_name": "LayoutModel",
          "state": {
            "_model_module": "@jupyter-widgets/base",
            "_model_module_version": "1.2.0",
            "_model_name": "LayoutModel",
            "_view_count": null,
            "_view_module": "@jupyter-widgets/base",
            "_view_module_version": "1.2.0",
            "_view_name": "LayoutView",
            "align_content": null,
            "align_items": null,
            "align_self": null,
            "border": null,
            "bottom": null,
            "display": null,
            "flex": null,
            "flex_flow": null,
            "grid_area": null,
            "grid_auto_columns": null,
            "grid_auto_flow": null,
            "grid_auto_rows": null,
            "grid_column": null,
            "grid_gap": null,
            "grid_row": null,
            "grid_template_areas": null,
            "grid_template_columns": null,
            "grid_template_rows": null,
            "height": null,
            "justify_content": null,
            "justify_items": null,
            "left": null,
            "margin": null,
            "max_height": null,
            "max_width": null,
            "min_height": null,
            "min_width": null,
            "object_fit": null,
            "object_position": null,
            "order": null,
            "overflow": null,
            "overflow_x": null,
            "overflow_y": null,
            "padding": null,
            "right": null,
            "top": null,
            "visibility": null,
            "width": null
          }
        },
        "668fdb4356124e1a82c69856bbc76b9d": {
          "model_module": "@jupyter-widgets/base",
          "model_module_version": "1.2.0",
          "model_name": "LayoutModel",
          "state": {
            "_model_module": "@jupyter-widgets/base",
            "_model_module_version": "1.2.0",
            "_model_name": "LayoutModel",
            "_view_count": null,
            "_view_module": "@jupyter-widgets/base",
            "_view_module_version": "1.2.0",
            "_view_name": "LayoutView",
            "align_content": null,
            "align_items": null,
            "align_self": null,
            "border": null,
            "bottom": null,
            "display": null,
            "flex": null,
            "flex_flow": null,
            "grid_area": null,
            "grid_auto_columns": null,
            "grid_auto_flow": null,
            "grid_auto_rows": null,
            "grid_column": null,
            "grid_gap": null,
            "grid_row": null,
            "grid_template_areas": null,
            "grid_template_columns": null,
            "grid_template_rows": null,
            "height": null,
            "justify_content": null,
            "justify_items": null,
            "left": null,
            "margin": null,
            "max_height": null,
            "max_width": null,
            "min_height": null,
            "min_width": null,
            "object_fit": null,
            "object_position": null,
            "order": null,
            "overflow": null,
            "overflow_x": null,
            "overflow_y": null,
            "padding": null,
            "right": null,
            "top": null,
            "visibility": null,
            "width": null
          }
        },
        "69544c8a58de4e9982c59bdfb280d6e9": {
          "model_module": "@jupyter-widgets/controls",
          "model_module_version": "1.5.0",
          "model_name": "HBoxModel",
          "state": {
            "_dom_classes": [],
            "_model_module": "@jupyter-widgets/controls",
            "_model_module_version": "1.5.0",
            "_model_name": "HBoxModel",
            "_view_count": null,
            "_view_module": "@jupyter-widgets/controls",
            "_view_module_version": "1.5.0",
            "_view_name": "HBoxView",
            "box_style": "",
            "children": [
              "IPY_MODEL_7f272177e2674f78b18754903431de56",
              "IPY_MODEL_ffea977d06cb43fa873f6625c860828b",
              "IPY_MODEL_1965ea9f8ea64107878f74ed0aa38608"
            ],
            "layout": "IPY_MODEL_02d34225977f42eaa921e31b87fa0958"
          }
        },
        "6c357b1d7fcf47bcaad18579186a2e7b": {
          "model_module": "@jupyter-widgets/controls",
          "model_module_version": "1.5.0",
          "model_name": "DescriptionStyleModel",
          "state": {
            "_model_module": "@jupyter-widgets/controls",
            "_model_module_version": "1.5.0",
            "_model_name": "DescriptionStyleModel",
            "_view_count": null,
            "_view_module": "@jupyter-widgets/base",
            "_view_module_version": "1.2.0",
            "_view_name": "StyleView",
            "description_width": ""
          }
        },
        "6c5b7214158b4c2e917b902f34089470": {
          "model_module": "@jupyter-widgets/controls",
          "model_module_version": "1.5.0",
          "model_name": "HBoxModel",
          "state": {
            "_dom_classes": [],
            "_model_module": "@jupyter-widgets/controls",
            "_model_module_version": "1.5.0",
            "_model_name": "HBoxModel",
            "_view_count": null,
            "_view_module": "@jupyter-widgets/controls",
            "_view_module_version": "1.5.0",
            "_view_name": "HBoxView",
            "box_style": "",
            "children": [
              "IPY_MODEL_cf86c8a532304a008a55778fc285cbd8",
              "IPY_MODEL_5b2468b2b6214d78a62b100b61a9dcd0",
              "IPY_MODEL_4847e8345b624704b207c0b71d5a6bca"
            ],
            "layout": "IPY_MODEL_c7144ac0cde7401fb77b2c2fd76e8eca"
          }
        },
        "6d1e25f25a354d38b72d09ec09154148": {
          "model_module": "@jupyter-widgets/controls",
          "model_module_version": "1.5.0",
          "model_name": "DescriptionStyleModel",
          "state": {
            "_model_module": "@jupyter-widgets/controls",
            "_model_module_version": "1.5.0",
            "_model_name": "DescriptionStyleModel",
            "_view_count": null,
            "_view_module": "@jupyter-widgets/base",
            "_view_module_version": "1.2.0",
            "_view_name": "StyleView",
            "description_width": ""
          }
        },
        "731516a03c424d749ab68f996d80836f": {
          "model_module": "@jupyter-widgets/controls",
          "model_module_version": "1.5.0",
          "model_name": "ProgressStyleModel",
          "state": {
            "_model_module": "@jupyter-widgets/controls",
            "_model_module_version": "1.5.0",
            "_model_name": "ProgressStyleModel",
            "_view_count": null,
            "_view_module": "@jupyter-widgets/base",
            "_view_module_version": "1.2.0",
            "_view_name": "StyleView",
            "bar_color": null,
            "description_width": ""
          }
        },
        "73a17422640842b5a8e0b36d929c8fa5": {
          "model_module": "@jupyter-widgets/base",
          "model_module_version": "1.2.0",
          "model_name": "LayoutModel",
          "state": {
            "_model_module": "@jupyter-widgets/base",
            "_model_module_version": "1.2.0",
            "_model_name": "LayoutModel",
            "_view_count": null,
            "_view_module": "@jupyter-widgets/base",
            "_view_module_version": "1.2.0",
            "_view_name": "LayoutView",
            "align_content": null,
            "align_items": null,
            "align_self": null,
            "border": null,
            "bottom": null,
            "display": null,
            "flex": null,
            "flex_flow": null,
            "grid_area": null,
            "grid_auto_columns": null,
            "grid_auto_flow": null,
            "grid_auto_rows": null,
            "grid_column": null,
            "grid_gap": null,
            "grid_row": null,
            "grid_template_areas": null,
            "grid_template_columns": null,
            "grid_template_rows": null,
            "height": null,
            "justify_content": null,
            "justify_items": null,
            "left": null,
            "margin": null,
            "max_height": null,
            "max_width": null,
            "min_height": null,
            "min_width": null,
            "object_fit": null,
            "object_position": null,
            "order": null,
            "overflow": null,
            "overflow_x": null,
            "overflow_y": null,
            "padding": null,
            "right": null,
            "top": null,
            "visibility": null,
            "width": null
          }
        },
        "76f6738278634da88ed81910a7c77d13": {
          "model_module": "@jupyter-widgets/controls",
          "model_module_version": "1.5.0",
          "model_name": "HBoxModel",
          "state": {
            "_dom_classes": [],
            "_model_module": "@jupyter-widgets/controls",
            "_model_module_version": "1.5.0",
            "_model_name": "HBoxModel",
            "_view_count": null,
            "_view_module": "@jupyter-widgets/controls",
            "_view_module_version": "1.5.0",
            "_view_name": "HBoxView",
            "box_style": "",
            "children": [
              "IPY_MODEL_843b75623a6c47a39c18029662b967e6",
              "IPY_MODEL_d4963f5a001b4793b29c662682d1ff45",
              "IPY_MODEL_a04bba69204d411786c4a68f38ade26a"
            ],
            "layout": "IPY_MODEL_b490a6da46be47de9c3280b1e6e1046d"
          }
        },
        "795f6fc2167f435ea520365ed44f0432": {
          "model_module": "@jupyter-widgets/controls",
          "model_module_version": "1.5.0",
          "model_name": "HTMLModel",
          "state": {
            "_dom_classes": [],
            "_model_module": "@jupyter-widgets/controls",
            "_model_module_version": "1.5.0",
            "_model_name": "HTMLModel",
            "_view_count": null,
            "_view_module": "@jupyter-widgets/controls",
            "_view_module_version": "1.5.0",
            "_view_name": "HTMLView",
            "description": "",
            "description_tooltip": null,
            "layout": "IPY_MODEL_8deaedaffa534491882a37167c92f8a5",
            "placeholder": "​",
            "style": "IPY_MODEL_8c3425a2c3b64711947d2283b72275bf",
            "value": " 90.6k/90.6k [00:00&lt;00:00, 3.43MB/s]"
          }
        },
        "7cfed63004c84702b2f289c9254cdd76": {
          "model_module": "@jupyter-widgets/controls",
          "model_module_version": "1.5.0",
          "model_name": "HTMLModel",
          "state": {
            "_dom_classes": [],
            "_model_module": "@jupyter-widgets/controls",
            "_model_module_version": "1.5.0",
            "_model_name": "HTMLModel",
            "_view_count": null,
            "_view_module": "@jupyter-widgets/controls",
            "_view_module_version": "1.5.0",
            "_view_name": "HTMLView",
            "description": "",
            "description_tooltip": null,
            "layout": "IPY_MODEL_c48b6634ff024306aabfaa4ed4ca974f",
            "placeholder": "​",
            "style": "IPY_MODEL_b79fe5bf0eab4fdf80ddcce01ecd4c35",
            "value": "Unsloth: Tokenizing [&quot;text&quot;] (num_proc=2): 100%"
          }
        },
        "7f272177e2674f78b18754903431de56": {
          "model_module": "@jupyter-widgets/controls",
          "model_module_version": "1.5.0",
          "model_name": "HTMLModel",
          "state": {
            "_dom_classes": [],
            "_model_module": "@jupyter-widgets/controls",
            "_model_module_version": "1.5.0",
            "_model_name": "HTMLModel",
            "_view_count": null,
            "_view_module": "@jupyter-widgets/controls",
            "_view_module_version": "1.5.0",
            "_view_name": "HTMLView",
            "description": "",
            "description_tooltip": null,
            "layout": "IPY_MODEL_f908c0f37f504bd1b7014e6bc3183f51",
            "placeholder": "​",
            "style": "IPY_MODEL_f604d002b247414fa0c87c292ca0d58a",
            "value": "Unsloth: Standardizing formats (num_proc=8): 100%"
          }
        },
        "81a3708c918c435f9ac7d34186d4c917": {
          "model_module": "@jupyter-widgets/controls",
          "model_module_version": "1.5.0",
          "model_name": "DescriptionStyleModel",
          "state": {
            "_model_module": "@jupyter-widgets/controls",
            "_model_module_version": "1.5.0",
            "_model_name": "DescriptionStyleModel",
            "_view_count": null,
            "_view_module": "@jupyter-widgets/base",
            "_view_module_version": "1.2.0",
            "_view_name": "StyleView",
            "description_width": ""
          }
        },
        "8424b4d072424a68b68e80a9348c3583": {
          "model_module": "@jupyter-widgets/base",
          "model_module_version": "1.2.0",
          "model_name": "LayoutModel",
          "state": {
            "_model_module": "@jupyter-widgets/base",
            "_model_module_version": "1.2.0",
            "_model_name": "LayoutModel",
            "_view_count": null,
            "_view_module": "@jupyter-widgets/base",
            "_view_module_version": "1.2.0",
            "_view_name": "LayoutView",
            "align_content": null,
            "align_items": null,
            "align_self": null,
            "border": null,
            "bottom": null,
            "display": null,
            "flex": null,
            "flex_flow": null,
            "grid_area": null,
            "grid_auto_columns": null,
            "grid_auto_flow": null,
            "grid_auto_rows": null,
            "grid_column": null,
            "grid_gap": null,
            "grid_row": null,
            "grid_template_areas": null,
            "grid_template_columns": null,
            "grid_template_rows": null,
            "height": null,
            "justify_content": null,
            "justify_items": null,
            "left": null,
            "margin": null,
            "max_height": null,
            "max_width": null,
            "min_height": null,
            "min_width": null,
            "object_fit": null,
            "object_position": null,
            "order": null,
            "overflow": null,
            "overflow_x": null,
            "overflow_y": null,
            "padding": null,
            "right": null,
            "top": null,
            "visibility": null,
            "width": null
          }
        },
        "843b75623a6c47a39c18029662b967e6": {
          "model_module": "@jupyter-widgets/controls",
          "model_module_version": "1.5.0",
          "model_name": "HTMLModel",
          "state": {
            "_dom_classes": [],
            "_model_module": "@jupyter-widgets/controls",
            "_model_module_version": "1.5.0",
            "_model_name": "HTMLModel",
            "_view_count": null,
            "_view_module": "@jupyter-widgets/controls",
            "_view_module_version": "1.5.0",
            "_view_name": "HTMLView",
            "description": "",
            "description_tooltip": null,
            "layout": "IPY_MODEL_42eba5efd9e94a4ea7e8da9437a69ed1",
            "placeholder": "​",
            "style": "IPY_MODEL_81a3708c918c435f9ac7d34186d4c917",
            "value": "Map (num_proc=8): 100%"
          }
        },
        "84bf52e92fbc4cd99236ca16aec37003": {
          "model_module": "@jupyter-widgets/controls",
          "model_module_version": "1.5.0",
          "model_name": "DescriptionStyleModel",
          "state": {
            "_model_module": "@jupyter-widgets/controls",
            "_model_module_version": "1.5.0",
            "_model_name": "DescriptionStyleModel",
            "_view_count": null,
            "_view_module": "@jupyter-widgets/base",
            "_view_module_version": "1.2.0",
            "_view_name": "StyleView",
            "description_width": ""
          }
        },
        "869bc317caaf4261b9b3793e9981e75c": {
          "model_module": "@jupyter-widgets/controls",
          "model_module_version": "1.5.0",
          "model_name": "ProgressStyleModel",
          "state": {
            "_model_module": "@jupyter-widgets/controls",
            "_model_module_version": "1.5.0",
            "_model_name": "ProgressStyleModel",
            "_view_count": null,
            "_view_module": "@jupyter-widgets/base",
            "_view_module_version": "1.2.0",
            "_view_name": "StyleView",
            "bar_color": null,
            "description_width": ""
          }
        },
        "87bbe5043713424ea260fb8cfab9ae92": {
          "model_module": "@jupyter-widgets/controls",
          "model_module_version": "1.5.0",
          "model_name": "FloatProgressModel",
          "state": {
            "_dom_classes": [],
            "_model_module": "@jupyter-widgets/controls",
            "_model_module_version": "1.5.0",
            "_model_name": "FloatProgressModel",
            "_view_count": null,
            "_view_module": "@jupyter-widgets/controls",
            "_view_module_version": "1.5.0",
            "_view_name": "ProgressView",
            "bar_style": "danger",
            "description": "",
            "description_tooltip": null,
            "layout": "IPY_MODEL_a1223587190a43a9a9ce390f8e161bb6",
            "max": 3639026128,
            "min": 0,
            "orientation": "horizontal",
            "style": "IPY_MODEL_07788b3589944bf3bef0f8a19aeb2b9e",
            "value": 3639025781
          }
        },
        "8bd8494c26eb4517a9d44d3c0291b15f": {
          "model_module": "@jupyter-widgets/controls",
          "model_module_version": "1.5.0",
          "model_name": "HTMLModel",
          "state": {
            "_dom_classes": [],
            "_model_module": "@jupyter-widgets/controls",
            "_model_module_version": "1.5.0",
            "_model_name": "HTMLModel",
            "_view_count": null,
            "_view_module": "@jupyter-widgets/controls",
            "_view_module_version": "1.5.0",
            "_view_name": "HTMLView",
            "description": "",
            "description_tooltip": null,
            "layout": "IPY_MODEL_2c742319629c45108b006e588c5d6ab1",
            "placeholder": "​",
            "style": "IPY_MODEL_ab333d0888214c81ae563e3cda471b2e",
            "value": " 4.98G/? [00:42&lt;00:00, 337MB/s]"
          }
        },
        "8c3425a2c3b64711947d2283b72275bf": {
          "model_module": "@jupyter-widgets/controls",
          "model_module_version": "1.5.0",
          "model_name": "DescriptionStyleModel",
          "state": {
            "_model_module": "@jupyter-widgets/controls",
            "_model_module_version": "1.5.0",
            "_model_name": "DescriptionStyleModel",
            "_view_count": null,
            "_view_module": "@jupyter-widgets/base",
            "_view_module_version": "1.2.0",
            "_view_name": "StyleView",
            "description_width": ""
          }
        },
        "8d7ecc8ad5124bfd9902a2503858d127": {
          "model_module": "@jupyter-widgets/controls",
          "model_module_version": "1.5.0",
          "model_name": "ProgressStyleModel",
          "state": {
            "_model_module": "@jupyter-widgets/controls",
            "_model_module_version": "1.5.0",
            "_model_name": "ProgressStyleModel",
            "_view_count": null,
            "_view_module": "@jupyter-widgets/base",
            "_view_module_version": "1.2.0",
            "_view_name": "StyleView",
            "bar_color": null,
            "description_width": ""
          }
        },
        "8d869cbe0a2947f2b336d51b26d3ce30": {
          "model_module": "@jupyter-widgets/base",
          "model_module_version": "1.2.0",
          "model_name": "LayoutModel",
          "state": {
            "_model_module": "@jupyter-widgets/base",
            "_model_module_version": "1.2.0",
            "_model_name": "LayoutModel",
            "_view_count": null,
            "_view_module": "@jupyter-widgets/base",
            "_view_module_version": "1.2.0",
            "_view_name": "LayoutView",
            "align_content": null,
            "align_items": null,
            "align_self": null,
            "border": null,
            "bottom": null,
            "display": null,
            "flex": null,
            "flex_flow": null,
            "grid_area": null,
            "grid_auto_columns": null,
            "grid_auto_flow": null,
            "grid_auto_rows": null,
            "grid_column": null,
            "grid_gap": null,
            "grid_row": null,
            "grid_template_areas": null,
            "grid_template_columns": null,
            "grid_template_rows": null,
            "height": null,
            "justify_content": null,
            "justify_items": null,
            "left": null,
            "margin": null,
            "max_height": null,
            "max_width": null,
            "min_height": null,
            "min_width": null,
            "object_fit": null,
            "object_position": null,
            "order": null,
            "overflow": null,
            "overflow_x": null,
            "overflow_y": null,
            "padding": null,
            "right": null,
            "top": null,
            "visibility": null,
            "width": null
          }
        },
        "8deaedaffa534491882a37167c92f8a5": {
          "model_module": "@jupyter-widgets/base",
          "model_module_version": "1.2.0",
          "model_name": "LayoutModel",
          "state": {
            "_model_module": "@jupyter-widgets/base",
            "_model_module_version": "1.2.0",
            "_model_name": "LayoutModel",
            "_view_count": null,
            "_view_module": "@jupyter-widgets/base",
            "_view_module_version": "1.2.0",
            "_view_name": "LayoutView",
            "align_content": null,
            "align_items": null,
            "align_self": null,
            "border": null,
            "bottom": null,
            "display": null,
            "flex": null,
            "flex_flow": null,
            "grid_area": null,
            "grid_auto_columns": null,
            "grid_auto_flow": null,
            "grid_auto_rows": null,
            "grid_column": null,
            "grid_gap": null,
            "grid_row": null,
            "grid_template_areas": null,
            "grid_template_columns": null,
            "grid_template_rows": null,
            "height": null,
            "justify_content": null,
            "justify_items": null,
            "left": null,
            "margin": null,
            "max_height": null,
            "max_width": null,
            "min_height": null,
            "min_width": null,
            "object_fit": null,
            "object_position": null,
            "order": null,
            "overflow": null,
            "overflow_x": null,
            "overflow_y": null,
            "padding": null,
            "right": null,
            "top": null,
            "visibility": null,
            "width": null
          }
        },
        "8f94164fb69648eb9f69cf36bbadd10a": {
          "model_module": "@jupyter-widgets/controls",
          "model_module_version": "1.5.0",
          "model_name": "ProgressStyleModel",
          "state": {
            "_model_module": "@jupyter-widgets/controls",
            "_model_module_version": "1.5.0",
            "_model_name": "ProgressStyleModel",
            "_view_count": null,
            "_view_module": "@jupyter-widgets/base",
            "_view_module_version": "1.2.0",
            "_view_name": "StyleView",
            "bar_color": null,
            "description_width": ""
          }
        },
        "90249691143b4d4099171d1d06ffb910": {
          "model_module": "@jupyter-widgets/controls",
          "model_module_version": "1.5.0",
          "model_name": "DescriptionStyleModel",
          "state": {
            "_model_module": "@jupyter-widgets/controls",
            "_model_module_version": "1.5.0",
            "_model_name": "DescriptionStyleModel",
            "_view_count": null,
            "_view_module": "@jupyter-widgets/base",
            "_view_module_version": "1.2.0",
            "_view_name": "StyleView",
            "description_width": ""
          }
        },
        "919d073adfc4425b8dd746b471bd9dac": {
          "model_module": "@jupyter-widgets/base",
          "model_module_version": "1.2.0",
          "model_name": "LayoutModel",
          "state": {
            "_model_module": "@jupyter-widgets/base",
            "_model_module_version": "1.2.0",
            "_model_name": "LayoutModel",
            "_view_count": null,
            "_view_module": "@jupyter-widgets/base",
            "_view_module_version": "1.2.0",
            "_view_name": "LayoutView",
            "align_content": null,
            "align_items": null,
            "align_self": null,
            "border": null,
            "bottom": null,
            "display": null,
            "flex": null,
            "flex_flow": null,
            "grid_area": null,
            "grid_auto_columns": null,
            "grid_auto_flow": null,
            "grid_auto_rows": null,
            "grid_column": null,
            "grid_gap": null,
            "grid_row": null,
            "grid_template_areas": null,
            "grid_template_columns": null,
            "grid_template_rows": null,
            "height": null,
            "justify_content": null,
            "justify_items": null,
            "left": null,
            "margin": null,
            "max_height": null,
            "max_width": null,
            "min_height": null,
            "min_width": null,
            "object_fit": null,
            "object_position": null,
            "order": null,
            "overflow": null,
            "overflow_x": null,
            "overflow_y": null,
            "padding": null,
            "right": null,
            "top": null,
            "visibility": null,
            "width": null
          }
        },
        "957d60e076a54ce8b98894a6d1e86f14": {
          "model_module": "@jupyter-widgets/base",
          "model_module_version": "1.2.0",
          "model_name": "LayoutModel",
          "state": {
            "_model_module": "@jupyter-widgets/base",
            "_model_module_version": "1.2.0",
            "_model_name": "LayoutModel",
            "_view_count": null,
            "_view_module": "@jupyter-widgets/base",
            "_view_module_version": "1.2.0",
            "_view_name": "LayoutView",
            "align_content": null,
            "align_items": null,
            "align_self": null,
            "border": null,
            "bottom": null,
            "display": null,
            "flex": null,
            "flex_flow": null,
            "grid_area": null,
            "grid_auto_columns": null,
            "grid_auto_flow": null,
            "grid_auto_rows": null,
            "grid_column": null,
            "grid_gap": null,
            "grid_row": null,
            "grid_template_areas": null,
            "grid_template_columns": null,
            "grid_template_rows": null,
            "height": null,
            "justify_content": null,
            "justify_items": null,
            "left": null,
            "margin": null,
            "max_height": null,
            "max_width": null,
            "min_height": null,
            "min_width": null,
            "object_fit": null,
            "object_position": null,
            "order": null,
            "overflow": null,
            "overflow_x": null,
            "overflow_y": null,
            "padding": null,
            "right": null,
            "top": null,
            "visibility": null,
            "width": null
          }
        },
        "9c7cff8ae9df4e979781a985009f1d61": {
          "model_module": "@jupyter-widgets/base",
          "model_module_version": "1.2.0",
          "model_name": "LayoutModel",
          "state": {
            "_model_module": "@jupyter-widgets/base",
            "_model_module_version": "1.2.0",
            "_model_name": "LayoutModel",
            "_view_count": null,
            "_view_module": "@jupyter-widgets/base",
            "_view_module_version": "1.2.0",
            "_view_name": "LayoutView",
            "align_content": null,
            "align_items": null,
            "align_self": null,
            "border": null,
            "bottom": null,
            "display": null,
            "flex": null,
            "flex_flow": null,
            "grid_area": null,
            "grid_auto_columns": null,
            "grid_auto_flow": null,
            "grid_auto_rows": null,
            "grid_column": null,
            "grid_gap": null,
            "grid_row": null,
            "grid_template_areas": null,
            "grid_template_columns": null,
            "grid_template_rows": null,
            "height": null,
            "justify_content": null,
            "justify_items": null,
            "left": null,
            "margin": null,
            "max_height": null,
            "max_width": null,
            "min_height": null,
            "min_width": null,
            "object_fit": null,
            "object_position": null,
            "order": null,
            "overflow": null,
            "overflow_x": null,
            "overflow_y": null,
            "padding": null,
            "right": null,
            "top": null,
            "visibility": null,
            "width": null
          }
        },
        "9cf0d2f958cd4cebbbd91270d56e06df": {
          "model_module": "@jupyter-widgets/base",
          "model_module_version": "1.2.0",
          "model_name": "LayoutModel",
          "state": {
            "_model_module": "@jupyter-widgets/base",
            "_model_module_version": "1.2.0",
            "_model_name": "LayoutModel",
            "_view_count": null,
            "_view_module": "@jupyter-widgets/base",
            "_view_module_version": "1.2.0",
            "_view_name": "LayoutView",
            "align_content": null,
            "align_items": null,
            "align_self": null,
            "border": null,
            "bottom": null,
            "display": null,
            "flex": null,
            "flex_flow": null,
            "grid_area": null,
            "grid_auto_columns": null,
            "grid_auto_flow": null,
            "grid_auto_rows": null,
            "grid_column": null,
            "grid_gap": null,
            "grid_row": null,
            "grid_template_areas": null,
            "grid_template_columns": null,
            "grid_template_rows": null,
            "height": null,
            "justify_content": null,
            "justify_items": null,
            "left": null,
            "margin": null,
            "max_height": null,
            "max_width": null,
            "min_height": null,
            "min_width": null,
            "object_fit": null,
            "object_position": null,
            "order": null,
            "overflow": null,
            "overflow_x": null,
            "overflow_y": null,
            "padding": null,
            "right": null,
            "top": null,
            "visibility": null,
            "width": null
          }
        },
        "a04bba69204d411786c4a68f38ade26a": {
          "model_module": "@jupyter-widgets/controls",
          "model_module_version": "1.5.0",
          "model_name": "HTMLModel",
          "state": {
            "_dom_classes": [],
            "_model_module": "@jupyter-widgets/controls",
            "_model_module_version": "1.5.0",
            "_model_name": "HTMLModel",
            "_view_count": null,
            "_view_module": "@jupyter-widgets/controls",
            "_view_module_version": "1.5.0",
            "_view_name": "HTMLView",
            "description": "",
            "description_tooltip": null,
            "layout": "IPY_MODEL_957d60e076a54ce8b98894a6d1e86f14",
            "placeholder": "​",
            "style": "IPY_MODEL_63302e33d9294701ab7d5ac73579ee91",
            "value": " 6128/6128 [00:05&lt;00:00, 1640.11 examples/s]"
          }
        },
        "a0b578a400594cb099042cdfdd18c2af": {
          "model_module": "@jupyter-widgets/base",
          "model_module_version": "1.2.0",
          "model_name": "LayoutModel",
          "state": {
            "_model_module": "@jupyter-widgets/base",
            "_model_module_version": "1.2.0",
            "_model_name": "LayoutModel",
            "_view_count": null,
            "_view_module": "@jupyter-widgets/base",
            "_view_module_version": "1.2.0",
            "_view_name": "LayoutView",
            "align_content": null,
            "align_items": null,
            "align_self": null,
            "border": null,
            "bottom": null,
            "display": null,
            "flex": null,
            "flex_flow": null,
            "grid_area": null,
            "grid_auto_columns": null,
            "grid_auto_flow": null,
            "grid_auto_rows": null,
            "grid_column": null,
            "grid_gap": null,
            "grid_row": null,
            "grid_template_areas": null,
            "grid_template_columns": null,
            "grid_template_rows": null,
            "height": null,
            "justify_content": null,
            "justify_items": null,
            "left": null,
            "margin": null,
            "max_height": null,
            "max_width": null,
            "min_height": null,
            "min_width": null,
            "object_fit": null,
            "object_position": null,
            "order": null,
            "overflow": null,
            "overflow_x": null,
            "overflow_y": null,
            "padding": null,
            "right": null,
            "top": null,
            "visibility": null,
            "width": null
          }
        },
        "a1223587190a43a9a9ce390f8e161bb6": {
          "model_module": "@jupyter-widgets/base",
          "model_module_version": "1.2.0",
          "model_name": "LayoutModel",
          "state": {
            "_model_module": "@jupyter-widgets/base",
            "_model_module_version": "1.2.0",
            "_model_name": "LayoutModel",
            "_view_count": null,
            "_view_module": "@jupyter-widgets/base",
            "_view_module_version": "1.2.0",
            "_view_name": "LayoutView",
            "align_content": null,
            "align_items": null,
            "align_self": null,
            "border": null,
            "bottom": null,
            "display": null,
            "flex": null,
            "flex_flow": null,
            "grid_area": null,
            "grid_auto_columns": null,
            "grid_auto_flow": null,
            "grid_auto_rows": null,
            "grid_column": null,
            "grid_gap": null,
            "grid_row": null,
            "grid_template_areas": null,
            "grid_template_columns": null,
            "grid_template_rows": null,
            "height": null,
            "justify_content": null,
            "justify_items": null,
            "left": null,
            "margin": null,
            "max_height": null,
            "max_width": null,
            "min_height": null,
            "min_width": null,
            "object_fit": null,
            "object_position": null,
            "order": null,
            "overflow": null,
            "overflow_x": null,
            "overflow_y": null,
            "padding": null,
            "right": null,
            "top": null,
            "visibility": null,
            "width": null
          }
        },
        "a1ded9fd25474aaab61970ba143abd2c": {
          "model_module": "@jupyter-widgets/base",
          "model_module_version": "1.2.0",
          "model_name": "LayoutModel",
          "state": {
            "_model_module": "@jupyter-widgets/base",
            "_model_module_version": "1.2.0",
            "_model_name": "LayoutModel",
            "_view_count": null,
            "_view_module": "@jupyter-widgets/base",
            "_view_module_version": "1.2.0",
            "_view_name": "LayoutView",
            "align_content": null,
            "align_items": null,
            "align_self": null,
            "border": null,
            "bottom": null,
            "display": null,
            "flex": null,
            "flex_flow": null,
            "grid_area": null,
            "grid_auto_columns": null,
            "grid_auto_flow": null,
            "grid_auto_rows": null,
            "grid_column": null,
            "grid_gap": null,
            "grid_row": null,
            "grid_template_areas": null,
            "grid_template_columns": null,
            "grid_template_rows": null,
            "height": null,
            "justify_content": null,
            "justify_items": null,
            "left": null,
            "margin": null,
            "max_height": null,
            "max_width": null,
            "min_height": null,
            "min_width": null,
            "object_fit": null,
            "object_position": null,
            "order": null,
            "overflow": null,
            "overflow_x": null,
            "overflow_y": null,
            "padding": null,
            "right": null,
            "top": null,
            "visibility": null,
            "width": null
          }
        },
        "a31e684680564ed1b5efa3228cd6c0cf": {
          "model_module": "@jupyter-widgets/base",
          "model_module_version": "1.2.0",
          "model_name": "LayoutModel",
          "state": {
            "_model_module": "@jupyter-widgets/base",
            "_model_module_version": "1.2.0",
            "_model_name": "LayoutModel",
            "_view_count": null,
            "_view_module": "@jupyter-widgets/base",
            "_view_module_version": "1.2.0",
            "_view_name": "LayoutView",
            "align_content": null,
            "align_items": null,
            "align_self": null,
            "border": null,
            "bottom": null,
            "display": null,
            "flex": null,
            "flex_flow": null,
            "grid_area": null,
            "grid_auto_columns": null,
            "grid_auto_flow": null,
            "grid_auto_rows": null,
            "grid_column": null,
            "grid_gap": null,
            "grid_row": null,
            "grid_template_areas": null,
            "grid_template_columns": null,
            "grid_template_rows": null,
            "height": null,
            "justify_content": null,
            "justify_items": null,
            "left": null,
            "margin": null,
            "max_height": null,
            "max_width": null,
            "min_height": null,
            "min_width": null,
            "object_fit": null,
            "object_position": null,
            "order": null,
            "overflow": null,
            "overflow_x": null,
            "overflow_y": null,
            "padding": null,
            "right": null,
            "top": null,
            "visibility": null,
            "width": null
          }
        },
        "a49ad4042b384bd2bcb396097c77cf64": {
          "model_module": "@jupyter-widgets/controls",
          "model_module_version": "1.5.0",
          "model_name": "HBoxModel",
          "state": {
            "_dom_classes": [],
            "_model_module": "@jupyter-widgets/controls",
            "_model_module_version": "1.5.0",
            "_model_name": "HBoxModel",
            "_view_count": null,
            "_view_module": "@jupyter-widgets/controls",
            "_view_module_version": "1.5.0",
            "_view_name": "HBoxView",
            "box_style": "",
            "children": [
              "IPY_MODEL_edd967cc753a4024af6722191bcf11fa",
              "IPY_MODEL_56ad2c23e5eb4f53b845096dc64af542",
              "IPY_MODEL_8bd8494c26eb4517a9d44d3c0291b15f"
            ],
            "layout": "IPY_MODEL_5c17116e443d4d8eaf896968e7addc28"
          }
        },
        "a9a9681e8e5749fa8b9e32b0a1b12abf": {
          "model_module": "@jupyter-widgets/controls",
          "model_module_version": "1.5.0",
          "model_name": "HBoxModel",
          "state": {
            "_dom_classes": [],
            "_model_module": "@jupyter-widgets/controls",
            "_model_module_version": "1.5.0",
            "_model_name": "HBoxModel",
            "_view_count": null,
            "_view_module": "@jupyter-widgets/controls",
            "_view_module_version": "1.5.0",
            "_view_name": "HBoxView",
            "box_style": "",
            "children": [
              "IPY_MODEL_f1cabdebc4c3475f93f734aa51e3cbff",
              "IPY_MODEL_87bbe5043713424ea260fb8cfab9ae92",
              "IPY_MODEL_b21b0517d42747c98cf531397ac353d7"
            ],
            "layout": "IPY_MODEL_2cb9468b88574bf690e3d6172bb267d9"
          }
        },
        "ab333d0888214c81ae563e3cda471b2e": {
          "model_module": "@jupyter-widgets/controls",
          "model_module_version": "1.5.0",
          "model_name": "DescriptionStyleModel",
          "state": {
            "_model_module": "@jupyter-widgets/controls",
            "_model_module_version": "1.5.0",
            "_model_name": "DescriptionStyleModel",
            "_view_count": null,
            "_view_module": "@jupyter-widgets/base",
            "_view_module_version": "1.2.0",
            "_view_name": "StyleView",
            "description_width": ""
          }
        },
        "ad441d90b9364d1193791aba64e11c27": {
          "model_module": "@jupyter-widgets/controls",
          "model_module_version": "1.5.0",
          "model_name": "HBoxModel",
          "state": {
            "_dom_classes": [],
            "_model_module": "@jupyter-widgets/controls",
            "_model_module_version": "1.5.0",
            "_model_name": "HBoxModel",
            "_view_count": null,
            "_view_module": "@jupyter-widgets/controls",
            "_view_module_version": "1.5.0",
            "_view_name": "HBoxView",
            "box_style": "",
            "children": [
              "IPY_MODEL_1749d2f498354c8080fb2650c974d55b",
              "IPY_MODEL_d5dd89a7fe5d439ea4f189fb824f796a",
              "IPY_MODEL_795f6fc2167f435ea520365ed44f0432"
            ],
            "layout": "IPY_MODEL_0a00dba8fa424a0d94fd277f40ce4402"
          }
        },
        "aec0af0f465347cfa8e7495ab63ef20c": {
          "model_module": "@jupyter-widgets/controls",
          "model_module_version": "1.5.0",
          "model_name": "HBoxModel",
          "state": {
            "_dom_classes": [],
            "_model_module": "@jupyter-widgets/controls",
            "_model_module_version": "1.5.0",
            "_model_name": "HBoxModel",
            "_view_count": null,
            "_view_module": "@jupyter-widgets/controls",
            "_view_module_version": "1.5.0",
            "_view_name": "HBoxView",
            "box_style": "",
            "children": [
              "IPY_MODEL_205a1d0fa8284c82a151e06f54c3942d",
              "IPY_MODEL_fd17bd0fe303408e9bc0f1fa418bed6c",
              "IPY_MODEL_3ffaa635457b423883713adc2a2f4753"
            ],
            "layout": "IPY_MODEL_2ca38e75850a40dbbcb5e8f4bd5467dc"
          }
        },
        "b21b0517d42747c98cf531397ac353d7": {
          "model_module": "@jupyter-widgets/controls",
          "model_module_version": "1.5.0",
          "model_name": "HTMLModel",
          "state": {
            "_dom_classes": [],
            "_model_module": "@jupyter-widgets/controls",
            "_model_module_version": "1.5.0",
            "_model_name": "HTMLModel",
            "_view_count": null,
            "_view_module": "@jupyter-widgets/controls",
            "_view_module_version": "1.5.0",
            "_view_name": "HTMLView",
            "description": "",
            "description_tooltip": null,
            "layout": "IPY_MODEL_c70e92996570489b8e7cfc8592f528a7",
            "placeholder": "​",
            "style": "IPY_MODEL_00ac3ecbb9c6464bb63ac209d67d63b6",
            "value": " 3.64G/3.64G [00:12&lt;00:00, 577MB/s]"
          }
        },
        "b463a777f423429d8feffa9fdc6ccd9c": {
          "model_module": "@jupyter-widgets/controls",
          "model_module_version": "1.5.0",
          "model_name": "DescriptionStyleModel",
          "state": {
            "_model_module": "@jupyter-widgets/controls",
            "_model_module_version": "1.5.0",
            "_model_name": "DescriptionStyleModel",
            "_view_count": null,
            "_view_module": "@jupyter-widgets/base",
            "_view_module_version": "1.2.0",
            "_view_name": "StyleView",
            "description_width": ""
          }
        },
        "b490a6da46be47de9c3280b1e6e1046d": {
          "model_module": "@jupyter-widgets/base",
          "model_module_version": "1.2.0",
          "model_name": "LayoutModel",
          "state": {
            "_model_module": "@jupyter-widgets/base",
            "_model_module_version": "1.2.0",
            "_model_name": "LayoutModel",
            "_view_count": null,
            "_view_module": "@jupyter-widgets/base",
            "_view_module_version": "1.2.0",
            "_view_name": "LayoutView",
            "align_content": null,
            "align_items": null,
            "align_self": null,
            "border": null,
            "bottom": null,
            "display": null,
            "flex": null,
            "flex_flow": null,
            "grid_area": null,
            "grid_auto_columns": null,
            "grid_auto_flow": null,
            "grid_auto_rows": null,
            "grid_column": null,
            "grid_gap": null,
            "grid_row": null,
            "grid_template_areas": null,
            "grid_template_columns": null,
            "grid_template_rows": null,
            "height": null,
            "justify_content": null,
            "justify_items": null,
            "left": null,
            "margin": null,
            "max_height": null,
            "max_width": null,
            "min_height": null,
            "min_width": null,
            "object_fit": null,
            "object_position": null,
            "order": null,
            "overflow": null,
            "overflow_x": null,
            "overflow_y": null,
            "padding": null,
            "right": null,
            "top": null,
            "visibility": null,
            "width": null
          }
        },
        "b4a628148a824942b6cad637f1b26d81": {
          "model_module": "@jupyter-widgets/controls",
          "model_module_version": "1.5.0",
          "model_name": "HTMLModel",
          "state": {
            "_dom_classes": [],
            "_model_module": "@jupyter-widgets/controls",
            "_model_module_version": "1.5.0",
            "_model_name": "HTMLModel",
            "_view_count": null,
            "_view_module": "@jupyter-widgets/controls",
            "_view_module_version": "1.5.0",
            "_view_name": "HTMLView",
            "description": "",
            "description_tooltip": null,
            "layout": "IPY_MODEL_73a17422640842b5a8e0b36d929c8fa5",
            "placeholder": "​",
            "style": "IPY_MODEL_84bf52e92fbc4cd99236ca16aec37003",
            "value": "model-00001-of-00002.safetensors: 100%"
          }
        },
        "b79fe5bf0eab4fdf80ddcce01ecd4c35": {
          "model_module": "@jupyter-widgets/controls",
          "model_module_version": "1.5.0",
          "model_name": "DescriptionStyleModel",
          "state": {
            "_model_module": "@jupyter-widgets/controls",
            "_model_module_version": "1.5.0",
            "_model_name": "DescriptionStyleModel",
            "_view_count": null,
            "_view_module": "@jupyter-widgets/base",
            "_view_module_version": "1.2.0",
            "_view_name": "StyleView",
            "description_width": ""
          }
        },
        "b8118178cd954d109226b906af4ea549": {
          "model_module": "@jupyter-widgets/controls",
          "model_module_version": "1.5.0",
          "model_name": "FloatProgressModel",
          "state": {
            "_dom_classes": [],
            "_model_module": "@jupyter-widgets/controls",
            "_model_module_version": "1.5.0",
            "_model_name": "FloatProgressModel",
            "_view_count": null,
            "_view_module": "@jupyter-widgets/controls",
            "_view_module_version": "1.5.0",
            "_view_name": "ProgressView",
            "bar_style": "success",
            "description": "",
            "description_tooltip": null,
            "layout": "IPY_MODEL_2b046fee4c9744e09209b7dd16a7269a",
            "max": 1,
            "min": 0,
            "orientation": "horizontal",
            "style": "IPY_MODEL_8d7ecc8ad5124bfd9902a2503858d127",
            "value": 1
          }
        },
        "bce755e1807a42b28b773e5dbe99dd1d": {
          "model_module": "@jupyter-widgets/controls",
          "model_module_version": "1.5.0",
          "model_name": "HTMLModel",
          "state": {
            "_dom_classes": [],
            "_model_module": "@jupyter-widgets/controls",
            "_model_module_version": "1.5.0",
            "_model_name": "HTMLModel",
            "_view_count": null,
            "_view_module": "@jupyter-widgets/controls",
            "_view_module_version": "1.5.0",
            "_view_name": "HTMLView",
            "description": "",
            "description_tooltip": null,
            "layout": "IPY_MODEL_d612d22e248b4880b79d40474fd82f37",
            "placeholder": "​",
            "style": "IPY_MODEL_25fbc47268884d71a19af3c2d8416df5",
            "value": " 4.96G/4.96G [00:12&lt;00:00, 602MB/s]"
          }
        },
        "c2d75d0aafcd4d93b6d4143c65540bc9": {
          "model_module": "@jupyter-widgets/base",
          "model_module_version": "1.2.0",
          "model_name": "LayoutModel",
          "state": {
            "_model_module": "@jupyter-widgets/base",
            "_model_module_version": "1.2.0",
            "_model_name": "LayoutModel",
            "_view_count": null,
            "_view_module": "@jupyter-widgets/base",
            "_view_module_version": "1.2.0",
            "_view_name": "LayoutView",
            "align_content": null,
            "align_items": null,
            "align_self": null,
            "border": null,
            "bottom": null,
            "display": null,
            "flex": null,
            "flex_flow": null,
            "grid_area": null,
            "grid_auto_columns": null,
            "grid_auto_flow": null,
            "grid_auto_rows": null,
            "grid_column": null,
            "grid_gap": null,
            "grid_row": null,
            "grid_template_areas": null,
            "grid_template_columns": null,
            "grid_template_rows": null,
            "height": null,
            "justify_content": null,
            "justify_items": null,
            "left": null,
            "margin": null,
            "max_height": null,
            "max_width": null,
            "min_height": null,
            "min_width": null,
            "object_fit": null,
            "object_position": null,
            "order": null,
            "overflow": null,
            "overflow_x": null,
            "overflow_y": null,
            "padding": null,
            "right": null,
            "top": null,
            "visibility": null,
            "width": null
          }
        },
        "c42a2b1cc4534fa39ab51a96b263b2eb": {
          "model_module": "@jupyter-widgets/controls",
          "model_module_version": "1.5.0",
          "model_name": "FloatProgressModel",
          "state": {
            "_dom_classes": [],
            "_model_module": "@jupyter-widgets/controls",
            "_model_module_version": "1.5.0",
            "_model_name": "FloatProgressModel",
            "_view_count": null,
            "_view_module": "@jupyter-widgets/controls",
            "_view_module_version": "1.5.0",
            "_view_name": "ProgressView",
            "bar_style": "success",
            "description": "",
            "description_tooltip": null,
            "layout": "IPY_MODEL_3b7dad6480c6470994ebced97a738cf0",
            "max": 6128,
            "min": 0,
            "orientation": "horizontal",
            "style": "IPY_MODEL_869bc317caaf4261b9b3793e9981e75c",
            "value": 6128
          }
        },
        "c48b6634ff024306aabfaa4ed4ca974f": {
          "model_module": "@jupyter-widgets/base",
          "model_module_version": "1.2.0",
          "model_name": "LayoutModel",
          "state": {
            "_model_module": "@jupyter-widgets/base",
            "_model_module_version": "1.2.0",
            "_model_name": "LayoutModel",
            "_view_count": null,
            "_view_module": "@jupyter-widgets/base",
            "_view_module_version": "1.2.0",
            "_view_name": "LayoutView",
            "align_content": null,
            "align_items": null,
            "align_self": null,
            "border": null,
            "bottom": null,
            "display": null,
            "flex": null,
            "flex_flow": null,
            "grid_area": null,
            "grid_auto_columns": null,
            "grid_auto_flow": null,
            "grid_auto_rows": null,
            "grid_column": null,
            "grid_gap": null,
            "grid_row": null,
            "grid_template_areas": null,
            "grid_template_columns": null,
            "grid_template_rows": null,
            "height": null,
            "justify_content": null,
            "justify_items": null,
            "left": null,
            "margin": null,
            "max_height": null,
            "max_width": null,
            "min_height": null,
            "min_width": null,
            "object_fit": null,
            "object_position": null,
            "order": null,
            "overflow": null,
            "overflow_x": null,
            "overflow_y": null,
            "padding": null,
            "right": null,
            "top": null,
            "visibility": null,
            "width": null
          }
        },
        "c5cc47857336464494ced3c544217aa7": {
          "model_module": "@jupyter-widgets/controls",
          "model_module_version": "1.5.0",
          "model_name": "HBoxModel",
          "state": {
            "_dom_classes": [],
            "_model_module": "@jupyter-widgets/controls",
            "_model_module_version": "1.5.0",
            "_model_name": "HBoxModel",
            "_view_count": null,
            "_view_module": "@jupyter-widgets/controls",
            "_view_module_version": "1.5.0",
            "_view_name": "HBoxView",
            "box_style": "",
            "children": [
              "IPY_MODEL_7cfed63004c84702b2f289c9254cdd76",
              "IPY_MODEL_c42a2b1cc4534fa39ab51a96b263b2eb",
              "IPY_MODEL_e0a8628735da4a49aebefdd4f27f3d6a"
            ],
            "layout": "IPY_MODEL_e80cb7313bf74e2a900a04284f0f1388"
          }
        },
        "c6caf7ef80014fa1a7bc2363b1f8ca8e": {
          "model_module": "@jupyter-widgets/base",
          "model_module_version": "1.2.0",
          "model_name": "LayoutModel",
          "state": {
            "_model_module": "@jupyter-widgets/base",
            "_model_module_version": "1.2.0",
            "_model_name": "LayoutModel",
            "_view_count": null,
            "_view_module": "@jupyter-widgets/base",
            "_view_module_version": "1.2.0",
            "_view_name": "LayoutView",
            "align_content": null,
            "align_items": null,
            "align_self": null,
            "border": null,
            "bottom": null,
            "display": null,
            "flex": null,
            "flex_flow": null,
            "grid_area": null,
            "grid_auto_columns": null,
            "grid_auto_flow": null,
            "grid_auto_rows": null,
            "grid_column": null,
            "grid_gap": null,
            "grid_row": null,
            "grid_template_areas": null,
            "grid_template_columns": null,
            "grid_template_rows": null,
            "height": null,
            "justify_content": null,
            "justify_items": null,
            "left": null,
            "margin": null,
            "max_height": null,
            "max_width": null,
            "min_height": null,
            "min_width": null,
            "object_fit": null,
            "object_position": null,
            "order": null,
            "overflow": null,
            "overflow_x": null,
            "overflow_y": null,
            "padding": null,
            "right": null,
            "top": null,
            "visibility": null,
            "width": null
          }
        },
        "c70e92996570489b8e7cfc8592f528a7": {
          "model_module": "@jupyter-widgets/base",
          "model_module_version": "1.2.0",
          "model_name": "LayoutModel",
          "state": {
            "_model_module": "@jupyter-widgets/base",
            "_model_module_version": "1.2.0",
            "_model_name": "LayoutModel",
            "_view_count": null,
            "_view_module": "@jupyter-widgets/base",
            "_view_module_version": "1.2.0",
            "_view_name": "LayoutView",
            "align_content": null,
            "align_items": null,
            "align_self": null,
            "border": null,
            "bottom": null,
            "display": null,
            "flex": null,
            "flex_flow": null,
            "grid_area": null,
            "grid_auto_columns": null,
            "grid_auto_flow": null,
            "grid_auto_rows": null,
            "grid_column": null,
            "grid_gap": null,
            "grid_row": null,
            "grid_template_areas": null,
            "grid_template_columns": null,
            "grid_template_rows": null,
            "height": null,
            "justify_content": null,
            "justify_items": null,
            "left": null,
            "margin": null,
            "max_height": null,
            "max_width": null,
            "min_height": null,
            "min_width": null,
            "object_fit": null,
            "object_position": null,
            "order": null,
            "overflow": null,
            "overflow_x": null,
            "overflow_y": null,
            "padding": null,
            "right": null,
            "top": null,
            "visibility": null,
            "width": null
          }
        },
        "c7144ac0cde7401fb77b2c2fd76e8eca": {
          "model_module": "@jupyter-widgets/base",
          "model_module_version": "1.2.0",
          "model_name": "LayoutModel",
          "state": {
            "_model_module": "@jupyter-widgets/base",
            "_model_module_version": "1.2.0",
            "_model_name": "LayoutModel",
            "_view_count": null,
            "_view_module": "@jupyter-widgets/base",
            "_view_module_version": "1.2.0",
            "_view_name": "LayoutView",
            "align_content": null,
            "align_items": null,
            "align_self": null,
            "border": null,
            "bottom": null,
            "display": null,
            "flex": null,
            "flex_flow": null,
            "grid_area": null,
            "grid_auto_columns": null,
            "grid_auto_flow": null,
            "grid_auto_rows": null,
            "grid_column": null,
            "grid_gap": null,
            "grid_row": null,
            "grid_template_areas": null,
            "grid_template_columns": null,
            "grid_template_rows": null,
            "height": null,
            "justify_content": null,
            "justify_items": null,
            "left": null,
            "margin": null,
            "max_height": null,
            "max_width": null,
            "min_height": null,
            "min_width": null,
            "object_fit": null,
            "object_position": null,
            "order": null,
            "overflow": null,
            "overflow_x": null,
            "overflow_y": null,
            "padding": null,
            "right": null,
            "top": null,
            "visibility": null,
            "width": null
          }
        },
        "c9a913d06b494f898a06804d176c5197": {
          "model_module": "@jupyter-widgets/controls",
          "model_module_version": "1.5.0",
          "model_name": "DescriptionStyleModel",
          "state": {
            "_model_module": "@jupyter-widgets/controls",
            "_model_module_version": "1.5.0",
            "_model_name": "DescriptionStyleModel",
            "_view_count": null,
            "_view_module": "@jupyter-widgets/base",
            "_view_module_version": "1.2.0",
            "_view_name": "StyleView",
            "description_width": ""
          }
        },
        "cde1da2c2e5a4304a904477e068d0f57": {
          "model_module": "@jupyter-widgets/controls",
          "model_module_version": "1.5.0",
          "model_name": "DescriptionStyleModel",
          "state": {
            "_model_module": "@jupyter-widgets/controls",
            "_model_module_version": "1.5.0",
            "_model_name": "DescriptionStyleModel",
            "_view_count": null,
            "_view_module": "@jupyter-widgets/base",
            "_view_module_version": "1.2.0",
            "_view_name": "StyleView",
            "description_width": ""
          }
        },
        "cf86c8a532304a008a55778fc285cbd8": {
          "model_module": "@jupyter-widgets/controls",
          "model_module_version": "1.5.0",
          "model_name": "HTMLModel",
          "state": {
            "_dom_classes": [],
            "_model_module": "@jupyter-widgets/controls",
            "_model_module_version": "1.5.0",
            "_model_name": "HTMLModel",
            "_view_count": null,
            "_view_module": "@jupyter-widgets/controls",
            "_view_module_version": "1.5.0",
            "_view_name": "HTMLView",
            "description": "",
            "description_tooltip": null,
            "layout": "IPY_MODEL_65abd96e73454abdac89c8ba4751ccb4",
            "placeholder": "​",
            "style": "IPY_MODEL_f0d8b343a42b4025b299a0a2712e77eb",
            "value": "100%"
          }
        },
        "cfbba500b4c04a25ba46f60b6dc8497d": {
          "model_module": "@jupyter-widgets/controls",
          "model_module_version": "1.5.0",
          "model_name": "DescriptionStyleModel",
          "state": {
            "_model_module": "@jupyter-widgets/controls",
            "_model_module_version": "1.5.0",
            "_model_name": "DescriptionStyleModel",
            "_view_count": null,
            "_view_module": "@jupyter-widgets/base",
            "_view_module_version": "1.2.0",
            "_view_name": "StyleView",
            "description_width": ""
          }
        },
        "d2a2ec4b090a45aab7b545747365eced": {
          "model_module": "@jupyter-widgets/base",
          "model_module_version": "1.2.0",
          "model_name": "LayoutModel",
          "state": {
            "_model_module": "@jupyter-widgets/base",
            "_model_module_version": "1.2.0",
            "_model_name": "LayoutModel",
            "_view_count": null,
            "_view_module": "@jupyter-widgets/base",
            "_view_module_version": "1.2.0",
            "_view_name": "LayoutView",
            "align_content": null,
            "align_items": null,
            "align_self": null,
            "border": null,
            "bottom": null,
            "display": null,
            "flex": null,
            "flex_flow": null,
            "grid_area": null,
            "grid_auto_columns": null,
            "grid_auto_flow": null,
            "grid_auto_rows": null,
            "grid_column": null,
            "grid_gap": null,
            "grid_row": null,
            "grid_template_areas": null,
            "grid_template_columns": null,
            "grid_template_rows": null,
            "height": null,
            "justify_content": null,
            "justify_items": null,
            "left": null,
            "margin": null,
            "max_height": null,
            "max_width": null,
            "min_height": null,
            "min_width": null,
            "object_fit": null,
            "object_position": null,
            "order": null,
            "overflow": null,
            "overflow_x": null,
            "overflow_y": null,
            "padding": null,
            "right": null,
            "top": null,
            "visibility": null,
            "width": null
          }
        },
        "d4963f5a001b4793b29c662682d1ff45": {
          "model_module": "@jupyter-widgets/controls",
          "model_module_version": "1.5.0",
          "model_name": "FloatProgressModel",
          "state": {
            "_dom_classes": [],
            "_model_module": "@jupyter-widgets/controls",
            "_model_module_version": "1.5.0",
            "_model_name": "FloatProgressModel",
            "_view_count": null,
            "_view_module": "@jupyter-widgets/controls",
            "_view_module_version": "1.5.0",
            "_view_name": "ProgressView",
            "bar_style": "success",
            "description": "",
            "description_tooltip": null,
            "layout": "IPY_MODEL_a0b578a400594cb099042cdfdd18c2af",
            "max": 6128,
            "min": 0,
            "orientation": "horizontal",
            "style": "IPY_MODEL_153284fa75434ab8ba7f90cd81f3cf6b",
            "value": 6128
          }
        },
        "d5dd89a7fe5d439ea4f189fb824f796a": {
          "model_module": "@jupyter-widgets/controls",
          "model_module_version": "1.5.0",
          "model_name": "FloatProgressModel",
          "state": {
            "_dom_classes": [],
            "_model_module": "@jupyter-widgets/controls",
            "_model_module_version": "1.5.0",
            "_model_name": "FloatProgressModel",
            "_view_count": null,
            "_view_module": "@jupyter-widgets/controls",
            "_view_module_version": "1.5.0",
            "_view_name": "ProgressView",
            "bar_style": "success",
            "description": "",
            "description_tooltip": null,
            "layout": "IPY_MODEL_a31e684680564ed1b5efa3228cd6c0cf",
            "max": 90558,
            "min": 0,
            "orientation": "horizontal",
            "style": "IPY_MODEL_f5c5489ede3f41efb6974816bdcdb328",
            "value": 90558
          }
        },
        "d612d22e248b4880b79d40474fd82f37": {
          "model_module": "@jupyter-widgets/base",
          "model_module_version": "1.2.0",
          "model_name": "LayoutModel",
          "state": {
            "_model_module": "@jupyter-widgets/base",
            "_model_module_version": "1.2.0",
            "_model_name": "LayoutModel",
            "_view_count": null,
            "_view_module": "@jupyter-widgets/base",
            "_view_module_version": "1.2.0",
            "_view_name": "LayoutView",
            "align_content": null,
            "align_items": null,
            "align_self": null,
            "border": null,
            "bottom": null,
            "display": null,
            "flex": null,
            "flex_flow": null,
            "grid_area": null,
            "grid_auto_columns": null,
            "grid_auto_flow": null,
            "grid_auto_rows": null,
            "grid_column": null,
            "grid_gap": null,
            "grid_row": null,
            "grid_template_areas": null,
            "grid_template_columns": null,
            "grid_template_rows": null,
            "height": null,
            "justify_content": null,
            "justify_items": null,
            "left": null,
            "margin": null,
            "max_height": null,
            "max_width": null,
            "min_height": null,
            "min_width": null,
            "object_fit": null,
            "object_position": null,
            "order": null,
            "overflow": null,
            "overflow_x": null,
            "overflow_y": null,
            "padding": null,
            "right": null,
            "top": null,
            "visibility": null,
            "width": null
          }
        },
        "d6e081ed3d2f43bea882afa1003ecea1": {
          "model_module": "@jupyter-widgets/base",
          "model_module_version": "1.2.0",
          "model_name": "LayoutModel",
          "state": {
            "_model_module": "@jupyter-widgets/base",
            "_model_module_version": "1.2.0",
            "_model_name": "LayoutModel",
            "_view_count": null,
            "_view_module": "@jupyter-widgets/base",
            "_view_module_version": "1.2.0",
            "_view_name": "LayoutView",
            "align_content": null,
            "align_items": null,
            "align_self": null,
            "border": null,
            "bottom": null,
            "display": null,
            "flex": null,
            "flex_flow": null,
            "grid_area": null,
            "grid_auto_columns": null,
            "grid_auto_flow": null,
            "grid_auto_rows": null,
            "grid_column": null,
            "grid_gap": null,
            "grid_row": null,
            "grid_template_areas": null,
            "grid_template_columns": null,
            "grid_template_rows": null,
            "height": null,
            "justify_content": null,
            "justify_items": null,
            "left": null,
            "margin": null,
            "max_height": null,
            "max_width": null,
            "min_height": null,
            "min_width": null,
            "object_fit": null,
            "object_position": null,
            "order": null,
            "overflow": null,
            "overflow_x": null,
            "overflow_y": null,
            "padding": null,
            "right": null,
            "top": null,
            "visibility": null,
            "width": null
          }
        },
        "db32169018154efea59fb030dbbb15f8": {
          "model_module": "@jupyter-widgets/controls",
          "model_module_version": "1.5.0",
          "model_name": "ProgressStyleModel",
          "state": {
            "_model_module": "@jupyter-widgets/controls",
            "_model_module_version": "1.5.0",
            "_model_name": "ProgressStyleModel",
            "_view_count": null,
            "_view_module": "@jupyter-widgets/base",
            "_view_module_version": "1.2.0",
            "_view_name": "StyleView",
            "bar_color": null,
            "description_width": ""
          }
        },
        "df6919b59d86431a89446b820afd93c4": {
          "model_module": "@jupyter-widgets/controls",
          "model_module_version": "1.5.0",
          "model_name": "HBoxModel",
          "state": {
            "_dom_classes": [],
            "_model_module": "@jupyter-widgets/controls",
            "_model_module_version": "1.5.0",
            "_model_name": "HBoxModel",
            "_view_count": null,
            "_view_module": "@jupyter-widgets/controls",
            "_view_module_version": "1.5.0",
            "_view_name": "HBoxView",
            "box_style": "",
            "children": [
              "IPY_MODEL_1d8db4dcbceb47f9a8989500035d0a49",
              "IPY_MODEL_15f7e729d89e46c984f276fc7e72d3f4",
              "IPY_MODEL_33c6823010e24424ab4dbdf4ada908ae"
            ],
            "layout": "IPY_MODEL_a1ded9fd25474aaab61970ba143abd2c"
          }
        },
        "e0a8628735da4a49aebefdd4f27f3d6a": {
          "model_module": "@jupyter-widgets/controls",
          "model_module_version": "1.5.0",
          "model_name": "HTMLModel",
          "state": {
            "_dom_classes": [],
            "_model_module": "@jupyter-widgets/controls",
            "_model_module_version": "1.5.0",
            "_model_name": "HTMLModel",
            "_view_count": null,
            "_view_module": "@jupyter-widgets/controls",
            "_view_module_version": "1.5.0",
            "_view_name": "HTMLView",
            "description": "",
            "description_tooltip": null,
            "layout": "IPY_MODEL_8d869cbe0a2947f2b336d51b26d3ce30",
            "placeholder": "​",
            "style": "IPY_MODEL_90249691143b4d4099171d1d06ffb910",
            "value": " 6128/6128 [00:20&lt;00:00, 471.35 examples/s]"
          }
        },
        "e26436af398f4d0f8b5de895ddc48a71": {
          "model_module": "@jupyter-widgets/controls",
          "model_module_version": "1.5.0",
          "model_name": "HBoxModel",
          "state": {
            "_dom_classes": [],
            "_model_module": "@jupyter-widgets/controls",
            "_model_module_version": "1.5.0",
            "_model_name": "HBoxModel",
            "_view_count": null,
            "_view_module": "@jupyter-widgets/controls",
            "_view_module_version": "1.5.0",
            "_view_name": "HBoxView",
            "box_style": "",
            "children": [
              "IPY_MODEL_b4a628148a824942b6cad637f1b26d81",
              "IPY_MODEL_4c3f4c9f0d994f1391935e4662c9dec3",
              "IPY_MODEL_bce755e1807a42b28b773e5dbe99dd1d"
            ],
            "layout": "IPY_MODEL_23330f96a0de4b1bbdc119c4ba73daae"
          }
        },
        "e80cb7313bf74e2a900a04284f0f1388": {
          "model_module": "@jupyter-widgets/base",
          "model_module_version": "1.2.0",
          "model_name": "LayoutModel",
          "state": {
            "_model_module": "@jupyter-widgets/base",
            "_model_module_version": "1.2.0",
            "_model_name": "LayoutModel",
            "_view_count": null,
            "_view_module": "@jupyter-widgets/base",
            "_view_module_version": "1.2.0",
            "_view_name": "LayoutView",
            "align_content": null,
            "align_items": null,
            "align_self": null,
            "border": null,
            "bottom": null,
            "display": null,
            "flex": null,
            "flex_flow": null,
            "grid_area": null,
            "grid_auto_columns": null,
            "grid_auto_flow": null,
            "grid_auto_rows": null,
            "grid_column": null,
            "grid_gap": null,
            "grid_row": null,
            "grid_template_areas": null,
            "grid_template_columns": null,
            "grid_template_rows": null,
            "height": null,
            "justify_content": null,
            "justify_items": null,
            "left": null,
            "margin": null,
            "max_height": null,
            "max_width": null,
            "min_height": null,
            "min_width": null,
            "object_fit": null,
            "object_position": null,
            "order": null,
            "overflow": null,
            "overflow_x": null,
            "overflow_y": null,
            "padding": null,
            "right": null,
            "top": null,
            "visibility": null,
            "width": null
          }
        },
        "e95c6e5540fa46c7a55d94f4495b4433": {
          "model_module": "@jupyter-widgets/base",
          "model_module_version": "1.2.0",
          "model_name": "LayoutModel",
          "state": {
            "_model_module": "@jupyter-widgets/base",
            "_model_module_version": "1.2.0",
            "_model_name": "LayoutModel",
            "_view_count": null,
            "_view_module": "@jupyter-widgets/base",
            "_view_module_version": "1.2.0",
            "_view_name": "LayoutView",
            "align_content": null,
            "align_items": null,
            "align_self": null,
            "border": null,
            "bottom": null,
            "display": null,
            "flex": null,
            "flex_flow": null,
            "grid_area": null,
            "grid_auto_columns": null,
            "grid_auto_flow": null,
            "grid_auto_rows": null,
            "grid_column": null,
            "grid_gap": null,
            "grid_row": null,
            "grid_template_areas": null,
            "grid_template_columns": null,
            "grid_template_rows": null,
            "height": null,
            "justify_content": null,
            "justify_items": null,
            "left": null,
            "margin": null,
            "max_height": null,
            "max_width": null,
            "min_height": null,
            "min_width": null,
            "object_fit": null,
            "object_position": null,
            "order": null,
            "overflow": null,
            "overflow_x": null,
            "overflow_y": null,
            "padding": null,
            "right": null,
            "top": null,
            "visibility": null,
            "width": null
          }
        },
        "edd967cc753a4024af6722191bcf11fa": {
          "model_module": "@jupyter-widgets/controls",
          "model_module_version": "1.5.0",
          "model_name": "HTMLModel",
          "state": {
            "_dom_classes": [],
            "_model_module": "@jupyter-widgets/controls",
            "_model_module_version": "1.5.0",
            "_model_name": "HTMLModel",
            "_view_count": null,
            "_view_module": "@jupyter-widgets/controls",
            "_view_module_version": "1.5.0",
            "_view_name": "HTMLView",
            "description": "",
            "description_tooltip": null,
            "layout": "IPY_MODEL_405db0844f2f40e68c759e3d8b624b46",
            "placeholder": "​",
            "style": "IPY_MODEL_40bb46fe2e824bb798ce13b850810d95",
            "value": "model-00001-of-00002.safetensors: "
          }
        },
        "ef3d5154c06a443fbbe378f9308cd24f": {
          "model_module": "@jupyter-widgets/controls",
          "model_module_version": "1.5.0",
          "model_name": "HBoxModel",
          "state": {
            "_dom_classes": [],
            "_model_module": "@jupyter-widgets/controls",
            "_model_module_version": "1.5.0",
            "_model_name": "HBoxModel",
            "_view_count": null,
            "_view_module": "@jupyter-widgets/controls",
            "_view_module_version": "1.5.0",
            "_view_name": "HBoxView",
            "box_style": "",
            "children": [
              "IPY_MODEL_1f1fc85b9b304b8fa7730a02c5e55c3e",
              "IPY_MODEL_b8118178cd954d109226b906af4ea549",
              "IPY_MODEL_3f7fcf2bc5ac4a8da0cc7b5dbbd578c0"
            ],
            "layout": "IPY_MODEL_fa90a48e4961450595531073b2b0995f"
          }
        },
        "f0d8b343a42b4025b299a0a2712e77eb": {
          "model_module": "@jupyter-widgets/controls",
          "model_module_version": "1.5.0",
          "model_name": "DescriptionStyleModel",
          "state": {
            "_model_module": "@jupyter-widgets/controls",
            "_model_module_version": "1.5.0",
            "_model_name": "DescriptionStyleModel",
            "_view_count": null,
            "_view_module": "@jupyter-widgets/base",
            "_view_module_version": "1.2.0",
            "_view_name": "StyleView",
            "description_width": ""
          }
        },
        "f1cabdebc4c3475f93f734aa51e3cbff": {
          "model_module": "@jupyter-widgets/controls",
          "model_module_version": "1.5.0",
          "model_name": "HTMLModel",
          "state": {
            "_dom_classes": [],
            "_model_module": "@jupyter-widgets/controls",
            "_model_module_version": "1.5.0",
            "_model_name": "HTMLModel",
            "_view_count": null,
            "_view_module": "@jupyter-widgets/controls",
            "_view_module_version": "1.5.0",
            "_view_name": "HTMLView",
            "description": "",
            "description_tooltip": null,
            "layout": "IPY_MODEL_ffd8835bac6443cdb7d25c01f71b702e",
            "placeholder": "​",
            "style": "IPY_MODEL_6c357b1d7fcf47bcaad18579186a2e7b",
            "value": "model-00002-of-00002.safetensors: 100%"
          }
        },
        "f536a1386f794e06811b3c17190525af": {
          "model_module": "@jupyter-widgets/controls",
          "model_module_version": "1.5.0",
          "model_name": "DescriptionStyleModel",
          "state": {
            "_model_module": "@jupyter-widgets/controls",
            "_model_module_version": "1.5.0",
            "_model_name": "DescriptionStyleModel",
            "_view_count": null,
            "_view_module": "@jupyter-widgets/base",
            "_view_module_version": "1.2.0",
            "_view_name": "StyleView",
            "description_width": ""
          }
        },
        "f5c5489ede3f41efb6974816bdcdb328": {
          "model_module": "@jupyter-widgets/controls",
          "model_module_version": "1.5.0",
          "model_name": "ProgressStyleModel",
          "state": {
            "_model_module": "@jupyter-widgets/controls",
            "_model_module_version": "1.5.0",
            "_model_name": "ProgressStyleModel",
            "_view_count": null,
            "_view_module": "@jupyter-widgets/base",
            "_view_module_version": "1.2.0",
            "_view_name": "StyleView",
            "bar_color": null,
            "description_width": ""
          }
        },
        "f604d002b247414fa0c87c292ca0d58a": {
          "model_module": "@jupyter-widgets/controls",
          "model_module_version": "1.5.0",
          "model_name": "DescriptionStyleModel",
          "state": {
            "_model_module": "@jupyter-widgets/controls",
            "_model_module_version": "1.5.0",
            "_model_name": "DescriptionStyleModel",
            "_view_count": null,
            "_view_module": "@jupyter-widgets/base",
            "_view_module_version": "1.2.0",
            "_view_name": "StyleView",
            "description_width": ""
          }
        },
        "f908c0f37f504bd1b7014e6bc3183f51": {
          "model_module": "@jupyter-widgets/base",
          "model_module_version": "1.2.0",
          "model_name": "LayoutModel",
          "state": {
            "_model_module": "@jupyter-widgets/base",
            "_model_module_version": "1.2.0",
            "_model_name": "LayoutModel",
            "_view_count": null,
            "_view_module": "@jupyter-widgets/base",
            "_view_module_version": "1.2.0",
            "_view_name": "LayoutView",
            "align_content": null,
            "align_items": null,
            "align_self": null,
            "border": null,
            "bottom": null,
            "display": null,
            "flex": null,
            "flex_flow": null,
            "grid_area": null,
            "grid_auto_columns": null,
            "grid_auto_flow": null,
            "grid_auto_rows": null,
            "grid_column": null,
            "grid_gap": null,
            "grid_row": null,
            "grid_template_areas": null,
            "grid_template_columns": null,
            "grid_template_rows": null,
            "height": null,
            "justify_content": null,
            "justify_items": null,
            "left": null,
            "margin": null,
            "max_height": null,
            "max_width": null,
            "min_height": null,
            "min_width": null,
            "object_fit": null,
            "object_position": null,
            "order": null,
            "overflow": null,
            "overflow_x": null,
            "overflow_y": null,
            "padding": null,
            "right": null,
            "top": null,
            "visibility": null,
            "width": null
          }
        },
        "f971de9be0444abdbad6b7e486ea9205": {
          "model_module": "@jupyter-widgets/controls",
          "model_module_version": "1.5.0",
          "model_name": "ProgressStyleModel",
          "state": {
            "_model_module": "@jupyter-widgets/controls",
            "_model_module_version": "1.5.0",
            "_model_name": "ProgressStyleModel",
            "_view_count": null,
            "_view_module": "@jupyter-widgets/base",
            "_view_module_version": "1.2.0",
            "_view_name": "StyleView",
            "bar_color": null,
            "description_width": ""
          }
        },
        "fa90a48e4961450595531073b2b0995f": {
          "model_module": "@jupyter-widgets/base",
          "model_module_version": "1.2.0",
          "model_name": "LayoutModel",
          "state": {
            "_model_module": "@jupyter-widgets/base",
            "_model_module_version": "1.2.0",
            "_model_name": "LayoutModel",
            "_view_count": null,
            "_view_module": "@jupyter-widgets/base",
            "_view_module_version": "1.2.0",
            "_view_name": "LayoutView",
            "align_content": null,
            "align_items": null,
            "align_self": null,
            "border": null,
            "bottom": null,
            "display": null,
            "flex": null,
            "flex_flow": null,
            "grid_area": null,
            "grid_auto_columns": null,
            "grid_auto_flow": null,
            "grid_auto_rows": null,
            "grid_column": null,
            "grid_gap": null,
            "grid_row": null,
            "grid_template_areas": null,
            "grid_template_columns": null,
            "grid_template_rows": null,
            "height": null,
            "justify_content": null,
            "justify_items": null,
            "left": null,
            "margin": null,
            "max_height": null,
            "max_width": null,
            "min_height": null,
            "min_width": null,
            "object_fit": null,
            "object_position": null,
            "order": null,
            "overflow": null,
            "overflow_x": null,
            "overflow_y": null,
            "padding": null,
            "right": null,
            "top": null,
            "visibility": null,
            "width": null
          }
        },
        "fd17bd0fe303408e9bc0f1fa418bed6c": {
          "model_module": "@jupyter-widgets/controls",
          "model_module_version": "1.5.0",
          "model_name": "FloatProgressModel",
          "state": {
            "_dom_classes": [],
            "_model_module": "@jupyter-widgets/controls",
            "_model_module_version": "1.5.0",
            "_model_name": "FloatProgressModel",
            "_view_count": null,
            "_view_module": "@jupyter-widgets/controls",
            "_view_module_version": "1.5.0",
            "_view_name": "ProgressView",
            "bar_style": "success",
            "description": "",
            "description_tooltip": null,
            "layout": "IPY_MODEL_8424b4d072424a68b68e80a9348c3583",
            "max": 3639025080,
            "min": 0,
            "orientation": "horizontal",
            "style": "IPY_MODEL_731516a03c424d749ab68f996d80836f",
            "value": 3639025080
          }
        },
        "ffd8835bac6443cdb7d25c01f71b702e": {
          "model_module": "@jupyter-widgets/base",
          "model_module_version": "1.2.0",
          "model_name": "LayoutModel",
          "state": {
            "_model_module": "@jupyter-widgets/base",
            "_model_module_version": "1.2.0",
            "_model_name": "LayoutModel",
            "_view_count": null,
            "_view_module": "@jupyter-widgets/base",
            "_view_module_version": "1.2.0",
            "_view_name": "LayoutView",
            "align_content": null,
            "align_items": null,
            "align_self": null,
            "border": null,
            "bottom": null,
            "display": null,
            "flex": null,
            "flex_flow": null,
            "grid_area": null,
            "grid_auto_columns": null,
            "grid_auto_flow": null,
            "grid_auto_rows": null,
            "grid_column": null,
            "grid_gap": null,
            "grid_row": null,
            "grid_template_areas": null,
            "grid_template_columns": null,
            "grid_template_rows": null,
            "height": null,
            "justify_content": null,
            "justify_items": null,
            "left": null,
            "margin": null,
            "max_height": null,
            "max_width": null,
            "min_height": null,
            "min_width": null,
            "object_fit": null,
            "object_position": null,
            "order": null,
            "overflow": null,
            "overflow_x": null,
            "overflow_y": null,
            "padding": null,
            "right": null,
            "top": null,
            "visibility": null,
            "width": null
          }
        },
        "ffea977d06cb43fa873f6625c860828b": {
          "model_module": "@jupyter-widgets/controls",
          "model_module_version": "1.5.0",
          "model_name": "FloatProgressModel",
          "state": {
            "_dom_classes": [],
            "_model_module": "@jupyter-widgets/controls",
            "_model_module_version": "1.5.0",
            "_model_name": "FloatProgressModel",
            "_view_count": null,
            "_view_module": "@jupyter-widgets/controls",
            "_view_module_version": "1.5.0",
            "_view_name": "ProgressView",
            "bar_style": "success",
            "description": "",
            "description_tooltip": null,
            "layout": "IPY_MODEL_9c7cff8ae9df4e979781a985009f1d61",
            "max": 6128,
            "min": 0,
            "orientation": "horizontal",
            "style": "IPY_MODEL_db32169018154efea59fb030dbbb15f8",
            "value": 6128
          }
        }
      }
    }
  },
  "nbformat": 4,
  "nbformat_minor": 0
}
